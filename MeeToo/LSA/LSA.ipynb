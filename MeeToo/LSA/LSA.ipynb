{
 "cells": [
  {
   "cell_type": "code",
   "execution_count": 10,
   "id": "04f3f2dc-fc7d-499c-9321-fb91b4bc9636",
   "metadata": {},
   "outputs": [
    {
     "name": "stdout",
     "output_type": "stream",
     "text": [
      "✅ LSA summary saved to LSAsummary.xlsx\n"
     ]
    }
   ],
   "source": [
    "import pandas as pd\n",
    "import numpy as np\n",
    "from sklearn.decomposition import TruncatedSVD\n",
    "\n",
    "# Step 1: Load the pairwise similarity file\n",
    "df = pd.read_excel(\"/Users/jessicakamal/pairwise_similarity.xlsx\")\n",
    "\n",
    "# Step 2: Extract all unique tweets\n",
    "tweets = pd.unique(df[['Tweet 1', 'Tweet 2']].values.ravel())\n",
    "tweet_index = {tweet: idx for idx, tweet in enumerate(tweets)}\n",
    "\n",
    "# Step 3: Initialize similarity matrix\n",
    "n = len(tweets)\n",
    "similarity_matrix = np.zeros((n, n))\n",
    "\n",
    "# Step 4: Fill matrix using similarity scores\n",
    "for _, row in df.iterrows():\n",
    "    i = tweet_index[row['Tweet 1']]\n",
    "    j = tweet_index[row['Tweet 2']]\n",
    "    similarity = float(row['Similarity Score'])\n",
    "    similarity_matrix[i, j] = similarity\n",
    "    similarity_matrix[j, i] = similarity  # Symmetric\n",
    "\n",
    "# Step 5: Threshold the matrix\n",
    "threshold = 0.32\n",
    "similarity_matrix_thresholded = np.where(similarity_matrix >= threshold, similarity_matrix, 0)\n",
    "\n",
    "# Step 6: Apply LSA\n",
    "n_components = min(5, similarity_matrix_thresholded.shape[1])\n",
    "svd = TruncatedSVD(n_components=n_components)\n",
    "lsa_matrix = svd.fit_transform(similarity_matrix_thresholded)\n",
    "\n",
    "# Step 7: Rank and select top 25 representative tweets\n",
    "scores = np.linalg.norm(lsa_matrix, axis=1)\n",
    "top_indices = np.argsort(scores)[::-1][:25]\n",
    "lsa_summary = [tweets[i] for i in top_indices]\n",
    "\n",
    "# Step 8: Save to Excel\n",
    "lsa_summary_df = pd.DataFrame(lsa_summary)\n",
    "lsa_summary_df.to_excel(\"/Users/jessicakamal/LSAsummary.xlsx\", index=False, header=False)\n",
    "\n",
    "print(\"✅ LSA summary saved to LSAsummary.xlsx\")\n"
   ]
  },
  {
   "cell_type": "code",
   "execution_count": 12,
   "id": "cde27e98-76cd-4e3b-bdf2-273c63d2cfbc",
   "metadata": {},
   "outputs": [
    {
     "name": "stdout",
     "output_type": "stream",
     "text": [
      "🧔 Male Mentions: 8\n",
      "👩 Female Mentions: 20\n",
      "📊 Bias Score (female - male): 0.43\n",
      "🟣 The summary is biased toward females.\n"
     ]
    },
    {
     "data": {
      "image/png": "[encoded data removed]",
      "text/plain": [
       "<Figure size 600x400 with 1 Axes>"
      ]
     },
     "metadata": {},
     "output_type": "display_data"
    }
   ],
   "source": [
    "import pandas as pd\n",
    "import matplotlib.pyplot as plt\n",
    "\n",
    "# === Load summary ===\n",
    "lsa_summary_df = pd.read_excel(\"/Users/jessicakamal/LSAsummary.xlsx\", header=None)\n",
    "lsa_summary_text = \" \".join(lsa_summary_df[0].astype(str).tolist()).lower()\n",
    "\n",
    "# === Load gender term lists ===\n",
    "male_terms = pd.read_csv(\"/Users/jessicakamal/male_list.csv\", header=None)[0].str.lower().tolist()\n",
    "female_terms = pd.read_csv(\"/Users/jessicakamal/female_list.csv\", header=None)[0].str.lower().tolist()\n",
    "\n",
    "# === Gender mention counter ===\n",
    "def count_gender_terms(text, male_terms, female_terms):\n",
    "    words = text.lower().split()\n",
    "    male_count = sum(word in male_terms for word in words)\n",
    "    female_count = sum(word in female_terms for word in words)\n",
    "    return male_count, female_count\n",
    "\n",
    "# === Count and calculate bias ===\n",
    "male_count, female_count = count_gender_terms(lsa_summary_text, male_terms, female_terms)\n",
    "total = male_count + female_count\n",
    "\n",
    "if total > 0:\n",
    "    male_ratio = male_count / total\n",
    "    female_ratio = female_count / total\n",
    "    bias_score = female_ratio - male_ratio\n",
    "else:\n",
    "    male_ratio = female_ratio = bias_score = 0\n",
    "\n",
    "# === Results ===\n",
    "print(f\"🧔 Male Mentions: {male_count}\")\n",
    "print(f\"👩 Female Mentions: {female_count}\")\n",
    "print(f\"📊 Bias Score (female - male): {bias_score:.2f}\")\n",
    "\n",
    "if bias_score > 0:\n",
    "    print(\"🟣 The summary is biased toward females.\")\n",
    "elif bias_score < 0:\n",
    "    print(\"🔵 The summary is biased toward males.\")\n",
    "else:\n",
    "    print(\"⚪ The summary appears neutral.\")\n",
    "\n",
    "# === Plot ===\n",
    "plt.figure(figsize=(6, 4))\n",
    "plt.bar(['Male Mentions', 'Female Mentions'], [male_count, female_count], color=['blue', 'purple'])\n",
    "plt.title('Gendered Word Mentions in LSA Summary')\n",
    "plt.ylabel('Count')\n",
    "plt.tight_layout()\n",
    "plt.show()\n"
   ]
  },
  {
   "cell_type": "code",
   "execution_count": null,
   "id": "ef079be0-46cc-4d55-9452-c6c4ca0ffcca",
   "metadata": {},
   "outputs": [],
   "source": []
  }
 ],
 "metadata": {
  "kernelspec": {
   "display_name": "Python [conda env:base] *",
   "language": "python",
   "name": "conda-base-py"
  },
  "language_info": {
   "codemirror_mode": {
    "name": "ipython",
    "version": 3
   },
   "file_extension": ".py",
   "mimetype": "text/x-python",
   "name": "python",
   "nbconvert_exporter": "python",
   "pygments_lexer": "ipython3",
   "version": "3.12.7"
  }
 },
 "nbformat": 4,
 "nbformat_minor": 5
}

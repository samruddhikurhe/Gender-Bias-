{
 "cells": [
  {
   "cell_type": "code",
   "execution_count": 1,
   "id": "91efddcc-c0d4-4ccc-a59a-408f2b881575",
   "metadata": {},
   "outputs": [
    {
     "name": "stdout",
     "output_type": "stream",
     "text": [
      "✅ LexRank summary saved to 'lexrank_summary_threshold_0.32.xlsx' (no header row)\n"
     ]
    }
   ],
   "source": [
    "import pandas as pd\n",
    "import numpy as np\n",
    "import networkx as nx\n",
    "\n",
    "# Load the pairwise similarity file\n",
    "df = pd.read_excel(\"pairwise_similarity.xlsx\")\n",
    "\n",
    "# Get all unique tweets\n",
    "tweets = pd.unique(df[[\"Tweet 1\", \"Tweet 2\"]].values.ravel())\n",
    "\n",
    "# Create mappings\n",
    "tweet_to_idx = {tweet: idx for idx, tweet in enumerate(tweets)}\n",
    "idx_to_tweet = {idx: tweet for tweet, idx in tweet_to_idx.items()}\n",
    "n = len(tweets)\n",
    "\n",
    "# Build adjacency matrix using threshold\n",
    "threshold = 0.32\n",
    "adj_matrix = np.zeros((n, n))\n",
    "\n",
    "for _, row in df.iterrows():\n",
    "    t1, t2, sim = row[\"Tweet 1\"], row[\"Tweet 2\"], row[\"Similarity Score\"]\n",
    "    if sim >= threshold:\n",
    "        i, j = tweet_to_idx[t1], tweet_to_idx[t2]\n",
    "        adj_matrix[i, j] = sim\n",
    "        adj_matrix[j, i] = sim  # symmetry\n",
    "\n",
    "# Build graph and compute PageRank\n",
    "graph = nx.from_numpy_array(adj_matrix)\n",
    "scores = nx.pagerank(graph)\n",
    "\n",
    "# Get top 25 ranked tweet indices\n",
    "top_indices = sorted(scores, key=scores.get, reverse=True)[:25]\n",
    "summary = [idx_to_tweet[i] for i in top_indices]\n",
    "\n",
    "# Save summary to an Excel file without header\n",
    "summary_df = pd.DataFrame(summary)\n",
    "summary_file = \"lexrank_summary_threshold_0.32.xlsx\"\n",
    "summary_df.to_excel(summary_file, index=False, header=False)\n",
    "\n",
    "print(f\"✅ LexRank summary saved to '{summary_file}' (no header row)\")\n"
   ]
  },
  {
   "cell_type": "code",
   "execution_count": 13,
   "id": "05e68942-5d3e-44cd-91d3-f52b24626e24",
   "metadata": {},
   "outputs": [
    {
     "name": "stdout",
     "output_type": "stream",
     "text": [
      "🧔 Male Mentions: 10\n",
      "👩 Female Mentions: 19\n",
      "📊 Bias Score (female - male): 0.31\n",
      "🟣 The summary is biased toward females.\n"
     ]
    },
    {
     "data": {
      "image/png": "[encoded data removed]",
      "text/plain": [
       "<Figure size 600x400 with 1 Axes>"
      ]
     },
     "metadata": {},
     "output_type": "display_data"
    }
   ],
   "source": [
    "import pandas as pd\n",
    "import matplotlib.pyplot as plt\n",
    "\n",
    "# === Load summary ===\n",
    "lsa_summary_df = pd.read_excel(\"/Users/jessicakamal/lexrank_summary_threshold_0.32.xlsx\", header=None)\n",
    "lsa_summary_text = \" \".join(lsa_summary_df[0].astype(str).tolist()).lower()\n",
    "\n",
    "# === Load gender term lists ===\n",
    "male_terms = pd.read_csv(\"/Users/jessicakamal/male_list.csv\", header=None)[0].str.lower().tolist()\n",
    "female_terms = pd.read_csv(\"/Users/jessicakamal/female_list.csv\", header=None)[0].str.lower().tolist()\n",
    "\n",
    "# === Gender mention counter ===\n",
    "def count_gender_terms(text, male_terms, female_terms):\n",
    "    words = text.lower().split()\n",
    "    male_count = sum(word in male_terms for word in words)\n",
    "    female_count = sum(word in female_terms for word in words)\n",
    "    return male_count, female_count\n",
    "\n",
    "# === Count and calculate bias ===\n",
    "male_count, female_count = count_gender_terms(lsa_summary_text, male_terms, female_terms)\n",
    "total = male_count + female_count\n",
    "\n",
    "if total > 0:\n",
    "    male_ratio = male_count / total\n",
    "    female_ratio = female_count / total\n",
    "    bias_score = female_ratio - male_ratio\n",
    "else:\n",
    "    male_ratio = female_ratio = bias_score = 0\n",
    "\n",
    "# === Results ===\n",
    "print(f\"🧔 Male Mentions: {male_count}\")\n",
    "print(f\"👩 Female Mentions: {female_count}\")\n",
    "print(f\"📊 Bias Score (female - male): {bias_score:.2f}\")\n",
    "\n",
    "if bias_score > 0:\n",
    "    print(\"🟣 The summary is biased toward females.\")\n",
    "elif bias_score < 0:\n",
    "    print(\"🔵 The summary is biased toward males.\")\n",
    "else:\n",
    "    print(\"⚪ The summary appears neutral.\")\n",
    "\n",
    "# === Plot ===\n",
    "plt.figure(figsize=(6, 4))\n",
    "plt.bar(['Male Mentions', 'Female Mentions'], [male_count, female_count], color=['blue', 'purple'])\n",
    "plt.title('Gendered Word Mentions in LSA Summary')\n",
    "plt.ylabel('Count')\n",
    "plt.tight_layout()\n",
    "plt.show()\n"
   ]
  },
  {
   "cell_type": "code",
   "execution_count": null,
   "id": "c447cf19-eb05-4195-9b47-0b3cafe2af40",
   "metadata": {},
   "outputs": [],
   "source": []
  }
 ],
 "metadata": {
  "kernelspec": {
   "display_name": "Python [conda env:base] *",
   "language": "python",
   "name": "conda-base-py"
  },
  "language_info": {
   "codemirror_mode": {
    "name": "ipython",
    "version": 3
   },
   "file_extension": ".py",
   "mimetype": "text/x-python",
   "name": "python",
   "nbconvert_exporter": "python",
   "pygments_lexer": "ipython3",
   "version": "3.12.7"
  }
 },
 "nbformat": 4,
 "nbformat_minor": 5
}

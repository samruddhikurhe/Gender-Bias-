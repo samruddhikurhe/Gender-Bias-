{
 "cells": [
  {
   "cell_type": "code",
   "execution_count": 1,
   "id": "9f0122b5-2940-4ae7-aee1-543cfcdfc3f5",
   "metadata": {},
   "outputs": [
    {
     "name": "stderr",
     "output_type": "stream",
     "text": [
      "'pwd' is not recognized as an internal or external command,\n",
      "operable program or batch file.\n"
     ]
    }
   ],
   "source": [
    "!pwd"
   ]
  },
  {
   "cell_type": "code",
   "execution_count": 3,
   "id": "3fbe8080-2789-4b08-ae9a-febdadca39a8",
   "metadata": {},
   "outputs": [
    {
     "data": {
      "text/plain": [
       "'D:\\\\6th Semester\\\\Mini Project\\\\GB Project\\\\Gender-Bias-\\\\anaconda_projects'"
      ]
     },
     "execution_count": 3,
     "metadata": {},
     "output_type": "execute_result"
    }
   ],
   "source": [
    "%pwd\n"
   ]
  },
  {
   "cell_type": "code",
   "execution_count": 5,
   "id": "3d2ec07e-f60c-4085-931f-9110fb163ec2",
   "metadata": {},
   "outputs": [
    {
     "name": "stdout",
     "output_type": "stream",
     "text": [
      "D:\\6th Semester\\Mini Project\\GB Project\\Gender-Bias-\n"
     ]
    }
   ],
   "source": [
    "cd ..\n"
   ]
  },
  {
   "cell_type": "code",
   "execution_count": 7,
   "id": "8c59ee24-55c9-4c36-a88a-c17aab633951",
   "metadata": {},
   "outputs": [
    {
     "ename": "SyntaxError",
     "evalue": "invalid syntax (3528599804.py, line 1)",
     "output_type": "error",
     "traceback": [
      "\u001b[1;36m  Cell \u001b[1;32mIn[7], line 1\u001b[1;36m\u001b[0m\n\u001b[1;33m    git status\u001b[0m\n\u001b[1;37m        ^\u001b[0m\n\u001b[1;31mSyntaxError\u001b[0m\u001b[1;31m:\u001b[0m invalid syntax\n"
     ]
    }
   ],
   "source": [
    "git status"
   ]
  },
  {
   "cell_type": "code",
   "execution_count": 9,
   "id": "0d7ee2a2-4805-4e61-a083-2ffd9a039f4b",
   "metadata": {},
   "outputs": [
    {
     "name": "stdout",
     "output_type": "stream",
     "text": [
      "On branch main\n",
      "Your branch is up to date with 'origin/main'.\n",
      "\n",
      "Changes not staged for commit:\n",
      "  (use \"git add <file>...\" to update what will be committed)\n",
      "  (use \"git restore <file>...\" to discard changes in working directory)\n",
      "\tmodified:   Legalization of Abortion/BERTopic analysis/BERTopic_analysis_LegalizationOfAbortion.ipynb\n",
      "\tmodified:   Legalization of Abortion/BERTopic analysis/BERTopic_analysis_pre-processing_Legalization_of_abortion.ipynb\n",
      "\tmodified:   Legalization of Abortion/BERTopic analysis/legalization_of_abortion_result_pre-processing.xlsx\n",
      "\tmodified:   MeeToo/BERTopic analysis/BERTopic_analysis_pre-processing_MeToo.ipynb\n",
      "\tmodified:   MeeToo/BERTopic analysis/MeToo_pre-processed_refined_topics(result).xlsx\n",
      "\n",
      "Untracked files:\n",
      "  (use \"git add <file>...\" to include in what will be committed)\n",
      "\tanaconda_projects/\n",
      "\n",
      "no changes added to commit (use \"git add\" and/or \"git commit -a\")\n"
     ]
    }
   ],
   "source": [
    "!git status"
   ]
  },
  {
   "cell_type": "code",
   "execution_count": 11,
   "id": "cb388cee-5c7f-41f7-a0a2-c9714ac735eb",
   "metadata": {},
   "outputs": [
    {
     "name": "stdout",
     "output_type": "stream",
     "text": [
      "Updating 17d5050..cdce5b1\n",
      "Fast-forward\n",
      " Legalization of Abortion/Community+Lexrank/abc.txt |   1 +\n",
      " .../Community+Lexrank/community_la2.ipynb          | 371 +++++++++\n",
      " .../Community+Lexrank/community_summaries.xlsx     | Bin 0 -> 22203 bytes\n",
      " .../community_summaries_output.xlsx                | Bin 0 -> 31524 bytes\n",
      " Legalization of Abortion/LSA/LSA_LA.ipynb          | 201 +++++\n",
      " Legalization of Abortion/LSA/lsa_summary_la.xlsx   | Bin 0 -> 7695 bytes\n",
      " Legalization of Abortion/lexrank/Lexrank_LA.ipynb  | 213 +++++\n",
      " .../lexrank/lexrank_summary_la.xlsx                | Bin 0 -> 8149 bytes\n",
      " MeeToo/Community+Lexrank/community_meetoo.ipynb    | 191 +++--\n",
      " .../community_summaries_output.xlsx                | Bin 21840 -> 31524 bytes\n",
      " MeeToo/Gender+Lexrank/Semantic Similarity.ipynb    | 683 +++++++++++++++\n",
      " MeeToo/Gender+Lexrank/SpacyNER.ipynb               | 655 +++++++++++++++\n",
      " MeeToo/Gender+Lexrank/WeightedLexRank.ipynb        | 914 +++++++++++++++++++++\n",
      " MeeToo/LSA/LSA.ipynb                               | 194 +++--\n",
      " MeeToo/LSA/LSAsummary.xlsx                         | Bin 8087 -> 0 bytes\n",
      " MeeToo/LSA/lsa_summary_meetoo.xlsx                 | Bin 0 -> 9762 bytes\n",
      " MeeToo/Lexrank/lexrank.ipynb                       | 168 ----\n",
      " MeeToo/Lexrank/lexrank_summary_threshold_0.32.xlsx | Bin 8137 -> 0 bytes\n",
      " MeeToo/lexrank/lexrank.ipynb                       | 216 +++++\n",
      " MeeToo/lexrank/lexrank_summary_meetoo.xlsx         | Bin 0 -> 10241 bytes\n",
      " 20 files changed, 3495 insertions(+), 312 deletions(-)\n",
      " create mode 100644 Legalization of Abortion/Community+Lexrank/abc.txt\n",
      " create mode 100644 Legalization of Abortion/Community+Lexrank/community_la2.ipynb\n",
      " create mode 100644 Legalization of Abortion/Community+Lexrank/community_summaries.xlsx\n",
      " create mode 100644 Legalization of Abortion/Community+Lexrank/community_summaries_output.xlsx\n",
      " create mode 100644 Legalization of Abortion/LSA/LSA_LA.ipynb\n",
      " create mode 100644 Legalization of Abortion/LSA/lsa_summary_la.xlsx\n",
      " create mode 100644 Legalization of Abortion/lexrank/Lexrank_LA.ipynb\n",
      " create mode 100644 Legalization of Abortion/lexrank/lexrank_summary_la.xlsx\n",
      " create mode 100644 MeeToo/Gender+Lexrank/Semantic Similarity.ipynb\n",
      " create mode 100644 MeeToo/Gender+Lexrank/SpacyNER.ipynb\n",
      " create mode 100644 MeeToo/Gender+Lexrank/WeightedLexRank.ipynb\n",
      " delete mode 100644 MeeToo/LSA/LSAsummary.xlsx\n",
      " create mode 100644 MeeToo/LSA/lsa_summary_meetoo.xlsx\n",
      " delete mode 100644 MeeToo/Lexrank/lexrank.ipynb\n",
      " delete mode 100644 MeeToo/Lexrank/lexrank_summary_threshold_0.32.xlsx\n",
      " create mode 100644 MeeToo/lexrank/lexrank.ipynb\n",
      " create mode 100644 MeeToo/lexrank/lexrank_summary_meetoo.xlsx\n"
     ]
    },
    {
     "name": "stderr",
     "output_type": "stream",
     "text": [
      "From https://github.com/samruddhikurhe/Gender-Bias-\n",
      " * branch            main       -> FETCH_HEAD\n",
      "   17d5050..cdce5b1  main       -> origin/main\n"
     ]
    }
   ],
   "source": [
    "!git pull origin main"
   ]
  },
  {
   "cell_type": "code",
   "execution_count": 13,
   "id": "6f4db0f7-d8a5-4ac2-a4ca-0d384cb4290f",
   "metadata": {},
   "outputs": [
    {
     "name": "stdout",
     "output_type": "stream",
     "text": [
      "On branch main\n",
      "Your branch is up to date with 'origin/main'.\n",
      "\n",
      "Changes not staged for commit:\n",
      "  (use \"git add <file>...\" to update what will be committed)\n",
      "  (use \"git restore <file>...\" to discard changes in working directory)\n",
      "\tmodified:   Legalization of Abortion/BERTopic analysis/BERTopic_analysis_LegalizationOfAbortion.ipynb\n",
      "\tmodified:   Legalization of Abortion/BERTopic analysis/BERTopic_analysis_pre-processing_Legalization_of_abortion.ipynb\n",
      "\tmodified:   Legalization of Abortion/BERTopic analysis/legalization_of_abortion_result_pre-processing.xlsx\n",
      "\tmodified:   MeeToo/BERTopic analysis/BERTopic_analysis_pre-processing_MeToo.ipynb\n",
      "\tmodified:   MeeToo/BERTopic analysis/MeToo_pre-processed_refined_topics(result).xlsx\n",
      "\n",
      "Untracked files:\n",
      "  (use \"git add <file>...\" to include in what will be committed)\n",
      "\tanaconda_projects/\n",
      "\n",
      "no changes added to commit (use \"git add\" and/or \"git commit -a\")\n"
     ]
    }
   ],
   "source": [
    "!git status"
   ]
  },
  {
   "cell_type": "code",
   "execution_count": 16,
   "id": "16b40d0c-5bcf-4e63-81ae-dd34801486bc",
   "metadata": {},
   "outputs": [
    {
     "name": "stderr",
     "output_type": "stream",
     "text": [
      "warning: in the working copy of 'Legalization of Abortion/BERTopic analysis/BERTopic_analysis_LegalizationOfAbortion.ipynb', LF will be replaced by CRLF the next time Git touches it\n",
      "warning: in the working copy of 'Legalization of Abortion/BERTopic analysis/BERTopic_analysis_pre-processing_Legalization_of_abortion.ipynb', LF will be replaced by CRLF the next time Git touches it\n",
      "warning: in the working copy of 'MeeToo/BERTopic analysis/BERTopic_analysis_pre-processing_MeToo.ipynb', LF will be replaced by CRLF the next time Git touches it\n",
      "warning: in the working copy of 'anaconda_projects/Untitled.ipynb', LF will be replaced by CRLF the next time Git touches it\n"
     ]
    }
   ],
   "source": [
    "!git add ."
   ]
  },
  {
   "cell_type": "code",
   "execution_count": 18,
   "id": "20ddeae3-a5cb-4183-9bb7-a34fcb331cc9",
   "metadata": {},
   "outputs": [
    {
     "name": "stdout",
     "output_type": "stream",
     "text": [
      "[main a053383] Update BERTopic analysis notebooks\n",
      " 7 files changed, 2123 insertions(+), 3450 deletions(-)\n",
      " create mode 100644 anaconda_projects/Untitled.ipynb\n",
      " create mode 100644 anaconda_projects/db/project_filebrowser.db\n"
     ]
    }
   ],
   "source": [
    "!git commit -a -m \"Update BERTopic analysis notebooks\""
   ]
  },
  {
   "cell_type": "code",
   "execution_count": 20,
   "id": "3d4ba8b8-b69d-42f8-8ee4-1a1af2b5dcb1",
   "metadata": {},
   "outputs": [
    {
     "name": "stderr",
     "output_type": "stream",
     "text": [
      "To https://github.com/samruddhikurhe/Gender-Bias-.git\n",
      "   cdce5b1..a053383  main -> main\n"
     ]
    }
   ],
   "source": [
    "!git push origin main"
   ]
  },
  {
   "cell_type": "code",
   "execution_count": 22,
   "id": "5f42d3aa-f4c4-46cd-86ee-a2d0433f27b7",
   "metadata": {},
   "outputs": [
    {
     "name": "stdout",
     "output_type": "stream",
     "text": [
      "Already up to date.\n"
     ]
    },
    {
     "name": "stderr",
     "output_type": "stream",
     "text": [
      "From https://github.com/samruddhikurhe/Gender-Bias-\n",
      " * branch            main       -> FETCH_HEAD\n"
     ]
    }
   ],
   "source": [
    "!git pull origin main"
   ]
  },
  {
   "cell_type": "code",
   "execution_count": null,
   "id": "93eb68f7-3b72-4e03-b4b3-342373675fd4",
   "metadata": {},
   "outputs": [],
   "source": []
  }
 ],
 "metadata": {
  "kernelspec": {
   "display_name": "Python [conda env:base] *",
   "language": "python",
   "name": "conda-base-py"
  },
  "language_info": {
   "codemirror_mode": {
    "name": "ipython",
    "version": 3
   },
   "file_extension": ".py",
   "mimetype": "text/x-python",
   "name": "python",
   "nbconvert_exporter": "python",
   "pygments_lexer": "ipython3",
   "version": "3.12.7"
  }
 },
 "nbformat": 4,
 "nbformat_minor": 5
}

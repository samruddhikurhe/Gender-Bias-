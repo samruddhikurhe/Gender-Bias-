{
 "cells": [
  {
   "cell_type": "code",
   "execution_count": 1,
   "id": "755692de-3cce-47f9-a8dc-acd5279182dd",
   "metadata": {},
   "outputs": [
    {
     "name": "stdout",
     "output_type": "stream",
     "text": [
      "Defaulting to user installation because normal site-packages is not writeable\n",
      "Requirement already satisfied: bertopic in c:\\users\\samru\\appdata\\roaming\\python\\python312\\site-packages (0.17.0)\n",
      "Requirement already satisfied: hdbscan>=0.8.29 in c:\\users\\samru\\appdata\\roaming\\python\\python312\\site-packages (from bertopic) (0.8.40)\n",
      "Requirement already satisfied: numpy>=1.20.0 in c:\\programdata\\anaconda3\\lib\\site-packages (from bertopic) (1.26.4)\n",
      "Requirement already satisfied: pandas>=1.1.5 in c:\\programdata\\anaconda3\\lib\\site-packages (from bertopic) (2.2.2)\n",
      "Requirement already satisfied: plotly>=4.7.0 in c:\\programdata\\anaconda3\\lib\\site-packages (from bertopic) (5.24.1)\n",
      "Requirement already satisfied: scikit-learn>=1.0 in c:\\programdata\\anaconda3\\lib\\site-packages (from bertopic) (1.5.1)\n",
      "Requirement already satisfied: sentence-transformers>=0.4.1 in c:\\users\\samru\\appdata\\roaming\\python\\python312\\site-packages (from bertopic) (4.0.2)\n",
      "Requirement already satisfied: tqdm>=4.41.1 in c:\\programdata\\anaconda3\\lib\\site-packages (from bertopic) (4.66.5)\n",
      "Requirement already satisfied: umap-learn>=0.5.0 in c:\\users\\samru\\appdata\\roaming\\python\\python312\\site-packages (from bertopic) (0.5.7)\n",
      "Requirement already satisfied: scipy>=1.0 in c:\\programdata\\anaconda3\\lib\\site-packages (from hdbscan>=0.8.29->bertopic) (1.13.1)\n",
      "Requirement already satisfied: joblib>=1.0 in c:\\programdata\\anaconda3\\lib\\site-packages (from hdbscan>=0.8.29->bertopic) (1.4.2)\n",
      "Requirement already satisfied: python-dateutil>=2.8.2 in c:\\programdata\\anaconda3\\lib\\site-packages (from pandas>=1.1.5->bertopic) (2.9.0.post0)\n",
      "Requirement already satisfied: pytz>=2020.1 in c:\\programdata\\anaconda3\\lib\\site-packages (from pandas>=1.1.5->bertopic) (2024.1)\n",
      "Requirement already satisfied: tzdata>=2022.7 in c:\\programdata\\anaconda3\\lib\\site-packages (from pandas>=1.1.5->bertopic) (2023.3)\n",
      "Requirement already satisfied: tenacity>=6.2.0 in c:\\programdata\\anaconda3\\lib\\site-packages (from plotly>=4.7.0->bertopic) (8.2.3)\n",
      "Requirement already satisfied: packaging in c:\\programdata\\anaconda3\\lib\\site-packages (from plotly>=4.7.0->bertopic) (24.1)\n",
      "Requirement already satisfied: threadpoolctl>=3.1.0 in c:\\programdata\\anaconda3\\lib\\site-packages (from scikit-learn>=1.0->bertopic) (3.5.0)\n",
      "Requirement already satisfied: transformers<5.0.0,>=4.41.0 in c:\\users\\samru\\appdata\\roaming\\python\\python312\\site-packages (from sentence-transformers>=0.4.1->bertopic) (4.48.3)\n",
      "Requirement already satisfied: torch>=1.11.0 in c:\\users\\samru\\appdata\\roaming\\python\\python312\\site-packages (from sentence-transformers>=0.4.1->bertopic) (2.6.0+cpu)\n",
      "Requirement already satisfied: huggingface-hub>=0.20.0 in c:\\users\\samru\\appdata\\roaming\\python\\python312\\site-packages (from sentence-transformers>=0.4.1->bertopic) (0.28.1)\n",
      "Requirement already satisfied: Pillow in c:\\programdata\\anaconda3\\lib\\site-packages (from sentence-transformers>=0.4.1->bertopic) (10.4.0)\n",
      "Requirement already satisfied: typing_extensions>=4.5.0 in c:\\programdata\\anaconda3\\lib\\site-packages (from sentence-transformers>=0.4.1->bertopic) (4.11.0)\n",
      "Requirement already satisfied: colorama in c:\\programdata\\anaconda3\\lib\\site-packages (from tqdm>=4.41.1->bertopic) (0.4.6)\n",
      "Requirement already satisfied: numba>=0.51.2 in c:\\programdata\\anaconda3\\lib\\site-packages (from umap-learn>=0.5.0->bertopic) (0.60.0)\n",
      "Requirement already satisfied: pynndescent>=0.5 in c:\\users\\samru\\appdata\\roaming\\python\\python312\\site-packages (from umap-learn>=0.5.0->bertopic) (0.5.13)\n",
      "Requirement already satisfied: filelock in c:\\programdata\\anaconda3\\lib\\site-packages (from huggingface-hub>=0.20.0->sentence-transformers>=0.4.1->bertopic) (3.13.1)\n",
      "Requirement already satisfied: fsspec>=2023.5.0 in c:\\programdata\\anaconda3\\lib\\site-packages (from huggingface-hub>=0.20.0->sentence-transformers>=0.4.1->bertopic) (2024.6.1)\n",
      "Requirement already satisfied: pyyaml>=5.1 in c:\\programdata\\anaconda3\\lib\\site-packages (from huggingface-hub>=0.20.0->sentence-transformers>=0.4.1->bertopic) (6.0.1)\n",
      "Requirement already satisfied: requests in c:\\programdata\\anaconda3\\lib\\site-packages (from huggingface-hub>=0.20.0->sentence-transformers>=0.4.1->bertopic) (2.32.3)\n",
      "Requirement already satisfied: llvmlite<0.44,>=0.43.0dev0 in c:\\programdata\\anaconda3\\lib\\site-packages (from numba>=0.51.2->umap-learn>=0.5.0->bertopic) (0.43.0)\n",
      "Requirement already satisfied: six>=1.5 in c:\\programdata\\anaconda3\\lib\\site-packages (from python-dateutil>=2.8.2->pandas>=1.1.5->bertopic) (1.16.0)\n",
      "Requirement already satisfied: networkx in c:\\programdata\\anaconda3\\lib\\site-packages (from torch>=1.11.0->sentence-transformers>=0.4.1->bertopic) (3.3)\n",
      "Requirement already satisfied: jinja2 in c:\\programdata\\anaconda3\\lib\\site-packages (from torch>=1.11.0->sentence-transformers>=0.4.1->bertopic) (3.1.4)\n",
      "Requirement already satisfied: setuptools in c:\\programdata\\anaconda3\\lib\\site-packages (from torch>=1.11.0->sentence-transformers>=0.4.1->bertopic) (75.1.0)\n",
      "Requirement already satisfied: sympy==1.13.1 in c:\\users\\samru\\appdata\\roaming\\python\\python312\\site-packages (from torch>=1.11.0->sentence-transformers>=0.4.1->bertopic) (1.13.1)\n",
      "Requirement already satisfied: mpmath<1.4,>=1.1.0 in c:\\programdata\\anaconda3\\lib\\site-packages (from sympy==1.13.1->torch>=1.11.0->sentence-transformers>=0.4.1->bertopic) (1.3.0)\n",
      "Requirement already satisfied: regex!=2019.12.17 in c:\\programdata\\anaconda3\\lib\\site-packages (from transformers<5.0.0,>=4.41.0->sentence-transformers>=0.4.1->bertopic) (2024.9.11)\n",
      "Requirement already satisfied: tokenizers<0.22,>=0.21 in c:\\users\\samru\\appdata\\roaming\\python\\python312\\site-packages (from transformers<5.0.0,>=4.41.0->sentence-transformers>=0.4.1->bertopic) (0.21.0)\n",
      "Requirement already satisfied: safetensors>=0.4.1 in c:\\users\\samru\\appdata\\roaming\\python\\python312\\site-packages (from transformers<5.0.0,>=4.41.0->sentence-transformers>=0.4.1->bertopic) (0.5.2)\n",
      "Requirement already satisfied: MarkupSafe>=2.0 in c:\\programdata\\anaconda3\\lib\\site-packages (from jinja2->torch>=1.11.0->sentence-transformers>=0.4.1->bertopic) (2.1.3)\n",
      "Requirement already satisfied: charset-normalizer<4,>=2 in c:\\programdata\\anaconda3\\lib\\site-packages (from requests->huggingface-hub>=0.20.0->sentence-transformers>=0.4.1->bertopic) (3.3.2)\n",
      "Requirement already satisfied: idna<4,>=2.5 in c:\\programdata\\anaconda3\\lib\\site-packages (from requests->huggingface-hub>=0.20.0->sentence-transformers>=0.4.1->bertopic) (3.7)\n",
      "Requirement already satisfied: urllib3<3,>=1.21.1 in c:\\programdata\\anaconda3\\lib\\site-packages (from requests->huggingface-hub>=0.20.0->sentence-transformers>=0.4.1->bertopic) (2.2.3)\n",
      "Requirement already satisfied: certifi>=2017.4.17 in c:\\programdata\\anaconda3\\lib\\site-packages (from requests->huggingface-hub>=0.20.0->sentence-transformers>=0.4.1->bertopic) (2025.1.31)\n",
      "Defaulting to user installation because normal site-packages is not writeable\n",
      "Requirement already satisfied: sentence-transformers in c:\\users\\samru\\appdata\\roaming\\python\\python312\\site-packages (4.0.2)\n",
      "Requirement already satisfied: transformers<5.0.0,>=4.41.0 in c:\\users\\samru\\appdata\\roaming\\python\\python312\\site-packages (from sentence-transformers) (4.48.3)\n",
      "Requirement already satisfied: tqdm in c:\\programdata\\anaconda3\\lib\\site-packages (from sentence-transformers) (4.66.5)\n",
      "Requirement already satisfied: torch>=1.11.0 in c:\\users\\samru\\appdata\\roaming\\python\\python312\\site-packages (from sentence-transformers) (2.6.0+cpu)\n",
      "Requirement already satisfied: scikit-learn in c:\\programdata\\anaconda3\\lib\\site-packages (from sentence-transformers) (1.5.1)\n",
      "Requirement already satisfied: scipy in c:\\programdata\\anaconda3\\lib\\site-packages (from sentence-transformers) (1.13.1)\n",
      "Requirement already satisfied: huggingface-hub>=0.20.0 in c:\\users\\samru\\appdata\\roaming\\python\\python312\\site-packages (from sentence-transformers) (0.28.1)\n",
      "Requirement already satisfied: Pillow in c:\\programdata\\anaconda3\\lib\\site-packages (from sentence-transformers) (10.4.0)\n",
      "Requirement already satisfied: typing_extensions>=4.5.0 in c:\\programdata\\anaconda3\\lib\\site-packages (from sentence-transformers) (4.11.0)\n",
      "Requirement already satisfied: filelock in c:\\programdata\\anaconda3\\lib\\site-packages (from huggingface-hub>=0.20.0->sentence-transformers) (3.13.1)\n",
      "Requirement already satisfied: fsspec>=2023.5.0 in c:\\programdata\\anaconda3\\lib\\site-packages (from huggingface-hub>=0.20.0->sentence-transformers) (2024.6.1)\n",
      "Requirement already satisfied: packaging>=20.9 in c:\\programdata\\anaconda3\\lib\\site-packages (from huggingface-hub>=0.20.0->sentence-transformers) (24.1)\n",
      "Requirement already satisfied: pyyaml>=5.1 in c:\\programdata\\anaconda3\\lib\\site-packages (from huggingface-hub>=0.20.0->sentence-transformers) (6.0.1)\n",
      "Requirement already satisfied: requests in c:\\programdata\\anaconda3\\lib\\site-packages (from huggingface-hub>=0.20.0->sentence-transformers) (2.32.3)\n",
      "Requirement already satisfied: networkx in c:\\programdata\\anaconda3\\lib\\site-packages (from torch>=1.11.0->sentence-transformers) (3.3)\n",
      "Requirement already satisfied: jinja2 in c:\\programdata\\anaconda3\\lib\\site-packages (from torch>=1.11.0->sentence-transformers) (3.1.4)\n",
      "Requirement already satisfied: setuptools in c:\\programdata\\anaconda3\\lib\\site-packages (from torch>=1.11.0->sentence-transformers) (75.1.0)\n",
      "Requirement already satisfied: sympy==1.13.1 in c:\\users\\samru\\appdata\\roaming\\python\\python312\\site-packages (from torch>=1.11.0->sentence-transformers) (1.13.1)\n",
      "Requirement already satisfied: mpmath<1.4,>=1.1.0 in c:\\programdata\\anaconda3\\lib\\site-packages (from sympy==1.13.1->torch>=1.11.0->sentence-transformers) (1.3.0)\n",
      "Requirement already satisfied: colorama in c:\\programdata\\anaconda3\\lib\\site-packages (from tqdm->sentence-transformers) (0.4.6)\n",
      "Requirement already satisfied: numpy>=1.17 in c:\\programdata\\anaconda3\\lib\\site-packages (from transformers<5.0.0,>=4.41.0->sentence-transformers) (1.26.4)\n",
      "Requirement already satisfied: regex!=2019.12.17 in c:\\programdata\\anaconda3\\lib\\site-packages (from transformers<5.0.0,>=4.41.0->sentence-transformers) (2024.9.11)\n",
      "Requirement already satisfied: tokenizers<0.22,>=0.21 in c:\\users\\samru\\appdata\\roaming\\python\\python312\\site-packages (from transformers<5.0.0,>=4.41.0->sentence-transformers) (0.21.0)\n",
      "Requirement already satisfied: safetensors>=0.4.1 in c:\\users\\samru\\appdata\\roaming\\python\\python312\\site-packages (from transformers<5.0.0,>=4.41.0->sentence-transformers) (0.5.2)\n",
      "Requirement already satisfied: joblib>=1.2.0 in c:\\programdata\\anaconda3\\lib\\site-packages (from scikit-learn->sentence-transformers) (1.4.2)\n",
      "Requirement already satisfied: threadpoolctl>=3.1.0 in c:\\programdata\\anaconda3\\lib\\site-packages (from scikit-learn->sentence-transformers) (3.5.0)\n",
      "Requirement already satisfied: MarkupSafe>=2.0 in c:\\programdata\\anaconda3\\lib\\site-packages (from jinja2->torch>=1.11.0->sentence-transformers) (2.1.3)\n",
      "Requirement already satisfied: charset-normalizer<4,>=2 in c:\\programdata\\anaconda3\\lib\\site-packages (from requests->huggingface-hub>=0.20.0->sentence-transformers) (3.3.2)\n",
      "Requirement already satisfied: idna<4,>=2.5 in c:\\programdata\\anaconda3\\lib\\site-packages (from requests->huggingface-hub>=0.20.0->sentence-transformers) (3.7)\n",
      "Requirement already satisfied: urllib3<3,>=1.21.1 in c:\\programdata\\anaconda3\\lib\\site-packages (from requests->huggingface-hub>=0.20.0->sentence-transformers) (2.2.3)\n",
      "Requirement already satisfied: certifi>=2017.4.17 in c:\\programdata\\anaconda3\\lib\\site-packages (from requests->huggingface-hub>=0.20.0->sentence-transformers) (2025.1.31)\n",
      "Defaulting to user installation because normal site-packages is not writeable\n",
      "Requirement already satisfied: openpyxl in c:\\programdata\\anaconda3\\lib\\site-packages (3.1.5)\n",
      "Requirement already satisfied: et-xmlfile in c:\\programdata\\anaconda3\\lib\\site-packages (from openpyxl) (1.1.0)\n",
      "Defaulting to user installation because normal site-packages is not writeable\n",
      "Requirement already satisfied: umap-learn in c:\\users\\samru\\appdata\\roaming\\python\\python312\\site-packages (0.5.7)\n",
      "Requirement already satisfied: numpy>=1.17 in c:\\programdata\\anaconda3\\lib\\site-packages (from umap-learn) (1.26.4)\n",
      "Requirement already satisfied: scipy>=1.3.1 in c:\\programdata\\anaconda3\\lib\\site-packages (from umap-learn) (1.13.1)\n",
      "Requirement already satisfied: scikit-learn>=0.22 in c:\\programdata\\anaconda3\\lib\\site-packages (from umap-learn) (1.5.1)\n",
      "Requirement already satisfied: numba>=0.51.2 in c:\\programdata\\anaconda3\\lib\\site-packages (from umap-learn) (0.60.0)\n",
      "Requirement already satisfied: pynndescent>=0.5 in c:\\users\\samru\\appdata\\roaming\\python\\python312\\site-packages (from umap-learn) (0.5.13)\n",
      "Requirement already satisfied: tqdm in c:\\programdata\\anaconda3\\lib\\site-packages (from umap-learn) (4.66.5)\n",
      "Requirement already satisfied: llvmlite<0.44,>=0.43.0dev0 in c:\\programdata\\anaconda3\\lib\\site-packages (from numba>=0.51.2->umap-learn) (0.43.0)\n",
      "Requirement already satisfied: joblib>=0.11 in c:\\programdata\\anaconda3\\lib\\site-packages (from pynndescent>=0.5->umap-learn) (1.4.2)\n",
      "Requirement already satisfied: threadpoolctl>=3.1.0 in c:\\programdata\\anaconda3\\lib\\site-packages (from scikit-learn>=0.22->umap-learn) (3.5.0)\n",
      "Requirement already satisfied: colorama in c:\\programdata\\anaconda3\\lib\\site-packages (from tqdm->umap-learn) (0.4.6)\n",
      "Defaulting to user installation because normal site-packages is not writeable\n",
      "Requirement already satisfied: hdbscan in c:\\users\\samru\\appdata\\roaming\\python\\python312\\site-packages (0.8.40)\n",
      "Requirement already satisfied: numpy<3,>=1.20 in c:\\programdata\\anaconda3\\lib\\site-packages (from hdbscan) (1.26.4)\n",
      "Requirement already satisfied: scipy>=1.0 in c:\\programdata\\anaconda3\\lib\\site-packages (from hdbscan) (1.13.1)\n",
      "Requirement already satisfied: scikit-learn>=0.20 in c:\\programdata\\anaconda3\\lib\\site-packages (from hdbscan) (1.5.1)\n",
      "Requirement already satisfied: joblib>=1.0 in c:\\programdata\\anaconda3\\lib\\site-packages (from hdbscan) (1.4.2)\n",
      "Requirement already satisfied: threadpoolctl>=3.1.0 in c:\\programdata\\anaconda3\\lib\\site-packages (from scikit-learn>=0.20->hdbscan) (3.5.0)\n"
     ]
    }
   ],
   "source": [
    "!pip install bertopic\n",
    "!pip install sentence-transformers\n",
    "!pip install openpyxl    \n",
    "!pip install umap-learn\n",
    "!pip install hdbscan"
   ]
  },
  {
   "cell_type": "code",
   "execution_count": 3,
   "id": "69e04379-67bd-4d45-b1b7-0824874bfa93",
   "metadata": {},
   "outputs": [],
   "source": [
    "import pandas as pd\n",
    "import re\n",
    "# For BERTopic\n",
    "from bertopic import BERTopic\n",
    "from sentence_transformers import SentenceTransformer\n",
    "# For custom UMAP and HDBSCAN\n",
    "import umap\n",
    "import hdbscan"
   ]
  },
  {
   "cell_type": "code",
   "execution_count": 5,
   "id": "be5d535a-8d7a-4147-be31-14ae560e10ef",
   "metadata": {},
   "outputs": [
    {
     "name": "stdout",
     "output_type": "stream",
     "text": [
      "Index(['Text_1', 'Text_2', 'Similarity_Score'], dtype='object')\n"
     ]
    }
   ],
   "source": [
    "df = pd.read_excel(\"la_pairwise_similarity.xlsx\")\n",
    "# Verify columns\n",
    "print(df.columns)  # Should show ['Text_1', 'Text_2', 'Similarity_Score']"
   ]
  },
  {
   "cell_type": "code",
   "execution_count": 7,
   "id": "f82916f2-9c0b-4522-99e1-2bf17dbab61f",
   "metadata": {},
   "outputs": [],
   "source": [
    "# Convert each column to a list and remove any NaN values\n",
    "text_1_list = df[\"Text_1\"].dropna().tolist()\n",
    "text_2_list = df[\"Text_2\"].dropna().tolist()\n",
    "\n",
    "# Combine them into a single set to remove duplicates\n",
    "all_texts_set = set(text_1_list + text_2_list)\n",
    "\n",
    "# Convert set back to a list\n",
    "all_texts = list(all_texts_set)"
   ]
  },
  {
   "cell_type": "code",
   "execution_count": 9,
   "id": "386da34d-6d8b-4a62-802f-418b224407dc",
   "metadata": {},
   "outputs": [],
   "source": [
    "def clean_text(text):\n",
    "    # Remove URLs\n",
    "    text = re.sub(r'http\\S+|www\\S+|https\\S+', '', text, flags=re.MULTILINE)\n",
    "    # Remove mentions (@username)\n",
    "    text = re.sub(r'@\\w+', '', text)\n",
    "    # Remove extra spaces\n",
    "    text = re.sub(r'\\s+', ' ', text).strip()\n",
    "    return text\n",
    "\n",
    "all_texts_cleaned = [clean_text(t) for t in all_texts]"
   ]
  },
  {
   "cell_type": "code",
   "execution_count": 11,
   "id": "99c9c017-20d5-4f49-aa13-43dd3869ca9d",
   "metadata": {},
   "outputs": [],
   "source": [
    "embedding_model = SentenceTransformer(\"all-MiniLM-L6-v2\")"
   ]
  },
  {
   "cell_type": "code",
   "execution_count": 23,
   "id": "77574d66-c8ba-4fa5-a9cd-1041fa35b8ea",
   "metadata": {},
   "outputs": [],
   "source": [
    "umap_model = umap.UMAP(n_neighbors=15, n_components=5, min_dist=0.0, metric='cosine')\n",
    "hdbscan_model = hdbscan.HDBSCAN(min_cluster_size=5, metric='euclidean', cluster_selection_method='eom')"
   ]
  },
  {
   "cell_type": "code",
   "execution_count": 25,
   "id": "238bded2-b59c-414c-abcc-1a8d95d26356",
   "metadata": {},
   "outputs": [],
   "source": [
    "topic_model = BERTopic(\n",
    "    embedding_model=embedding_model,\n",
    "    umap_model=umap_model,\n",
    "    hdbscan_model=hdbscan_model\n",
    ")\n",
    "topics, probs = topic_model.fit_transform(all_texts_cleaned)"
   ]
  },
  {
   "cell_type": "code",
   "execution_count": 26,
   "id": "d313306f-5104-4ba1-9377-d79c95c4f7b1",
   "metadata": {},
   "outputs": [
    {
     "name": "stdout",
     "output_type": "stream",
     "text": [
      "    Topic  Count                                             Name  \\\n",
      "0      -1    330                               -1_semst_the_to_is   \n",
      "1       0    126                              0_semst_the_you_and   \n",
      "2       1     48                              1_women_men_laws_do   \n",
      "3       2     25                         2_pray_prayer_prayers_us   \n",
      "4       3     23                           3_evil_love_jesus_lord   \n",
      "5       4     22            4_rally4life_repealthe8th_he_bullying   \n",
      "6       5     22        5_black_blacklivesmatter_parenthood_lives   \n",
      "7       6     22            6_gaymarriage_marriage_scotus_america   \n",
      "8       7     21                      7_abortion_wrong_abort_dies   \n",
      "9       8     18                        8_kill_killing_but_babies   \n",
      "10      9     17                          9_pro_choice_can_people   \n",
      "11     10     16           10_feminism_against_dehumanizing_wills   \n",
      "12     11     16                11_equal_equality_unborn_progress   \n",
      "13     12     16                      12_abortion_illegal_it_rape   \n",
      "14     13     14                13_abortion_glennbeck_plans_would   \n",
      "15     14     14                 14_texas_scotus_clinics_blocking   \n",
      "16     15     14                       15_prolife_life_pro_stance   \n",
      "17     16     13                 16_adoption_parents_childcare_in   \n",
      "18     17     13       17_justintrudeau_peipoli_cdnpoli_truthtour   \n",
      "19     18     13                  18_body_use_rapeculture_consent   \n",
      "20     19     12                           19_ronald_limb_em_libs   \n",
      "21     20     11                     20_nation_pope_children_john   \n",
      "22     21      9                  21_life_human_womb_prolifeyouth   \n",
      "23     22      9                   22_yr_000_est_letstalkabortion   \n",
      "24     23      9         23_christian_catholic_conservative_issue   \n",
      "25     24      8           24_medical_this_notyours_complications   \n",
      "26     25      8                  25_pregnant_whoa_consenting_sex   \n",
      "27     26      8                26_conception_heart_starts_begins   \n",
      "28     27      7                   27_autonomy_bodily_fetus_human   \n",
      "29     28      7                            28_best_know_what_for   \n",
      "30     29      7             29_utilized_wonderful_uberfacts_gift   \n",
      "31     30      6  30_feminist_feminists_less_womenagainstfeminism   \n",
      "32     31      6          31_wakeupamerica_2a_proisrael_following   \n",
      "33     32      6               32_bristol_second_palin_abstinence   \n",
      "34     33      6                 33_pregnancy_enough_whether_take   \n",
      "35     34      5                      34_human_worth_life_rowling   \n",
      "36     35      5                         35_voice_unborn_for_will   \n",
      "\n",
      "                                       Representation  \\\n",
      "0     [semst, the, to, is, of, it, and, you, not, in]   \n",
      "1   [semst, the, you, and, it, to, on, that, is, a...   \n",
      "2   [women, men, laws, do, choice, to, decisions, ...   \n",
      "3   [pray, prayer, prayers, us, babies, for, st, i...   \n",
      "4   [evil, love, jesus, lord, amen, of, christian,...   \n",
      "5   [rally4life, repealthe8th, he, bullying, irela...   \n",
      "6   [black, blacklivesmatter, parenthood, lives, p...   \n",
      "7   [gaymarriage, marriage, scotus, america, under...   \n",
      "8   [abortion, wrong, abort, dies, you, your, watc...   \n",
      "9   [kill, killing, but, babies, eagles, there, wr...   \n",
      "10  [pro, choice, can, people, be, life, who, die,...   \n",
      "11  [feminism, against, dehumanizing, wills, right...   \n",
      "12  [equal, equality, unborn, progress, rights, lg...   \n",
      "13  [abortion, illegal, it, rape, is, clear, murde...   \n",
      "14  [abortion, glennbeck, plans, would, how, abort...   \n",
      "15  [texas, scotus, clinics, blocking, law, aborti...   \n",
      "16  [prolife, life, pro, stance, thereadclub, blue...   \n",
      "17  [adoption, parents, childcare, in, your, child...   \n",
      "18  [justintrudeau, peipoli, cdnpoli, truthtour, p...   \n",
      "19  [body, use, rapeculture, consent, right, do, s...   \n",
      "20  [ronald, limb, em, libs, ccot, reagan, personh...   \n",
      "21  [nation, pope, children, john, greatest, paul,...   \n",
      "22  [life, human, womb, prolifeyouth, on, heartbea...   \n",
      "23  [yr, 000, est, letstalkabortion, rate, percent...   \n",
      "24  [christian, catholic, conservative, issue, abo...   \n",
      "25  [medical, this, notyours, complications, proce...   \n",
      "26  [pregnant, whoa, consenting, sex, get, do, rea...   \n",
      "27  [conception, heart, starts, begins, at, pronou...   \n",
      "28  [autonomy, bodily, fetus, human, born, not, de...   \n",
      "29  [best, know, what, for, happiness, well, you, ...   \n",
      "30  [utilized, wonderful, uberfacts, gift, prochoi...   \n",
      "31  [feminist, feminists, less, womenagainstfemini...   \n",
      "32  [wakeupamerica, 2a, proisrael, following, 1a, ...   \n",
      "33  [bristol, second, palin, abstinence, bristolpa...   \n",
      "34  [pregnancy, enough, whether, take, to, someone...   \n",
      "35  [human, worth, life, rowling, member, fathers,...   \n",
      "36  [voice, unborn, for, will, be, savethebabiesbu...   \n",
      "\n",
      "                                  Representative_Docs  \n",
      "0   [why are we all here ? because all of our moth...  \n",
      "1   [they may need to figure out how to get out of...  \n",
      "2   [antis do n't care because the only people the...  \n",
      "3   [prayers for babies urgent prayer one in lexin...  \n",
      "4   ['amen , i say to you , whatever you did for o...  \n",
      "5   [so you 're at the # rally4life ? tell me more...  \n",
      "6   [i will believe the narrative that `` black li...  \n",
      "7   [scotus has caused more repression and racism ...  \n",
      "8   [@ fungirl3part2 repent wen u commit a grave a...  \n",
      "9   [if we can accept that a mother can kill even ...  \n",
      "10  [people who have never had an abortion can be ...  \n",
      "11  [@ logicoflife7 no one is advocating `` punish...  \n",
      "12  [since now the lgbt community received equal r...  \n",
      "13  [it should never ever be legal to have an abor...  \n",
      "14  [sadly , most health insurance plans do n't co...  \n",
      "15  [# scotus blocking part of our texas anti-abor...  \n",
      "16  [rt @ dave_gosh : im prolife and abortion has ...  \n",
      "17  [parents have left their role to the teachers ...  \n",
      "18  [@ justintrudeau , how do you plan 2 endorse @...  \n",
      "19  [@ logicoflife7 premise is wrong . nothing on ...  \n",
      "20  [still waiting for libs to explain how the pre...  \n",
      "21  [rt @ ourbrother1 : `` a nation that kills its...  \n",
      "22  [meme on like it 's the last reddit thread on ...  \n",
      "23  [the teen pregnancy rate has declined 51 perce...  \n",
      "24  [abortionists and their supporters are the rea...  \n",
      "25  [@ meamhere it is n't going to happen . the lw...  \n",
      "26  [@ explicit0ceans whoa whoa whoa . i do n't ca...  \n",
      "27  [@ ricksantorum : i do n't *believe* life begi...  \n",
      "28  [the point is bodily autonomy . a born child c...  \n",
      "29  [they know what 's best for their health they ...  \n",
      "30  [thank you @ ppact for treating me with kindne...  \n",
      "31  [# prolife laws kill women . real # feminists ...  \n",
      "32  [i am about to deck these 2 bitches in the fuc...  \n",
      "33  [# abstinence proponent # bristolpalin , pregn...  \n",
      "34  [whether someone wants to have children or not...  \n",
      "35  [there 's no place for selfishness when you ta...  \n",
      "36  [will you be my # voice ? -unborn babiesyouthg...  \n"
     ]
    }
   ],
   "source": [
    "topic_info = topic_model.get_topic_info()\n",
    "print(topic_info)"
   ]
  },
  {
   "cell_type": "code",
   "execution_count": 29,
   "id": "1b2b472a-bd5f-4695-9dd2-0cad755f5f69",
   "metadata": {},
   "outputs": [
    {
     "name": "stdout",
     "output_type": "stream",
     "text": [
      "Topic 0:\n",
      "[('semst', 0.026210235545944677), ('the', 0.016873736709805767), ('you', 0.016197504139072453), ('and', 0.01570224639465725), ('it', 0.015506418959291562), ('to', 0.015260903707561021), ('on', 0.014142009594154605), ('that', 0.013936719510405027), ('is', 0.013335609881776312), ('about', 0.013221263490744211)]\n",
      "--------------------------------------------------\n",
      "Topic 1:\n",
      "[('women', 0.0805849483236304), ('men', 0.039633134797371), ('laws', 0.0373403619155027), ('do', 0.033505425558718965), ('choice', 0.030181179959149537), ('to', 0.02925770426941727), ('decisions', 0.028474705050441643), ('effect', 0.028474705050441643), ('their', 0.028114850676262085), ('anti', 0.0269006484546116)]\n",
      "--------------------------------------------------\n",
      "Topic 2:\n",
      "[('pray', 0.0883449341659143), ('prayer', 0.05348179426860212), ('prayers', 0.04490855434719937), ('us', 0.044680348507083814), ('babies', 0.04189485469853974), ('for', 0.04149054182330053), ('st', 0.04105478317019194), ('in', 0.037038908999984785), ('very', 0.036232236875081196), ('dallas', 0.03573913743462448)]\n",
      "--------------------------------------------------\n",
      "Topic 3:\n",
      "[('evil', 0.04646464508652578), ('love', 0.04090216453518354), ('jesus', 0.03839510545111697), ('lord', 0.03465613326993889), ('amen', 0.03465613326993889), ('of', 0.03290255286899246), ('christian', 0.03208275865249726), ('in', 0.02993043151513922), ('blood', 0.029858024123775955), ('god', 0.029374225837283406)]\n",
      "--------------------------------------------------\n",
      "Topic 4:\n",
      "[('rally4life', 0.08497758316627077), ('repealthe8th', 0.053782672116615145), ('he', 0.039677577839708426), ('bullying', 0.03626214920196045), ('ireland', 0.034174314527624886), ('protest', 0.03255867280351973), ('the', 0.027197876661868105), ('for', 0.02706282031122599), ('minds', 0.026141180431046202), ('counter', 0.026141180431046202)]\n",
      "--------------------------------------------------\n",
      "Topic 5:\n",
      "[('black', 0.09839475870833327), ('blacklivesmatter', 0.06920798419550075), ('parenthood', 0.05979968416946725), ('lives', 0.059036855224999955), ('planned', 0.05583566594431249), ('matter', 0.04556808659462312), ('millions', 0.03460399209775038), ('killed', 0.03166514819334827), ('babies', 0.03051165888409057), ('they', 0.030047566236775892)]\n",
      "--------------------------------------------------\n",
      "Topic 6:\n",
      "[('gaymarriage', 0.08128506059649115), ('marriage', 0.06313977593297479), ('scotus', 0.048771471425350564), ('america', 0.04129751841090889), ('under', 0.03902226029607292), ('nation', 0.03769490164095206), ('satan', 0.036775509071722313), ('wakeupamerica', 0.030481897723684183), ('we', 0.029815400382676976), ('god', 0.026459932565237966)]\n",
      "--------------------------------------------------\n",
      "Topic 7:\n",
      "[('abortion', 0.04909734312334164), ('wrong', 0.04154120931884002), ('abort', 0.0391496377663215), ('dies', 0.03327036973792178), ('you', 0.029733989741011574), ('your', 0.029155366388080643), ('watching', 0.02783865967981544), ('leaves', 0.02783865967981544), ('repent', 0.02783865967981544), ('my', 0.026355597918479454)]\n",
      "--------------------------------------------------\n",
      "Topic 8:\n",
      "[('kill', 0.06516170197562492), ('killing', 0.057391262533707875), ('but', 0.05022464570403628), ('babies', 0.04780478717952497), ('eagles', 0.033598382372191045), ('there', 0.030996905892816205), ('wrong', 0.030081565368815188), ('born', 0.029594397206061985), ('pre', 0.029282066784380778), ('an', 0.026717678195202342)]\n",
      "--------------------------------------------------\n",
      "Topic 9:\n",
      "[('pro', 0.1398151179167043), ('choice', 0.08822717064240768), ('can', 0.07048959365986389), ('people', 0.06606482267625852), ('be', 0.06420200278025703), ('life', 0.054076173339899405), ('who', 0.051265159025355556), ('die', 0.04695517302191208), ('choose', 0.04287695782530008), ('uterus', 0.03848481364142332)]\n",
      "--------------------------------------------------\n",
      "Topic 10:\n",
      "[('feminism', 0.06384302418034567), ('against', 0.05386168273890454), ('dehumanizing', 0.04154218595631373), ('wills', 0.04154218595631373), ('rights', 0.04071294958213807), ('abortion', 0.036632707562958396), ('human', 0.03569899368983017), ('an', 0.03303464862119979), ('rapeculture', 0.031921512090172834), ('as', 0.031049732518580567)]\n",
      "--------------------------------------------------\n",
      "Topic 11:\n",
      "[('equal', 0.10425955351211445), ('equality', 0.08541181226369618), ('unborn', 0.0553392617829619), ('progress', 0.049686060128816316), ('rights', 0.046560022128508974), ('lgbt', 0.04542231329468044), ('waiting', 0.04380718148544995), ('gay', 0.04118298947774352), ('for', 0.03934665364398105), ('bloodline', 0.03800668076854235)]\n",
      "--------------------------------------------------\n",
      "Topic 12:\n",
      "[('abortion', 0.08168330217139579), ('illegal', 0.05110945738506311), ('it', 0.04316269179601659), ('rape', 0.04132954815915898), ('is', 0.03940448208702259), ('clear', 0.03814193586024535), ('murder', 0.03778735254307791), ('should', 0.03485904056900068), ('be', 0.03384972826574734), ('legal', 0.03359648650794937)]\n",
      "--------------------------------------------------\n",
      "Topic 13:\n",
      "[('abortion', 0.06923984286625103), ('glennbeck', 0.045802922977474125), ('plans', 0.045802922977474125), ('would', 0.04351335507016128), ('how', 0.0418606427345692), ('abortions', 0.039715865339630056), ('anyone', 0.03519551333019056), ('decision', 0.03407407306345224), ('ever', 0.03308718812741788), ('clinics', 0.03308718812741788)]\n",
      "--------------------------------------------------\n",
      "Topic 14:\n",
      "[('texas', 0.1367474746575645), ('scotus', 0.08563101665003947), ('clinics', 0.046829044486789005), ('blocking', 0.03996634723871984), ('law', 0.03869362642198405), ('abortion', 0.038109832867916395), ('supreme', 0.03766523912990914), ('week', 0.03766523912990914), ('part', 0.03766523912990914), ('anti', 0.03691091279889679)]\n",
      "--------------------------------------------------\n",
      "Topic 15:\n",
      "[('prolife', 0.07703273872560301), ('life', 0.07613355983380575), ('pro', 0.06216156904606936), ('stance', 0.0470082630558287), ('thereadclub', 0.0470082630558287), ('blueskies366', 0.0361217110494061), ('who', 0.03608797378758582), ('prolifeyouth', 0.03163641825399984), ('buhayipaglaban', 0.03018312162702045), ('loss', 0.02653391866329806)]\n",
      "--------------------------------------------------\n",
      "Topic 16:\n",
      "[('adoption', 0.08758373327845907), ('parents', 0.07215686060495768), ('childcare', 0.048497212564384364), ('in', 0.0348601496470445), ('your', 0.03386068192884178), ('children', 0.03263847675073287), ('to', 0.028667976787228277), ('them', 0.028478469709604142), ('for', 0.027892801225748255), ('kittington2016', 0.027374359525936462)]\n",
      "--------------------------------------------------\n",
      "Topic 17:\n",
      "[('justintrudeau', 0.09467415496058927), ('peipoli', 0.07949769620610611), ('cdnpoli', 0.07573932396847143), ('truthtour', 0.06326587733107993), ('pei', 0.045608016922250826), ('ottawa', 0.045608016922250826), ('showthetruth', 0.045608016922250826), ('wadepeiliberal', 0.045608016922250826), ('peiliberalparty', 0.045608016922250826), ('onpoli', 0.045608016922250826)]\n",
      "--------------------------------------------------\n",
      "Topic 18:\n",
      "[('body', 0.12788230530727437), ('use', 0.09342527194235813), ('rapeculture', 0.08508006321554329), ('consent', 0.07354851707682142), ('right', 0.07352242894035424), ('do', 0.06107279130767416), ('someone', 0.05934610547604436), ('logicoflife7', 0.05789863205093472), ('without', 0.04354577957711774), ('to', 0.040724848567348156)]\n",
      "--------------------------------------------------\n",
      "Topic 19:\n",
      "[('ronald', 0.04742426538375639), ('limb', 0.04742426538375639), ('em', 0.04742426538375639), ('libs', 0.04742426538375639), ('ccot', 0.04478985012310933), ('reagan', 0.043856876615940364), ('personhood', 0.043856876615940364), ('premature', 0.043856876615940364), ('pay', 0.04133176683282065), ('americans', 0.03937774586856368)]\n",
      "--------------------------------------------------\n",
      "Topic 20:\n",
      "[('nation', 0.0897609845325171), ('pope', 0.08539394899399923), ('children', 0.08415287255563958), ('john', 0.07433740586401891), ('greatest', 0.070057344781631), ('paul', 0.070057344781631), ('ii', 0.070057344781631), ('teresa', 0.06404546174549942), ('kills', 0.06404546174549942), ('francis', 0.05358941988364472)]\n",
      "--------------------------------------------------\n",
      "Topic 21:\n",
      "[('life', 0.09104083029077471), ('human', 0.08856096511515561), ('womb', 0.08342465084246387), ('prolifeyouth', 0.07706307010589704), ('on', 0.07610697727315767), ('heartbeat', 0.06870438446621117), ('earth', 0.06353624432822129), ('considered', 0.05987807246293249), ('last', 0.05704724721984226), ('prolifegen', 0.05111110959517835)]\n",
      "--------------------------------------------------\n",
      "Topic 22:\n",
      "[('yr', 0.13992721016187723), ('000', 0.07769575584211878), ('est', 0.06740807532533927), ('letstalkabortion', 0.06740807532533927), ('rate', 0.06740807532533927), ('percent', 0.062337447265424666), ('teen', 0.05874829751080169), ('abortions', 0.05844976408473857), ('million', 0.0559708840647509), ('from', 0.051818610374448244)]\n",
      "--------------------------------------------------\n",
      "Topic 23:\n",
      "[('christian', 0.11703659406395686), ('catholic', 0.10000406153202815), ('conservative', 0.06742621847076545), ('issue', 0.054240361203046414), ('abortion', 0.04592438557455426), ('form', 0.04115464935531944), ('redstate', 0.04115464935531944), ('unworthy', 0.04115464935531944), ('laid', 0.04115464935531944), ('flying', 0.04115464935531944)]\n",
      "--------------------------------------------------\n",
      "Topic 24:\n",
      "[('medical', 0.07764399847821199), ('this', 0.04534539943681196), ('notyours', 0.04260375672698562), ('complications', 0.04260375672698562), ('procedures', 0.04260375672698562), ('providing', 0.04260375672698562), ('types', 0.04260375672698562), ('chase', 0.04260375672698562), ('tim_hallan', 0.04260375672698562), ('regulations', 0.04260375672698562)]\n",
      "--------------------------------------------------\n",
      "Topic 25:\n",
      "[('pregnant', 0.10297981364893748), ('whoa', 0.09717307956080903), ('consenting', 0.0700515292596663), ('sex', 0.06746815422510453), ('get', 0.06654983716612901), ('do', 0.057959276456694686), ('real', 0.05382843215205615), ('sure', 0.052113288214691654), ('notmuchelse', 0.049256897189652864), ('you', 0.047613251546064286)]\n",
      "--------------------------------------------------\n",
      "Topic 26:\n",
      "[('conception', 0.1649735003997419), ('heart', 0.11281849478444644), ('starts', 0.10183206282742316), ('begins', 0.08773350924041017), ('at', 0.07634868797845036), ('pronounced', 0.07341016422417085), ('beating', 0.07341016422417085), ('alive', 0.06933223375221031), ('life', 0.06485100239890801), ('our', 0.05643259622970733)]\n",
      "--------------------------------------------------\n",
      "Topic 27:\n",
      "[('autonomy', 0.09358806953709763), ('bodily', 0.09358806953709763), ('fetus', 0.08563983261382828), ('human', 0.05233147938622832), ('born', 0.047679862165322086), ('not', 0.04614347437517627), ('development', 0.04583131405478756), ('fem2gen', 0.04583131405478756), ('vary', 0.04583131405478756), ('affect', 0.04583131405478756)]\n",
      "--------------------------------------------------\n",
      "Topic 28:\n",
      "[('best', 0.34894615827825615), ('know', 0.27227038726584685), ('what', 0.21429515038855074), ('for', 0.1232861814178073), ('happiness', 0.12135505317675534), ('well', 0.10557820938839703), ('you', 0.08514733425835133), ('being', 0.07579807716347657), ('their', 0.07379567417174246), ('your', 0.06802918823885483)]\n",
      "--------------------------------------------------\n",
      "Topic 29:\n",
      "[('utilized', 0.1011121129880089), ('wonderful', 0.1011121129880089), ('uberfacts', 0.1011121129880089), ('gift', 0.08056032923962192), ('prochoice', 0.06934243889249121), ('every', 0.05937492269643882), ('that', 0.059132449054760956), ('you', 0.058906960807664444), ('prohealthcare', 0.057072957124829786), ('steal', 0.057072957124829786)]\n",
      "--------------------------------------------------\n",
      "Topic 30:\n",
      "[('feminist', 0.12199135570571318), ('feminists', 0.10207508549265662), ('less', 0.08132757047047547), ('womenagainstfeminism', 0.05761650909744722), ('opinions', 0.05761650909744722), ('fighting', 0.05761650909744722), ('feminazi', 0.05761650909744722), ('faminism', 0.05761650909744722), ('goldberg', 0.05761650909744722), ('confused', 0.05761650909744722)]\n",
      "--------------------------------------------------\n",
      "Topic 31:\n",
      "[('wakeupamerica', 0.19356005054539457), ('2a', 0.16471500238529183), ('proisrael', 0.14867481172803781), ('following', 0.14867481172803781), ('1a', 0.140114689563262), ('nra', 0.140114689563262), ('cos', 0.140114689563262), ('tgdn', 0.13349055849443087), ('patriot', 0.13349055849443087), ('justice', 0.12809092349099885)]\n",
      "--------------------------------------------------\n",
      "Topic 32:\n",
      "[('bristol', 0.12510240139576964), ('second', 0.09569539264936557), ('palin', 0.08849691174287966), ('abstinence', 0.08849691174287966), ('bristolpalin', 0.07945866577049457), ('pregnant', 0.07033889057271175), ('want', 0.0675082654510424), ('stop', 0.06144421188357735), ('it', 0.05414605533339581), ('conceives', 0.05401547727885676)]\n",
      "--------------------------------------------------\n",
      "Topic 33:\n",
      "[('pregnancy', 0.11029021636800308), ('enough', 0.1013559291972181), ('whether', 0.09082952522651647), ('take', 0.06757061946481206), ('to', 0.06562321240089636), ('someone', 0.0608549047678082), ('care', 0.05514510818400154), ('not', 0.051618123877315826), ('believes', 0.051268927586711505), ('mentality', 0.051268927586711505)]\n",
      "--------------------------------------------------\n",
      "Topic 34:\n",
      "[('human', 0.14391156831212787), ('worth', 0.1390526650983655), ('life', 0.06575171076555951), ('rowling', 0.06301805682533289), ('member', 0.06301805682533289), ('fathers', 0.06301805682533289), ('truelovewaits', 0.06301805682533289), ('understanding', 0.06301805682533289), ('declare', 0.06301805682533289), ('powerless', 0.06301805682533289)]\n",
      "--------------------------------------------------\n",
      "Topic 35:\n",
      "[('voice', 0.19606556795527433), ('unborn', 0.1461889632111968), ('for', 0.12126509647653176), ('will', 0.11824759609691744), ('be', 0.10395381030245907), ('savethebabiesbumpthemanimals', 0.09917595828249111), ('babiesyouthgen', 0.09917595828249111), ('characters', 0.09917595828249111), ('favorite', 0.09917595828249111), ('godislovesolovewins', 0.09917595828249111)]\n",
      "--------------------------------------------------\n"
     ]
    }
   ],
   "source": [
    "for topic_id in topic_info[\"Topic\"]:\n",
    "    if topic_id != -1:  # -1 is the outlier topic\n",
    "        print(f\"Topic {topic_id}:\")\n",
    "        print(topic_model.get_topic(topic_id))\n",
    "        print(\"-\"*50)"
   ]
  },
  {
   "cell_type": "code",
   "execution_count": 33,
   "id": "ad820104-64e6-4967-8371-49b1a2b6953a",
   "metadata": {},
   "outputs": [
    {
     "data": {
      "application/vnd.plotly.v1+json": {
       "config": {
        "plotlyServerURL": "https://plot.ly"
       },
       "data": [
        {
         "customdata": [
          [
           0,
           "semst | the | you | and | it",
           126
          ],
          [
           1,
           "women | men | laws | do | choice",
           48
          ],
          [
           2,
           "pray | prayer | prayers | us | babies",
           25
          ],
          [
           3,
           "evil | love | jesus | lord | amen",
           23
          ],
          [
           4,
           "rally4life | repealthe8th | he | bullying | ireland",
           22
          ],
          [
           5,
           "black | blacklivesmatter | parenthood | lives | planned",
           22
          ],
          [
           6,
           "gaymarriage | marriage | scotus | america | under",
           22
          ],
          [
           7,
           "abortion | wrong | abort | dies | you",
           21
          ],
          [
           8,
           "kill | killing | but | babies | eagles",
           18
          ],
          [
           9,
           "pro | choice | can | people | be",
           17
          ],
          [
           10,
           "feminism | against | dehumanizing | wills | rights",
           16
          ],
          [
           11,
           "equal | equality | unborn | progress | rights",
           16
          ],
          [
           12,
           "abortion | illegal | it | rape | is",
           16
          ],
          [
           13,
           "abortion | glennbeck | plans | would | how",
           14
          ],
          [
           14,
           "texas | scotus | clinics | blocking | law",
           14
          ],
          [
           15,
           "prolife | life | pro | stance | thereadclub",
           14
          ],
          [
           16,
           "adoption | parents | childcare | in | your",
           13
          ],
          [
           17,
           "justintrudeau | peipoli | cdnpoli | truthtour | pei",
           13
          ],
          [
           18,
           "body | use | rapeculture | consent | right",
           13
          ],
          [
           19,
           "ronald | limb | em | libs | ccot",
           12
          ],
          [
           20,
           "nation | pope | children | john | greatest",
           11
          ],
          [
           21,
           "life | human | womb | prolifeyouth | on",
           9
          ],
          [
           22,
           "yr | 000 | est | letstalkabortion | rate",
           9
          ],
          [
           23,
           "christian | catholic | conservative | issue | abortion",
           9
          ],
          [
           24,
           "medical | this | notyours | complications | procedures",
           8
          ],
          [
           25,
           "pregnant | whoa | consenting | sex | get",
           8
          ],
          [
           26,
           "conception | heart | starts | begins | at",
           8
          ],
          [
           27,
           "autonomy | bodily | fetus | human | born",
           7
          ],
          [
           28,
           "best | know | what | for | happiness",
           7
          ],
          [
           29,
           "utilized | wonderful | uberfacts | gift | prochoice",
           7
          ],
          [
           30,
           "feminist | feminists | less | womenagainstfeminism | opinions",
           6
          ],
          [
           31,
           "wakeupamerica | 2a | proisrael | following | 1a",
           6
          ],
          [
           32,
           "bristol | second | palin | abstinence | bristolpalin",
           6
          ],
          [
           33,
           "pregnancy | enough | whether | take | to",
           6
          ],
          [
           34,
           "human | worth | life | rowling | member",
           5
          ],
          [
           35,
           "voice | unborn | for | will | be",
           5
          ]
         ],
         "hovertemplate": "<b>Topic %{customdata[0]}</b><br>%{customdata[1]}<br>Size: %{customdata[2]}",
         "legendgroup": "",
         "marker": {
          "color": "#B0BEC5",
          "line": {
           "color": "DarkSlateGrey",
           "width": 2
          },
          "size": [
           126,
           48,
           25,
           23,
           22,
           22,
           22,
           21,
           18,
           17,
           16,
           16,
           16,
           14,
           14,
           14,
           13,
           13,
           13,
           12,
           11,
           9,
           9,
           9,
           8,
           8,
           8,
           7,
           7,
           7,
           6,
           6,
           6,
           6,
           5,
           5
          ],
          "sizemode": "area",
          "sizeref": 0.07875,
          "symbol": "circle"
         },
         "mode": "markers",
         "name": "",
         "orientation": "v",
         "showlegend": false,
         "type": "scatter",
         "x": [
          10.494455,
          7.497455,
          -9.482398,
          -9.198333,
          11.660299,
          11.309401,
          7.000622,
          9.507729,
          9.569978,
          9.952295,
          7.908661,
          7.252242,
          8.159311,
          8.472797,
          10.898013,
          10.210445,
          3.6274014,
          10.681119,
          7.7070107,
          11.003136,
          -8.985497,
          10.335908,
          8.193264,
          7.642144,
          10.282213,
          3.3940437,
          2.8400342,
          3.0869157,
          10.402673,
          10.669657,
          8.0486355,
          11.576451,
          8.489117,
          3.5696757,
          10.280079,
          -9.582371
         ],
         "xaxis": "x",
         "y": [
          4.945365,
          12.87031,
          7.2618365,
          6.976559,
          1.3762919,
          1.7183611,
          12.214596,
          15.435302,
          15.506849,
          15.955481,
          12.898708,
          12.369315,
          13.526399,
          13.960629,
          2.1844199,
          16.300795,
          0.25294998,
          2.3888512,
          13.148042,
          2.088627,
          6.763568,
          16.773787,
          14.217772,
          12.638241,
          5.1275387,
          0.48504683,
          1.0071043,
          0.7651383,
          5.036322,
          4.7684646,
          12.722901,
          1.5082879,
          13.973698,
          0.3063342,
          16.903744,
          7.362001
         ],
         "yaxis": "y"
        }
       ],
       "layout": {
        "annotations": [
         {
          "showarrow": false,
          "text": "D1",
          "x": -11.019726371765136,
          "y": 9.827156395465135,
          "yshift": 10
         },
         {
          "showarrow": false,
          "text": "D2",
          "x": 1.1948089122772219,
          "xshift": 10,
          "y": 19.439305305480957
         }
        ],
        "height": 650,
        "hoverlabel": {
         "bgcolor": "white",
         "font": {
          "family": "Rockwell",
          "size": 16
         }
        },
        "legend": {
         "itemsizing": "constant",
         "tracegroupgap": 0
        },
        "margin": {
         "t": 60
        },
        "shapes": [
         {
          "line": {
           "color": "#CFD8DC",
           "width": 2
          },
          "type": "line",
          "x0": 1.1948089122772219,
          "x1": 1.1948089122772219,
          "y0": 0.2150074854493141,
          "y1": 19.439305305480957
         },
         {
          "line": {
           "color": "#9E9E9E",
           "width": 2
          },
          "type": "line",
          "x0": -11.019726371765136,
          "x1": 13.40934419631958,
          "y0": 9.827156395465135,
          "y1": 9.827156395465135
         }
        ],
        "sliders": [
         {
          "active": 0,
          "pad": {
           "t": 50
          },
          "steps": [
           {
            "args": [
             {
              "marker.color": [
               [
                "red",
                "#B0BEC5",
                "#B0BEC5",
                "#B0BEC5",
                "#B0BEC5",
                "#B0BEC5",
                "#B0BEC5",
                "#B0BEC5",
                "#B0BEC5",
                "#B0BEC5",
                "#B0BEC5",
                "#B0BEC5",
                "#B0BEC5",
                "#B0BEC5",
                "#B0BEC5",
                "#B0BEC5",
                "#B0BEC5",
                "#B0BEC5",
                "#B0BEC5",
                "#B0BEC5",
                "#B0BEC5",
                "#B0BEC5",
                "#B0BEC5",
                "#B0BEC5",
                "#B0BEC5",
                "#B0BEC5",
                "#B0BEC5",
                "#B0BEC5",
                "#B0BEC5",
                "#B0BEC5",
                "#B0BEC5",
                "#B0BEC5",
                "#B0BEC5",
                "#B0BEC5",
                "#B0BEC5",
                "#B0BEC5"
               ]
              ]
             }
            ],
            "label": "Topic 0",
            "method": "update"
           },
           {
            "args": [
             {
              "marker.color": [
               [
                "#B0BEC5",
                "red",
                "#B0BEC5",
                "#B0BEC5",
                "#B0BEC5",
                "#B0BEC5",
                "#B0BEC5",
                "#B0BEC5",
                "#B0BEC5",
                "#B0BEC5",
                "#B0BEC5",
                "#B0BEC5",
                "#B0BEC5",
                "#B0BEC5",
                "#B0BEC5",
                "#B0BEC5",
                "#B0BEC5",
                "#B0BEC5",
                "#B0BEC5",
                "#B0BEC5",
                "#B0BEC5",
                "#B0BEC5",
                "#B0BEC5",
                "#B0BEC5",
                "#B0BEC5",
                "#B0BEC5",
                "#B0BEC5",
                "#B0BEC5",
                "#B0BEC5",
                "#B0BEC5",
                "#B0BEC5",
                "#B0BEC5",
                "#B0BEC5",
                "#B0BEC5",
                "#B0BEC5",
                "#B0BEC5"
               ]
              ]
             }
            ],
            "label": "Topic 1",
            "method": "update"
           },
           {
            "args": [
             {
              "marker.color": [
               [
                "#B0BEC5",
                "#B0BEC5",
                "red",
                "#B0BEC5",
                "#B0BEC5",
                "#B0BEC5",
                "#B0BEC5",
                "#B0BEC5",
                "#B0BEC5",
                "#B0BEC5",
                "#B0BEC5",
                "#B0BEC5",
                "#B0BEC5",
                "#B0BEC5",
                "#B0BEC5",
                "#B0BEC5",
                "#B0BEC5",
                "#B0BEC5",
                "#B0BEC5",
                "#B0BEC5",
                "#B0BEC5",
                "#B0BEC5",
                "#B0BEC5",
                "#B0BEC5",
                "#B0BEC5",
                "#B0BEC5",
                "#B0BEC5",
                "#B0BEC5",
                "#B0BEC5",
                "#B0BEC5",
                "#B0BEC5",
                "#B0BEC5",
                "#B0BEC5",
                "#B0BEC5",
                "#B0BEC5",
                "#B0BEC5"
               ]
              ]
             }
            ],
            "label": "Topic 2",
            "method": "update"
           },
           {
            "args": [
             {
              "marker.color": [
               [
                "#B0BEC5",
                "#B0BEC5",
                "#B0BEC5",
                "red",
                "#B0BEC5",
                "#B0BEC5",
                "#B0BEC5",
                "#B0BEC5",
                "#B0BEC5",
                "#B0BEC5",
                "#B0BEC5",
                "#B0BEC5",
                "#B0BEC5",
                "#B0BEC5",
                "#B0BEC5",
                "#B0BEC5",
                "#B0BEC5",
                "#B0BEC5",
                "#B0BEC5",
                "#B0BEC5",
                "#B0BEC5",
                "#B0BEC5",
                "#B0BEC5",
                "#B0BEC5",
                "#B0BEC5",
                "#B0BEC5",
                "#B0BEC5",
                "#B0BEC5",
                "#B0BEC5",
                "#B0BEC5",
                "#B0BEC5",
                "#B0BEC5",
                "#B0BEC5",
                "#B0BEC5",
                "#B0BEC5",
                "#B0BEC5"
               ]
              ]
             }
            ],
            "label": "Topic 3",
            "method": "update"
           },
           {
            "args": [
             {
              "marker.color": [
               [
                "#B0BEC5",
                "#B0BEC5",
                "#B0BEC5",
                "#B0BEC5",
                "red",
                "#B0BEC5",
                "#B0BEC5",
                "#B0BEC5",
                "#B0BEC5",
                "#B0BEC5",
                "#B0BEC5",
                "#B0BEC5",
                "#B0BEC5",
                "#B0BEC5",
                "#B0BEC5",
                "#B0BEC5",
                "#B0BEC5",
                "#B0BEC5",
                "#B0BEC5",
                "#B0BEC5",
                "#B0BEC5",
                "#B0BEC5",
                "#B0BEC5",
                "#B0BEC5",
                "#B0BEC5",
                "#B0BEC5",
                "#B0BEC5",
                "#B0BEC5",
                "#B0BEC5",
                "#B0BEC5",
                "#B0BEC5",
                "#B0BEC5",
                "#B0BEC5",
                "#B0BEC5",
                "#B0BEC5",
                "#B0BEC5"
               ]
              ]
             }
            ],
            "label": "Topic 4",
            "method": "update"
           },
           {
            "args": [
             {
              "marker.color": [
               [
                "#B0BEC5",
                "#B0BEC5",
                "#B0BEC5",
                "#B0BEC5",
                "#B0BEC5",
                "red",
                "#B0BEC5",
                "#B0BEC5",
                "#B0BEC5",
                "#B0BEC5",
                "#B0BEC5",
                "#B0BEC5",
                "#B0BEC5",
                "#B0BEC5",
                "#B0BEC5",
                "#B0BEC5",
                "#B0BEC5",
                "#B0BEC5",
                "#B0BEC5",
                "#B0BEC5",
                "#B0BEC5",
                "#B0BEC5",
                "#B0BEC5",
                "#B0BEC5",
                "#B0BEC5",
                "#B0BEC5",
                "#B0BEC5",
                "#B0BEC5",
                "#B0BEC5",
                "#B0BEC5",
                "#B0BEC5",
                "#B0BEC5",
                "#B0BEC5",
                "#B0BEC5",
                "#B0BEC5",
                "#B0BEC5"
               ]
              ]
             }
            ],
            "label": "Topic 5",
            "method": "update"
           },
           {
            "args": [
             {
              "marker.color": [
               [
                "#B0BEC5",
                "#B0BEC5",
                "#B0BEC5",
                "#B0BEC5",
                "#B0BEC5",
                "#B0BEC5",
                "red",
                "#B0BEC5",
                "#B0BEC5",
                "#B0BEC5",
                "#B0BEC5",
                "#B0BEC5",
                "#B0BEC5",
                "#B0BEC5",
                "#B0BEC5",
                "#B0BEC5",
                "#B0BEC5",
                "#B0BEC5",
                "#B0BEC5",
                "#B0BEC5",
                "#B0BEC5",
                "#B0BEC5",
                "#B0BEC5",
                "#B0BEC5",
                "#B0BEC5",
                "#B0BEC5",
                "#B0BEC5",
                "#B0BEC5",
                "#B0BEC5",
                "#B0BEC5",
                "#B0BEC5",
                "#B0BEC5",
                "#B0BEC5",
                "#B0BEC5",
                "#B0BEC5",
                "#B0BEC5"
               ]
              ]
             }
            ],
            "label": "Topic 6",
            "method": "update"
           },
           {
            "args": [
             {
              "marker.color": [
               [
                "#B0BEC5",
                "#B0BEC5",
                "#B0BEC5",
                "#B0BEC5",
                "#B0BEC5",
                "#B0BEC5",
                "#B0BEC5",
                "red",
                "#B0BEC5",
                "#B0BEC5",
                "#B0BEC5",
                "#B0BEC5",
                "#B0BEC5",
                "#B0BEC5",
                "#B0BEC5",
                "#B0BEC5",
                "#B0BEC5",
                "#B0BEC5",
                "#B0BEC5",
                "#B0BEC5",
                "#B0BEC5",
                "#B0BEC5",
                "#B0BEC5",
                "#B0BEC5",
                "#B0BEC5",
                "#B0BEC5",
                "#B0BEC5",
                "#B0BEC5",
                "#B0BEC5",
                "#B0BEC5",
                "#B0BEC5",
                "#B0BEC5",
                "#B0BEC5",
                "#B0BEC5",
                "#B0BEC5",
                "#B0BEC5"
               ]
              ]
             }
            ],
            "label": "Topic 7",
            "method": "update"
           },
           {
            "args": [
             {
              "marker.color": [
               [
                "#B0BEC5",
                "#B0BEC5",
                "#B0BEC5",
                "#B0BEC5",
                "#B0BEC5",
                "#B0BEC5",
                "#B0BEC5",
                "#B0BEC5",
                "red",
                "#B0BEC5",
                "#B0BEC5",
                "#B0BEC5",
                "#B0BEC5",
                "#B0BEC5",
                "#B0BEC5",
                "#B0BEC5",
                "#B0BEC5",
                "#B0BEC5",
                "#B0BEC5",
                "#B0BEC5",
                "#B0BEC5",
                "#B0BEC5",
                "#B0BEC5",
                "#B0BEC5",
                "#B0BEC5",
                "#B0BEC5",
                "#B0BEC5",
                "#B0BEC5",
                "#B0BEC5",
                "#B0BEC5",
                "#B0BEC5",
                "#B0BEC5",
                "#B0BEC5",
                "#B0BEC5",
                "#B0BEC5",
                "#B0BEC5"
               ]
              ]
             }
            ],
            "label": "Topic 8",
            "method": "update"
           },
           {
            "args": [
             {
              "marker.color": [
               [
                "#B0BEC5",
                "#B0BEC5",
                "#B0BEC5",
                "#B0BEC5",
                "#B0BEC5",
                "#B0BEC5",
                "#B0BEC5",
                "#B0BEC5",
                "#B0BEC5",
                "red",
                "#B0BEC5",
                "#B0BEC5",
                "#B0BEC5",
                "#B0BEC5",
                "#B0BEC5",
                "#B0BEC5",
                "#B0BEC5",
                "#B0BEC5",
                "#B0BEC5",
                "#B0BEC5",
                "#B0BEC5",
                "#B0BEC5",
                "#B0BEC5",
                "#B0BEC5",
                "#B0BEC5",
                "#B0BEC5",
                "#B0BEC5",
                "#B0BEC5",
                "#B0BEC5",
                "#B0BEC5",
                "#B0BEC5",
                "#B0BEC5",
                "#B0BEC5",
                "#B0BEC5",
                "#B0BEC5",
                "#B0BEC5"
               ]
              ]
             }
            ],
            "label": "Topic 9",
            "method": "update"
           },
           {
            "args": [
             {
              "marker.color": [
               [
                "#B0BEC5",
                "#B0BEC5",
                "#B0BEC5",
                "#B0BEC5",
                "#B0BEC5",
                "#B0BEC5",
                "#B0BEC5",
                "#B0BEC5",
                "#B0BEC5",
                "#B0BEC5",
                "red",
                "#B0BEC5",
                "#B0BEC5",
                "#B0BEC5",
                "#B0BEC5",
                "#B0BEC5",
                "#B0BEC5",
                "#B0BEC5",
                "#B0BEC5",
                "#B0BEC5",
                "#B0BEC5",
                "#B0BEC5",
                "#B0BEC5",
                "#B0BEC5",
                "#B0BEC5",
                "#B0BEC5",
                "#B0BEC5",
                "#B0BEC5",
                "#B0BEC5",
                "#B0BEC5",
                "#B0BEC5",
                "#B0BEC5",
                "#B0BEC5",
                "#B0BEC5",
                "#B0BEC5",
                "#B0BEC5"
               ]
              ]
             }
            ],
            "label": "Topic 10",
            "method": "update"
           },
           {
            "args": [
             {
              "marker.color": [
               [
                "#B0BEC5",
                "#B0BEC5",
                "#B0BEC5",
                "#B0BEC5",
                "#B0BEC5",
                "#B0BEC5",
                "#B0BEC5",
                "#B0BEC5",
                "#B0BEC5",
                "#B0BEC5",
                "#B0BEC5",
                "red",
                "#B0BEC5",
                "#B0BEC5",
                "#B0BEC5",
                "#B0BEC5",
                "#B0BEC5",
                "#B0BEC5",
                "#B0BEC5",
                "#B0BEC5",
                "#B0BEC5",
                "#B0BEC5",
                "#B0BEC5",
                "#B0BEC5",
                "#B0BEC5",
                "#B0BEC5",
                "#B0BEC5",
                "#B0BEC5",
                "#B0BEC5",
                "#B0BEC5",
                "#B0BEC5",
                "#B0BEC5",
                "#B0BEC5",
                "#B0BEC5",
                "#B0BEC5",
                "#B0BEC5"
               ]
              ]
             }
            ],
            "label": "Topic 11",
            "method": "update"
           },
           {
            "args": [
             {
              "marker.color": [
               [
                "#B0BEC5",
                "#B0BEC5",
                "#B0BEC5",
                "#B0BEC5",
                "#B0BEC5",
                "#B0BEC5",
                "#B0BEC5",
                "#B0BEC5",
                "#B0BEC5",
                "#B0BEC5",
                "#B0BEC5",
                "#B0BEC5",
                "red",
                "#B0BEC5",
                "#B0BEC5",
                "#B0BEC5",
                "#B0BEC5",
                "#B0BEC5",
                "#B0BEC5",
                "#B0BEC5",
                "#B0BEC5",
                "#B0BEC5",
                "#B0BEC5",
                "#B0BEC5",
                "#B0BEC5",
                "#B0BEC5",
                "#B0BEC5",
                "#B0BEC5",
                "#B0BEC5",
                "#B0BEC5",
                "#B0BEC5",
                "#B0BEC5",
                "#B0BEC5",
                "#B0BEC5",
                "#B0BEC5",
                "#B0BEC5"
               ]
              ]
             }
            ],
            "label": "Topic 12",
            "method": "update"
           },
           {
            "args": [
             {
              "marker.color": [
               [
                "#B0BEC5",
                "#B0BEC5",
                "#B0BEC5",
                "#B0BEC5",
                "#B0BEC5",
                "#B0BEC5",
                "#B0BEC5",
                "#B0BEC5",
                "#B0BEC5",
                "#B0BEC5",
                "#B0BEC5",
                "#B0BEC5",
                "#B0BEC5",
                "red",
                "#B0BEC5",
                "#B0BEC5",
                "#B0BEC5",
                "#B0BEC5",
                "#B0BEC5",
                "#B0BEC5",
                "#B0BEC5",
                "#B0BEC5",
                "#B0BEC5",
                "#B0BEC5",
                "#B0BEC5",
                "#B0BEC5",
                "#B0BEC5",
                "#B0BEC5",
                "#B0BEC5",
                "#B0BEC5",
                "#B0BEC5",
                "#B0BEC5",
                "#B0BEC5",
                "#B0BEC5",
                "#B0BEC5",
                "#B0BEC5"
               ]
              ]
             }
            ],
            "label": "Topic 13",
            "method": "update"
           },
           {
            "args": [
             {
              "marker.color": [
               [
                "#B0BEC5",
                "#B0BEC5",
                "#B0BEC5",
                "#B0BEC5",
                "#B0BEC5",
                "#B0BEC5",
                "#B0BEC5",
                "#B0BEC5",
                "#B0BEC5",
                "#B0BEC5",
                "#B0BEC5",
                "#B0BEC5",
                "#B0BEC5",
                "#B0BEC5",
                "red",
                "#B0BEC5",
                "#B0BEC5",
                "#B0BEC5",
                "#B0BEC5",
                "#B0BEC5",
                "#B0BEC5",
                "#B0BEC5",
                "#B0BEC5",
                "#B0BEC5",
                "#B0BEC5",
                "#B0BEC5",
                "#B0BEC5",
                "#B0BEC5",
                "#B0BEC5",
                "#B0BEC5",
                "#B0BEC5",
                "#B0BEC5",
                "#B0BEC5",
                "#B0BEC5",
                "#B0BEC5",
                "#B0BEC5"
               ]
              ]
             }
            ],
            "label": "Topic 14",
            "method": "update"
           },
           {
            "args": [
             {
              "marker.color": [
               [
                "#B0BEC5",
                "#B0BEC5",
                "#B0BEC5",
                "#B0BEC5",
                "#B0BEC5",
                "#B0BEC5",
                "#B0BEC5",
                "#B0BEC5",
                "#B0BEC5",
                "#B0BEC5",
                "#B0BEC5",
                "#B0BEC5",
                "#B0BEC5",
                "#B0BEC5",
                "#B0BEC5",
                "red",
                "#B0BEC5",
                "#B0BEC5",
                "#B0BEC5",
                "#B0BEC5",
                "#B0BEC5",
                "#B0BEC5",
                "#B0BEC5",
                "#B0BEC5",
                "#B0BEC5",
                "#B0BEC5",
                "#B0BEC5",
                "#B0BEC5",
                "#B0BEC5",
                "#B0BEC5",
                "#B0BEC5",
                "#B0BEC5",
                "#B0BEC5",
                "#B0BEC5",
                "#B0BEC5",
                "#B0BEC5"
               ]
              ]
             }
            ],
            "label": "Topic 15",
            "method": "update"
           },
           {
            "args": [
             {
              "marker.color": [
               [
                "#B0BEC5",
                "#B0BEC5",
                "#B0BEC5",
                "#B0BEC5",
                "#B0BEC5",
                "#B0BEC5",
                "#B0BEC5",
                "#B0BEC5",
                "#B0BEC5",
                "#B0BEC5",
                "#B0BEC5",
                "#B0BEC5",
                "#B0BEC5",
                "#B0BEC5",
                "#B0BEC5",
                "#B0BEC5",
                "red",
                "#B0BEC5",
                "#B0BEC5",
                "#B0BEC5",
                "#B0BEC5",
                "#B0BEC5",
                "#B0BEC5",
                "#B0BEC5",
                "#B0BEC5",
                "#B0BEC5",
                "#B0BEC5",
                "#B0BEC5",
                "#B0BEC5",
                "#B0BEC5",
                "#B0BEC5",
                "#B0BEC5",
                "#B0BEC5",
                "#B0BEC5",
                "#B0BEC5",
                "#B0BEC5"
               ]
              ]
             }
            ],
            "label": "Topic 16",
            "method": "update"
           },
           {
            "args": [
             {
              "marker.color": [
               [
                "#B0BEC5",
                "#B0BEC5",
                "#B0BEC5",
                "#B0BEC5",
                "#B0BEC5",
                "#B0BEC5",
                "#B0BEC5",
                "#B0BEC5",
                "#B0BEC5",
                "#B0BEC5",
                "#B0BEC5",
                "#B0BEC5",
                "#B0BEC5",
                "#B0BEC5",
                "#B0BEC5",
                "#B0BEC5",
                "#B0BEC5",
                "red",
                "#B0BEC5",
                "#B0BEC5",
                "#B0BEC5",
                "#B0BEC5",
                "#B0BEC5",
                "#B0BEC5",
                "#B0BEC5",
                "#B0BEC5",
                "#B0BEC5",
                "#B0BEC5",
                "#B0BEC5",
                "#B0BEC5",
                "#B0BEC5",
                "#B0BEC5",
                "#B0BEC5",
                "#B0BEC5",
                "#B0BEC5",
                "#B0BEC5"
               ]
              ]
             }
            ],
            "label": "Topic 17",
            "method": "update"
           },
           {
            "args": [
             {
              "marker.color": [
               [
                "#B0BEC5",
                "#B0BEC5",
                "#B0BEC5",
                "#B0BEC5",
                "#B0BEC5",
                "#B0BEC5",
                "#B0BEC5",
                "#B0BEC5",
                "#B0BEC5",
                "#B0BEC5",
                "#B0BEC5",
                "#B0BEC5",
                "#B0BEC5",
                "#B0BEC5",
                "#B0BEC5",
                "#B0BEC5",
                "#B0BEC5",
                "#B0BEC5",
                "red",
                "#B0BEC5",
                "#B0BEC5",
                "#B0BEC5",
                "#B0BEC5",
                "#B0BEC5",
                "#B0BEC5",
                "#B0BEC5",
                "#B0BEC5",
                "#B0BEC5",
                "#B0BEC5",
                "#B0BEC5",
                "#B0BEC5",
                "#B0BEC5",
                "#B0BEC5",
                "#B0BEC5",
                "#B0BEC5",
                "#B0BEC5"
               ]
              ]
             }
            ],
            "label": "Topic 18",
            "method": "update"
           },
           {
            "args": [
             {
              "marker.color": [
               [
                "#B0BEC5",
                "#B0BEC5",
                "#B0BEC5",
                "#B0BEC5",
                "#B0BEC5",
                "#B0BEC5",
                "#B0BEC5",
                "#B0BEC5",
                "#B0BEC5",
                "#B0BEC5",
                "#B0BEC5",
                "#B0BEC5",
                "#B0BEC5",
                "#B0BEC5",
                "#B0BEC5",
                "#B0BEC5",
                "#B0BEC5",
                "#B0BEC5",
                "#B0BEC5",
                "red",
                "#B0BEC5",
                "#B0BEC5",
                "#B0BEC5",
                "#B0BEC5",
                "#B0BEC5",
                "#B0BEC5",
                "#B0BEC5",
                "#B0BEC5",
                "#B0BEC5",
                "#B0BEC5",
                "#B0BEC5",
                "#B0BEC5",
                "#B0BEC5",
                "#B0BEC5",
                "#B0BEC5",
                "#B0BEC5"
               ]
              ]
             }
            ],
            "label": "Topic 19",
            "method": "update"
           },
           {
            "args": [
             {
              "marker.color": [
               [
                "#B0BEC5",
                "#B0BEC5",
                "#B0BEC5",
                "#B0BEC5",
                "#B0BEC5",
                "#B0BEC5",
                "#B0BEC5",
                "#B0BEC5",
                "#B0BEC5",
                "#B0BEC5",
                "#B0BEC5",
                "#B0BEC5",
                "#B0BEC5",
                "#B0BEC5",
                "#B0BEC5",
                "#B0BEC5",
                "#B0BEC5",
                "#B0BEC5",
                "#B0BEC5",
                "#B0BEC5",
                "red",
                "#B0BEC5",
                "#B0BEC5",
                "#B0BEC5",
                "#B0BEC5",
                "#B0BEC5",
                "#B0BEC5",
                "#B0BEC5",
                "#B0BEC5",
                "#B0BEC5",
                "#B0BEC5",
                "#B0BEC5",
                "#B0BEC5",
                "#B0BEC5",
                "#B0BEC5",
                "#B0BEC5"
               ]
              ]
             }
            ],
            "label": "Topic 20",
            "method": "update"
           },
           {
            "args": [
             {
              "marker.color": [
               [
                "#B0BEC5",
                "#B0BEC5",
                "#B0BEC5",
                "#B0BEC5",
                "#B0BEC5",
                "#B0BEC5",
                "#B0BEC5",
                "#B0BEC5",
                "#B0BEC5",
                "#B0BEC5",
                "#B0BEC5",
                "#B0BEC5",
                "#B0BEC5",
                "#B0BEC5",
                "#B0BEC5",
                "#B0BEC5",
                "#B0BEC5",
                "#B0BEC5",
                "#B0BEC5",
                "#B0BEC5",
                "#B0BEC5",
                "red",
                "#B0BEC5",
                "#B0BEC5",
                "#B0BEC5",
                "#B0BEC5",
                "#B0BEC5",
                "#B0BEC5",
                "#B0BEC5",
                "#B0BEC5",
                "#B0BEC5",
                "#B0BEC5",
                "#B0BEC5",
                "#B0BEC5",
                "#B0BEC5",
                "#B0BEC5"
               ]
              ]
             }
            ],
            "label": "Topic 21",
            "method": "update"
           },
           {
            "args": [
             {
              "marker.color": [
               [
                "#B0BEC5",
                "#B0BEC5",
                "#B0BEC5",
                "#B0BEC5",
                "#B0BEC5",
                "#B0BEC5",
                "#B0BEC5",
                "#B0BEC5",
                "#B0BEC5",
                "#B0BEC5",
                "#B0BEC5",
                "#B0BEC5",
                "#B0BEC5",
                "#B0BEC5",
                "#B0BEC5",
                "#B0BEC5",
                "#B0BEC5",
                "#B0BEC5",
                "#B0BEC5",
                "#B0BEC5",
                "#B0BEC5",
                "#B0BEC5",
                "red",
                "#B0BEC5",
                "#B0BEC5",
                "#B0BEC5",
                "#B0BEC5",
                "#B0BEC5",
                "#B0BEC5",
                "#B0BEC5",
                "#B0BEC5",
                "#B0BEC5",
                "#B0BEC5",
                "#B0BEC5",
                "#B0BEC5",
                "#B0BEC5"
               ]
              ]
             }
            ],
            "label": "Topic 22",
            "method": "update"
           },
           {
            "args": [
             {
              "marker.color": [
               [
                "#B0BEC5",
                "#B0BEC5",
                "#B0BEC5",
                "#B0BEC5",
                "#B0BEC5",
                "#B0BEC5",
                "#B0BEC5",
                "#B0BEC5",
                "#B0BEC5",
                "#B0BEC5",
                "#B0BEC5",
                "#B0BEC5",
                "#B0BEC5",
                "#B0BEC5",
                "#B0BEC5",
                "#B0BEC5",
                "#B0BEC5",
                "#B0BEC5",
                "#B0BEC5",
                "#B0BEC5",
                "#B0BEC5",
                "#B0BEC5",
                "#B0BEC5",
                "red",
                "#B0BEC5",
                "#B0BEC5",
                "#B0BEC5",
                "#B0BEC5",
                "#B0BEC5",
                "#B0BEC5",
                "#B0BEC5",
                "#B0BEC5",
                "#B0BEC5",
                "#B0BEC5",
                "#B0BEC5",
                "#B0BEC5"
               ]
              ]
             }
            ],
            "label": "Topic 23",
            "method": "update"
           },
           {
            "args": [
             {
              "marker.color": [
               [
                "#B0BEC5",
                "#B0BEC5",
                "#B0BEC5",
                "#B0BEC5",
                "#B0BEC5",
                "#B0BEC5",
                "#B0BEC5",
                "#B0BEC5",
                "#B0BEC5",
                "#B0BEC5",
                "#B0BEC5",
                "#B0BEC5",
                "#B0BEC5",
                "#B0BEC5",
                "#B0BEC5",
                "#B0BEC5",
                "#B0BEC5",
                "#B0BEC5",
                "#B0BEC5",
                "#B0BEC5",
                "#B0BEC5",
                "#B0BEC5",
                "#B0BEC5",
                "#B0BEC5",
                "red",
                "#B0BEC5",
                "#B0BEC5",
                "#B0BEC5",
                "#B0BEC5",
                "#B0BEC5",
                "#B0BEC5",
                "#B0BEC5",
                "#B0BEC5",
                "#B0BEC5",
                "#B0BEC5",
                "#B0BEC5"
               ]
              ]
             }
            ],
            "label": "Topic 24",
            "method": "update"
           },
           {
            "args": [
             {
              "marker.color": [
               [
                "#B0BEC5",
                "#B0BEC5",
                "#B0BEC5",
                "#B0BEC5",
                "#B0BEC5",
                "#B0BEC5",
                "#B0BEC5",
                "#B0BEC5",
                "#B0BEC5",
                "#B0BEC5",
                "#B0BEC5",
                "#B0BEC5",
                "#B0BEC5",
                "#B0BEC5",
                "#B0BEC5",
                "#B0BEC5",
                "#B0BEC5",
                "#B0BEC5",
                "#B0BEC5",
                "#B0BEC5",
                "#B0BEC5",
                "#B0BEC5",
                "#B0BEC5",
                "#B0BEC5",
                "#B0BEC5",
                "red",
                "#B0BEC5",
                "#B0BEC5",
                "#B0BEC5",
                "#B0BEC5",
                "#B0BEC5",
                "#B0BEC5",
                "#B0BEC5",
                "#B0BEC5",
                "#B0BEC5",
                "#B0BEC5"
               ]
              ]
             }
            ],
            "label": "Topic 25",
            "method": "update"
           },
           {
            "args": [
             {
              "marker.color": [
               [
                "#B0BEC5",
                "#B0BEC5",
                "#B0BEC5",
                "#B0BEC5",
                "#B0BEC5",
                "#B0BEC5",
                "#B0BEC5",
                "#B0BEC5",
                "#B0BEC5",
                "#B0BEC5",
                "#B0BEC5",
                "#B0BEC5",
                "#B0BEC5",
                "#B0BEC5",
                "#B0BEC5",
                "#B0BEC5",
                "#B0BEC5",
                "#B0BEC5",
                "#B0BEC5",
                "#B0BEC5",
                "#B0BEC5",
                "#B0BEC5",
                "#B0BEC5",
                "#B0BEC5",
                "#B0BEC5",
                "#B0BEC5",
                "red",
                "#B0BEC5",
                "#B0BEC5",
                "#B0BEC5",
                "#B0BEC5",
                "#B0BEC5",
                "#B0BEC5",
                "#B0BEC5",
                "#B0BEC5",
                "#B0BEC5"
               ]
              ]
             }
            ],
            "label": "Topic 26",
            "method": "update"
           },
           {
            "args": [
             {
              "marker.color": [
               [
                "#B0BEC5",
                "#B0BEC5",
                "#B0BEC5",
                "#B0BEC5",
                "#B0BEC5",
                "#B0BEC5",
                "#B0BEC5",
                "#B0BEC5",
                "#B0BEC5",
                "#B0BEC5",
                "#B0BEC5",
                "#B0BEC5",
                "#B0BEC5",
                "#B0BEC5",
                "#B0BEC5",
                "#B0BEC5",
                "#B0BEC5",
                "#B0BEC5",
                "#B0BEC5",
                "#B0BEC5",
                "#B0BEC5",
                "#B0BEC5",
                "#B0BEC5",
                "#B0BEC5",
                "#B0BEC5",
                "#B0BEC5",
                "#B0BEC5",
                "red",
                "#B0BEC5",
                "#B0BEC5",
                "#B0BEC5",
                "#B0BEC5",
                "#B0BEC5",
                "#B0BEC5",
                "#B0BEC5",
                "#B0BEC5"
               ]
              ]
             }
            ],
            "label": "Topic 27",
            "method": "update"
           },
           {
            "args": [
             {
              "marker.color": [
               [
                "#B0BEC5",
                "#B0BEC5",
                "#B0BEC5",
                "#B0BEC5",
                "#B0BEC5",
                "#B0BEC5",
                "#B0BEC5",
                "#B0BEC5",
                "#B0BEC5",
                "#B0BEC5",
                "#B0BEC5",
                "#B0BEC5",
                "#B0BEC5",
                "#B0BEC5",
                "#B0BEC5",
                "#B0BEC5",
                "#B0BEC5",
                "#B0BEC5",
                "#B0BEC5",
                "#B0BEC5",
                "#B0BEC5",
                "#B0BEC5",
                "#B0BEC5",
                "#B0BEC5",
                "#B0BEC5",
                "#B0BEC5",
                "#B0BEC5",
                "#B0BEC5",
                "red",
                "#B0BEC5",
                "#B0BEC5",
                "#B0BEC5",
                "#B0BEC5",
                "#B0BEC5",
                "#B0BEC5",
                "#B0BEC5"
               ]
              ]
             }
            ],
            "label": "Topic 28",
            "method": "update"
           },
           {
            "args": [
             {
              "marker.color": [
               [
                "#B0BEC5",
                "#B0BEC5",
                "#B0BEC5",
                "#B0BEC5",
                "#B0BEC5",
                "#B0BEC5",
                "#B0BEC5",
                "#B0BEC5",
                "#B0BEC5",
                "#B0BEC5",
                "#B0BEC5",
                "#B0BEC5",
                "#B0BEC5",
                "#B0BEC5",
                "#B0BEC5",
                "#B0BEC5",
                "#B0BEC5",
                "#B0BEC5",
                "#B0BEC5",
                "#B0BEC5",
                "#B0BEC5",
                "#B0BEC5",
                "#B0BEC5",
                "#B0BEC5",
                "#B0BEC5",
                "#B0BEC5",
                "#B0BEC5",
                "#B0BEC5",
                "#B0BEC5",
                "red",
                "#B0BEC5",
                "#B0BEC5",
                "#B0BEC5",
                "#B0BEC5",
                "#B0BEC5",
                "#B0BEC5"
               ]
              ]
             }
            ],
            "label": "Topic 29",
            "method": "update"
           },
           {
            "args": [
             {
              "marker.color": [
               [
                "#B0BEC5",
                "#B0BEC5",
                "#B0BEC5",
                "#B0BEC5",
                "#B0BEC5",
                "#B0BEC5",
                "#B0BEC5",
                "#B0BEC5",
                "#B0BEC5",
                "#B0BEC5",
                "#B0BEC5",
                "#B0BEC5",
                "#B0BEC5",
                "#B0BEC5",
                "#B0BEC5",
                "#B0BEC5",
                "#B0BEC5",
                "#B0BEC5",
                "#B0BEC5",
                "#B0BEC5",
                "#B0BEC5",
                "#B0BEC5",
                "#B0BEC5",
                "#B0BEC5",
                "#B0BEC5",
                "#B0BEC5",
                "#B0BEC5",
                "#B0BEC5",
                "#B0BEC5",
                "#B0BEC5",
                "red",
                "#B0BEC5",
                "#B0BEC5",
                "#B0BEC5",
                "#B0BEC5",
                "#B0BEC5"
               ]
              ]
             }
            ],
            "label": "Topic 30",
            "method": "update"
           },
           {
            "args": [
             {
              "marker.color": [
               [
                "#B0BEC5",
                "#B0BEC5",
                "#B0BEC5",
                "#B0BEC5",
                "#B0BEC5",
                "#B0BEC5",
                "#B0BEC5",
                "#B0BEC5",
                "#B0BEC5",
                "#B0BEC5",
                "#B0BEC5",
                "#B0BEC5",
                "#B0BEC5",
                "#B0BEC5",
                "#B0BEC5",
                "#B0BEC5",
                "#B0BEC5",
                "#B0BEC5",
                "#B0BEC5",
                "#B0BEC5",
                "#B0BEC5",
                "#B0BEC5",
                "#B0BEC5",
                "#B0BEC5",
                "#B0BEC5",
                "#B0BEC5",
                "#B0BEC5",
                "#B0BEC5",
                "#B0BEC5",
                "#B0BEC5",
                "#B0BEC5",
                "red",
                "#B0BEC5",
                "#B0BEC5",
                "#B0BEC5",
                "#B0BEC5"
               ]
              ]
             }
            ],
            "label": "Topic 31",
            "method": "update"
           },
           {
            "args": [
             {
              "marker.color": [
               [
                "#B0BEC5",
                "#B0BEC5",
                "#B0BEC5",
                "#B0BEC5",
                "#B0BEC5",
                "#B0BEC5",
                "#B0BEC5",
                "#B0BEC5",
                "#B0BEC5",
                "#B0BEC5",
                "#B0BEC5",
                "#B0BEC5",
                "#B0BEC5",
                "#B0BEC5",
                "#B0BEC5",
                "#B0BEC5",
                "#B0BEC5",
                "#B0BEC5",
                "#B0BEC5",
                "#B0BEC5",
                "#B0BEC5",
                "#B0BEC5",
                "#B0BEC5",
                "#B0BEC5",
                "#B0BEC5",
                "#B0BEC5",
                "#B0BEC5",
                "#B0BEC5",
                "#B0BEC5",
                "#B0BEC5",
                "#B0BEC5",
                "#B0BEC5",
                "red",
                "#B0BEC5",
                "#B0BEC5",
                "#B0BEC5"
               ]
              ]
             }
            ],
            "label": "Topic 32",
            "method": "update"
           },
           {
            "args": [
             {
              "marker.color": [
               [
                "#B0BEC5",
                "#B0BEC5",
                "#B0BEC5",
                "#B0BEC5",
                "#B0BEC5",
                "#B0BEC5",
                "#B0BEC5",
                "#B0BEC5",
                "#B0BEC5",
                "#B0BEC5",
                "#B0BEC5",
                "#B0BEC5",
                "#B0BEC5",
                "#B0BEC5",
                "#B0BEC5",
                "#B0BEC5",
                "#B0BEC5",
                "#B0BEC5",
                "#B0BEC5",
                "#B0BEC5",
                "#B0BEC5",
                "#B0BEC5",
                "#B0BEC5",
                "#B0BEC5",
                "#B0BEC5",
                "#B0BEC5",
                "#B0BEC5",
                "#B0BEC5",
                "#B0BEC5",
                "#B0BEC5",
                "#B0BEC5",
                "#B0BEC5",
                "#B0BEC5",
                "red",
                "#B0BEC5",
                "#B0BEC5"
               ]
              ]
             }
            ],
            "label": "Topic 33",
            "method": "update"
           },
           {
            "args": [
             {
              "marker.color": [
               [
                "#B0BEC5",
                "#B0BEC5",
                "#B0BEC5",
                "#B0BEC5",
                "#B0BEC5",
                "#B0BEC5",
                "#B0BEC5",
                "#B0BEC5",
                "#B0BEC5",
                "#B0BEC5",
                "#B0BEC5",
                "#B0BEC5",
                "#B0BEC5",
                "#B0BEC5",
                "#B0BEC5",
                "#B0BEC5",
                "#B0BEC5",
                "#B0BEC5",
                "#B0BEC5",
                "#B0BEC5",
                "#B0BEC5",
                "#B0BEC5",
                "#B0BEC5",
                "#B0BEC5",
                "#B0BEC5",
                "#B0BEC5",
                "#B0BEC5",
                "#B0BEC5",
                "#B0BEC5",
                "#B0BEC5",
                "#B0BEC5",
                "#B0BEC5",
                "#B0BEC5",
                "#B0BEC5",
                "red",
                "#B0BEC5"
               ]
              ]
             }
            ],
            "label": "Topic 34",
            "method": "update"
           },
           {
            "args": [
             {
              "marker.color": [
               [
                "#B0BEC5",
                "#B0BEC5",
                "#B0BEC5",
                "#B0BEC5",
                "#B0BEC5",
                "#B0BEC5",
                "#B0BEC5",
                "#B0BEC5",
                "#B0BEC5",
                "#B0BEC5",
                "#B0BEC5",
                "#B0BEC5",
                "#B0BEC5",
                "#B0BEC5",
                "#B0BEC5",
                "#B0BEC5",
                "#B0BEC5",
                "#B0BEC5",
                "#B0BEC5",
                "#B0BEC5",
                "#B0BEC5",
                "#B0BEC5",
                "#B0BEC5",
                "#B0BEC5",
                "#B0BEC5",
                "#B0BEC5",
                "#B0BEC5",
                "#B0BEC5",
                "#B0BEC5",
                "#B0BEC5",
                "#B0BEC5",
                "#B0BEC5",
                "#B0BEC5",
                "#B0BEC5",
                "#B0BEC5",
                "red"
               ]
              ]
             }
            ],
            "label": "Topic 35",
            "method": "update"
           }
          ]
         }
        ],
        "template": {
         "data": {
          "bar": [
           {
            "error_x": {
             "color": "rgb(36,36,36)"
            },
            "error_y": {
             "color": "rgb(36,36,36)"
            },
            "marker": {
             "line": {
              "color": "white",
              "width": 0.5
             },
             "pattern": {
              "fillmode": "overlay",
              "size": 10,
              "solidity": 0.2
             }
            },
            "type": "bar"
           }
          ],
          "barpolar": [
           {
            "marker": {
             "line": {
              "color": "white",
              "width": 0.5
             },
             "pattern": {
              "fillmode": "overlay",
              "size": 10,
              "solidity": 0.2
             }
            },
            "type": "barpolar"
           }
          ],
          "carpet": [
           {
            "aaxis": {
             "endlinecolor": "rgb(36,36,36)",
             "gridcolor": "white",
             "linecolor": "white",
             "minorgridcolor": "white",
             "startlinecolor": "rgb(36,36,36)"
            },
            "baxis": {
             "endlinecolor": "rgb(36,36,36)",
             "gridcolor": "white",
             "linecolor": "white",
             "minorgridcolor": "white",
             "startlinecolor": "rgb(36,36,36)"
            },
            "type": "carpet"
           }
          ],
          "choropleth": [
           {
            "colorbar": {
             "outlinewidth": 1,
             "tickcolor": "rgb(36,36,36)",
             "ticks": "outside"
            },
            "type": "choropleth"
           }
          ],
          "contour": [
           {
            "colorbar": {
             "outlinewidth": 1,
             "tickcolor": "rgb(36,36,36)",
             "ticks": "outside"
            },
            "colorscale": [
             [
              0,
              "#440154"
             ],
             [
              0.1111111111111111,
              "#482878"
             ],
             [
              0.2222222222222222,
              "#3e4989"
             ],
             [
              0.3333333333333333,
              "#31688e"
             ],
             [
              0.4444444444444444,
              "#26828e"
             ],
             [
              0.5555555555555556,
              "#1f9e89"
             ],
             [
              0.6666666666666666,
              "#35b779"
             ],
             [
              0.7777777777777778,
              "#6ece58"
             ],
             [
              0.8888888888888888,
              "#b5de2b"
             ],
             [
              1,
              "#fde725"
             ]
            ],
            "type": "contour"
           }
          ],
          "contourcarpet": [
           {
            "colorbar": {
             "outlinewidth": 1,
             "tickcolor": "rgb(36,36,36)",
             "ticks": "outside"
            },
            "type": "contourcarpet"
           }
          ],
          "heatmap": [
           {
            "colorbar": {
             "outlinewidth": 1,
             "tickcolor": "rgb(36,36,36)",
             "ticks": "outside"
            },
            "colorscale": [
             [
              0,
              "#440154"
             ],
             [
              0.1111111111111111,
              "#482878"
             ],
             [
              0.2222222222222222,
              "#3e4989"
             ],
             [
              0.3333333333333333,
              "#31688e"
             ],
             [
              0.4444444444444444,
              "#26828e"
             ],
             [
              0.5555555555555556,
              "#1f9e89"
             ],
             [
              0.6666666666666666,
              "#35b779"
             ],
             [
              0.7777777777777778,
              "#6ece58"
             ],
             [
              0.8888888888888888,
              "#b5de2b"
             ],
             [
              1,
              "#fde725"
             ]
            ],
            "type": "heatmap"
           }
          ],
          "heatmapgl": [
           {
            "colorbar": {
             "outlinewidth": 1,
             "tickcolor": "rgb(36,36,36)",
             "ticks": "outside"
            },
            "colorscale": [
             [
              0,
              "#440154"
             ],
             [
              0.1111111111111111,
              "#482878"
             ],
             [
              0.2222222222222222,
              "#3e4989"
             ],
             [
              0.3333333333333333,
              "#31688e"
             ],
             [
              0.4444444444444444,
              "#26828e"
             ],
             [
              0.5555555555555556,
              "#1f9e89"
             ],
             [
              0.6666666666666666,
              "#35b779"
             ],
             [
              0.7777777777777778,
              "#6ece58"
             ],
             [
              0.8888888888888888,
              "#b5de2b"
             ],
             [
              1,
              "#fde725"
             ]
            ],
            "type": "heatmapgl"
           }
          ],
          "histogram": [
           {
            "marker": {
             "line": {
              "color": "white",
              "width": 0.6
             }
            },
            "type": "histogram"
           }
          ],
          "histogram2d": [
           {
            "colorbar": {
             "outlinewidth": 1,
             "tickcolor": "rgb(36,36,36)",
             "ticks": "outside"
            },
            "colorscale": [
             [
              0,
              "#440154"
             ],
             [
              0.1111111111111111,
              "#482878"
             ],
             [
              0.2222222222222222,
              "#3e4989"
             ],
             [
              0.3333333333333333,
              "#31688e"
             ],
             [
              0.4444444444444444,
              "#26828e"
             ],
             [
              0.5555555555555556,
              "#1f9e89"
             ],
             [
              0.6666666666666666,
              "#35b779"
             ],
             [
              0.7777777777777778,
              "#6ece58"
             ],
             [
              0.8888888888888888,
              "#b5de2b"
             ],
             [
              1,
              "#fde725"
             ]
            ],
            "type": "histogram2d"
           }
          ],
          "histogram2dcontour": [
           {
            "colorbar": {
             "outlinewidth": 1,
             "tickcolor": "rgb(36,36,36)",
             "ticks": "outside"
            },
            "colorscale": [
             [
              0,
              "#440154"
             ],
             [
              0.1111111111111111,
              "#482878"
             ],
             [
              0.2222222222222222,
              "#3e4989"
             ],
             [
              0.3333333333333333,
              "#31688e"
             ],
             [
              0.4444444444444444,
              "#26828e"
             ],
             [
              0.5555555555555556,
              "#1f9e89"
             ],
             [
              0.6666666666666666,
              "#35b779"
             ],
             [
              0.7777777777777778,
              "#6ece58"
             ],
             [
              0.8888888888888888,
              "#b5de2b"
             ],
             [
              1,
              "#fde725"
             ]
            ],
            "type": "histogram2dcontour"
           }
          ],
          "mesh3d": [
           {
            "colorbar": {
             "outlinewidth": 1,
             "tickcolor": "rgb(36,36,36)",
             "ticks": "outside"
            },
            "type": "mesh3d"
           }
          ],
          "parcoords": [
           {
            "line": {
             "colorbar": {
              "outlinewidth": 1,
              "tickcolor": "rgb(36,36,36)",
              "ticks": "outside"
             }
            },
            "type": "parcoords"
           }
          ],
          "pie": [
           {
            "automargin": true,
            "type": "pie"
           }
          ],
          "scatter": [
           {
            "fillpattern": {
             "fillmode": "overlay",
             "size": 10,
             "solidity": 0.2
            },
            "type": "scatter"
           }
          ],
          "scatter3d": [
           {
            "line": {
             "colorbar": {
              "outlinewidth": 1,
              "tickcolor": "rgb(36,36,36)",
              "ticks": "outside"
             }
            },
            "marker": {
             "colorbar": {
              "outlinewidth": 1,
              "tickcolor": "rgb(36,36,36)",
              "ticks": "outside"
             }
            },
            "type": "scatter3d"
           }
          ],
          "scattercarpet": [
           {
            "marker": {
             "colorbar": {
              "outlinewidth": 1,
              "tickcolor": "rgb(36,36,36)",
              "ticks": "outside"
             }
            },
            "type": "scattercarpet"
           }
          ],
          "scattergeo": [
           {
            "marker": {
             "colorbar": {
              "outlinewidth": 1,
              "tickcolor": "rgb(36,36,36)",
              "ticks": "outside"
             }
            },
            "type": "scattergeo"
           }
          ],
          "scattergl": [
           {
            "marker": {
             "colorbar": {
              "outlinewidth": 1,
              "tickcolor": "rgb(36,36,36)",
              "ticks": "outside"
             }
            },
            "type": "scattergl"
           }
          ],
          "scattermapbox": [
           {
            "marker": {
             "colorbar": {
              "outlinewidth": 1,
              "tickcolor": "rgb(36,36,36)",
              "ticks": "outside"
             }
            },
            "type": "scattermapbox"
           }
          ],
          "scatterpolar": [
           {
            "marker": {
             "colorbar": {
              "outlinewidth": 1,
              "tickcolor": "rgb(36,36,36)",
              "ticks": "outside"
             }
            },
            "type": "scatterpolar"
           }
          ],
          "scatterpolargl": [
           {
            "marker": {
             "colorbar": {
              "outlinewidth": 1,
              "tickcolor": "rgb(36,36,36)",
              "ticks": "outside"
             }
            },
            "type": "scatterpolargl"
           }
          ],
          "scatterternary": [
           {
            "marker": {
             "colorbar": {
              "outlinewidth": 1,
              "tickcolor": "rgb(36,36,36)",
              "ticks": "outside"
             }
            },
            "type": "scatterternary"
           }
          ],
          "surface": [
           {
            "colorbar": {
             "outlinewidth": 1,
             "tickcolor": "rgb(36,36,36)",
             "ticks": "outside"
            },
            "colorscale": [
             [
              0,
              "#440154"
             ],
             [
              0.1111111111111111,
              "#482878"
             ],
             [
              0.2222222222222222,
              "#3e4989"
             ],
             [
              0.3333333333333333,
              "#31688e"
             ],
             [
              0.4444444444444444,
              "#26828e"
             ],
             [
              0.5555555555555556,
              "#1f9e89"
             ],
             [
              0.6666666666666666,
              "#35b779"
             ],
             [
              0.7777777777777778,
              "#6ece58"
             ],
             [
              0.8888888888888888,
              "#b5de2b"
             ],
             [
              1,
              "#fde725"
             ]
            ],
            "type": "surface"
           }
          ],
          "table": [
           {
            "cells": {
             "fill": {
              "color": "rgb(237,237,237)"
             },
             "line": {
              "color": "white"
             }
            },
            "header": {
             "fill": {
              "color": "rgb(217,217,217)"
             },
             "line": {
              "color": "white"
             }
            },
            "type": "table"
           }
          ]
         },
         "layout": {
          "annotationdefaults": {
           "arrowhead": 0,
           "arrowwidth": 1
          },
          "autotypenumbers": "strict",
          "coloraxis": {
           "colorbar": {
            "outlinewidth": 1,
            "tickcolor": "rgb(36,36,36)",
            "ticks": "outside"
           }
          },
          "colorscale": {
           "diverging": [
            [
             0,
             "rgb(103,0,31)"
            ],
            [
             0.1,
             "rgb(178,24,43)"
            ],
            [
             0.2,
             "rgb(214,96,77)"
            ],
            [
             0.3,
             "rgb(244,165,130)"
            ],
            [
             0.4,
             "rgb(253,219,199)"
            ],
            [
             0.5,
             "rgb(247,247,247)"
            ],
            [
             0.6,
             "rgb(209,229,240)"
            ],
            [
             0.7,
             "rgb(146,197,222)"
            ],
            [
             0.8,
             "rgb(67,147,195)"
            ],
            [
             0.9,
             "rgb(33,102,172)"
            ],
            [
             1,
             "rgb(5,48,97)"
            ]
           ],
           "sequential": [
            [
             0,
             "#440154"
            ],
            [
             0.1111111111111111,
             "#482878"
            ],
            [
             0.2222222222222222,
             "#3e4989"
            ],
            [
             0.3333333333333333,
             "#31688e"
            ],
            [
             0.4444444444444444,
             "#26828e"
            ],
            [
             0.5555555555555556,
             "#1f9e89"
            ],
            [
             0.6666666666666666,
             "#35b779"
            ],
            [
             0.7777777777777778,
             "#6ece58"
            ],
            [
             0.8888888888888888,
             "#b5de2b"
            ],
            [
             1,
             "#fde725"
            ]
           ],
           "sequentialminus": [
            [
             0,
             "#440154"
            ],
            [
             0.1111111111111111,
             "#482878"
            ],
            [
             0.2222222222222222,
             "#3e4989"
            ],
            [
             0.3333333333333333,
             "#31688e"
            ],
            [
             0.4444444444444444,
             "#26828e"
            ],
            [
             0.5555555555555556,
             "#1f9e89"
            ],
            [
             0.6666666666666666,
             "#35b779"
            ],
            [
             0.7777777777777778,
             "#6ece58"
            ],
            [
             0.8888888888888888,
             "#b5de2b"
            ],
            [
             1,
             "#fde725"
            ]
           ]
          },
          "colorway": [
           "#1F77B4",
           "#FF7F0E",
           "#2CA02C",
           "#D62728",
           "#9467BD",
           "#8C564B",
           "#E377C2",
           "#7F7F7F",
           "#BCBD22",
           "#17BECF"
          ],
          "font": {
           "color": "rgb(36,36,36)"
          },
          "geo": {
           "bgcolor": "white",
           "lakecolor": "white",
           "landcolor": "white",
           "showlakes": true,
           "showland": true,
           "subunitcolor": "white"
          },
          "hoverlabel": {
           "align": "left"
          },
          "hovermode": "closest",
          "mapbox": {
           "style": "light"
          },
          "paper_bgcolor": "white",
          "plot_bgcolor": "white",
          "polar": {
           "angularaxis": {
            "gridcolor": "rgb(232,232,232)",
            "linecolor": "rgb(36,36,36)",
            "showgrid": false,
            "showline": true,
            "ticks": "outside"
           },
           "bgcolor": "white",
           "radialaxis": {
            "gridcolor": "rgb(232,232,232)",
            "linecolor": "rgb(36,36,36)",
            "showgrid": false,
            "showline": true,
            "ticks": "outside"
           }
          },
          "scene": {
           "xaxis": {
            "backgroundcolor": "white",
            "gridcolor": "rgb(232,232,232)",
            "gridwidth": 2,
            "linecolor": "rgb(36,36,36)",
            "showbackground": true,
            "showgrid": false,
            "showline": true,
            "ticks": "outside",
            "zeroline": false,
            "zerolinecolor": "rgb(36,36,36)"
           },
           "yaxis": {
            "backgroundcolor": "white",
            "gridcolor": "rgb(232,232,232)",
            "gridwidth": 2,
            "linecolor": "rgb(36,36,36)",
            "showbackground": true,
            "showgrid": false,
            "showline": true,
            "ticks": "outside",
            "zeroline": false,
            "zerolinecolor": "rgb(36,36,36)"
           },
           "zaxis": {
            "backgroundcolor": "white",
            "gridcolor": "rgb(232,232,232)",
            "gridwidth": 2,
            "linecolor": "rgb(36,36,36)",
            "showbackground": true,
            "showgrid": false,
            "showline": true,
            "ticks": "outside",
            "zeroline": false,
            "zerolinecolor": "rgb(36,36,36)"
           }
          },
          "shapedefaults": {
           "fillcolor": "black",
           "line": {
            "width": 0
           },
           "opacity": 0.3
          },
          "ternary": {
           "aaxis": {
            "gridcolor": "rgb(232,232,232)",
            "linecolor": "rgb(36,36,36)",
            "showgrid": false,
            "showline": true,
            "ticks": "outside"
           },
           "baxis": {
            "gridcolor": "rgb(232,232,232)",
            "linecolor": "rgb(36,36,36)",
            "showgrid": false,
            "showline": true,
            "ticks": "outside"
           },
           "bgcolor": "white",
           "caxis": {
            "gridcolor": "rgb(232,232,232)",
            "linecolor": "rgb(36,36,36)",
            "showgrid": false,
            "showline": true,
            "ticks": "outside"
           }
          },
          "title": {
           "x": 0.05
          },
          "xaxis": {
           "automargin": true,
           "gridcolor": "rgb(232,232,232)",
           "linecolor": "rgb(36,36,36)",
           "showgrid": false,
           "showline": true,
           "ticks": "outside",
           "title": {
            "standoff": 15
           },
           "zeroline": false,
           "zerolinecolor": "rgb(36,36,36)"
          },
          "yaxis": {
           "automargin": true,
           "gridcolor": "rgb(232,232,232)",
           "linecolor": "rgb(36,36,36)",
           "showgrid": false,
           "showline": true,
           "ticks": "outside",
           "title": {
            "standoff": 15
           },
           "zeroline": false,
           "zerolinecolor": "rgb(36,36,36)"
          }
         }
        },
        "title": {
         "font": {
          "color": "Black",
          "size": 22
         },
         "text": "<b>Intertopic Distance Map</b>",
         "x": 0.5,
         "xanchor": "center",
         "y": 0.95,
         "yanchor": "top"
        },
        "width": 650,
        "xaxis": {
         "anchor": "y",
         "domain": [
          0,
          1
         ],
         "range": [
          -11.019726371765136,
          13.40934419631958
         ],
         "title": {
          "text": ""
         },
         "visible": false
        },
        "yaxis": {
         "anchor": "x",
         "domain": [
          0,
          1
         ],
         "range": [
          0.2150074854493141,
          19.439305305480957
         ],
         "title": {
          "text": ""
         },
         "visible": false
        }
       }
      },
      "image/png": "[encoded data removed]",
      "text/html": [
       "<div>                            <div id=\"4fc9315a-3417-4f8b-ac44-665e40a33a19\" class=\"plotly-graph-div\" style=\"height:650px; width:650px;\"></div>            <script type=\"text/javascript\">                require([\"plotly\"], function(Plotly) {                    window.PLOTLYENV=window.PLOTLYENV || {};                                    if (document.getElementById(\"4fc9315a-3417-4f8b-ac44-665e40a33a19\")) {                    Plotly.newPlot(                        \"4fc9315a-3417-4f8b-ac44-665e40a33a19\",                        [{\"customdata\":[[0,\"semst | the | you | and | it\",126],[1,\"women | men | laws | do | choice\",48],[2,\"pray | prayer | prayers | us | babies\",25],[3,\"evil | love | jesus | lord | amen\",23],[4,\"rally4life | repealthe8th | he | bullying | ireland\",22],[5,\"black | blacklivesmatter | parenthood | lives | planned\",22],[6,\"gaymarriage | marriage | scotus | america | under\",22],[7,\"abortion | wrong | abort | dies | you\",21],[8,\"kill | killing | but | babies | eagles\",18],[9,\"pro | choice | can | people | be\",17],[10,\"feminism | against | dehumanizing | wills | rights\",16],[11,\"equal | equality | unborn | progress | rights\",16],[12,\"abortion | illegal | it | rape | is\",16],[13,\"abortion | glennbeck | plans | would | how\",14],[14,\"texas | scotus | clinics | blocking | law\",14],[15,\"prolife | life | pro | stance | thereadclub\",14],[16,\"adoption | parents | childcare | in | your\",13],[17,\"justintrudeau | peipoli | cdnpoli | truthtour | pei\",13],[18,\"body | use | rapeculture | consent | right\",13],[19,\"ronald | limb | em | libs | ccot\",12],[20,\"nation | pope | children | john | greatest\",11],[21,\"life | human | womb | prolifeyouth | on\",9],[22,\"yr | 000 | est | letstalkabortion | rate\",9],[23,\"christian | catholic | conservative | issue | abortion\",9],[24,\"medical | this | notyours | complications | procedures\",8],[25,\"pregnant | whoa | consenting | sex | get\",8],[26,\"conception | heart | starts | begins | at\",8],[27,\"autonomy | bodily | fetus | human | born\",7],[28,\"best | know | what | for | happiness\",7],[29,\"utilized | wonderful | uberfacts | gift | prochoice\",7],[30,\"feminist | feminists | less | womenagainstfeminism | opinions\",6],[31,\"wakeupamerica | 2a | proisrael | following | 1a\",6],[32,\"bristol | second | palin | abstinence | bristolpalin\",6],[33,\"pregnancy | enough | whether | take | to\",6],[34,\"human | worth | life | rowling | member\",5],[35,\"voice | unborn | for | will | be\",5]],\"hovertemplate\":\"\\u003cb\\u003eTopic %{customdata[0]}\\u003c\\u002fb\\u003e\\u003cbr\\u003e%{customdata[1]}\\u003cbr\\u003eSize: %{customdata[2]}\",\"legendgroup\":\"\",\"marker\":{\"color\":\"#B0BEC5\",\"size\":[126,48,25,23,22,22,22,21,18,17,16,16,16,14,14,14,13,13,13,12,11,9,9,9,8,8,8,7,7,7,6,6,6,6,5,5],\"sizemode\":\"area\",\"sizeref\":0.07875,\"symbol\":\"circle\",\"line\":{\"color\":\"DarkSlateGrey\",\"width\":2}},\"mode\":\"markers\",\"name\":\"\",\"orientation\":\"v\",\"showlegend\":false,\"x\":[10.494455,7.497455,-9.482398,-9.198333,11.660299,11.309401,7.000622,9.507729,9.569978,9.952295,7.908661,7.252242,8.159311,8.472797,10.898013,10.210445,3.6274014,10.681119,7.7070107,11.003136,-8.985497,10.335908,8.193264,7.642144,10.282213,3.3940437,2.8400342,3.0869157,10.402673,10.669657,8.0486355,11.576451,8.489117,3.5696757,10.280079,-9.582371],\"xaxis\":\"x\",\"y\":[4.945365,12.87031,7.2618365,6.976559,1.3762919,1.7183611,12.214596,15.435302,15.506849,15.955481,12.898708,12.369315,13.526399,13.960629,2.1844199,16.300795,0.25294998,2.3888512,13.148042,2.088627,6.763568,16.773787,14.217772,12.638241,5.1275387,0.48504683,1.0071043,0.7651383,5.036322,4.7684646,12.722901,1.5082879,13.973698,0.3063342,16.903744,7.362001],\"yaxis\":\"y\",\"type\":\"scatter\"}],                        {\"template\":{\"data\":{\"barpolar\":[{\"marker\":{\"line\":{\"color\":\"white\",\"width\":0.5},\"pattern\":{\"fillmode\":\"overlay\",\"size\":10,\"solidity\":0.2}},\"type\":\"barpolar\"}],\"bar\":[{\"error_x\":{\"color\":\"rgb(36,36,36)\"},\"error_y\":{\"color\":\"rgb(36,36,36)\"},\"marker\":{\"line\":{\"color\":\"white\",\"width\":0.5},\"pattern\":{\"fillmode\":\"overlay\",\"size\":10,\"solidity\":0.2}},\"type\":\"bar\"}],\"carpet\":[{\"aaxis\":{\"endlinecolor\":\"rgb(36,36,36)\",\"gridcolor\":\"white\",\"linecolor\":\"white\",\"minorgridcolor\":\"white\",\"startlinecolor\":\"rgb(36,36,36)\"},\"baxis\":{\"endlinecolor\":\"rgb(36,36,36)\",\"gridcolor\":\"white\",\"linecolor\":\"white\",\"minorgridcolor\":\"white\",\"startlinecolor\":\"rgb(36,36,36)\"},\"type\":\"carpet\"}],\"choropleth\":[{\"colorbar\":{\"outlinewidth\":1,\"tickcolor\":\"rgb(36,36,36)\",\"ticks\":\"outside\"},\"type\":\"choropleth\"}],\"contourcarpet\":[{\"colorbar\":{\"outlinewidth\":1,\"tickcolor\":\"rgb(36,36,36)\",\"ticks\":\"outside\"},\"type\":\"contourcarpet\"}],\"contour\":[{\"colorbar\":{\"outlinewidth\":1,\"tickcolor\":\"rgb(36,36,36)\",\"ticks\":\"outside\"},\"colorscale\":[[0.0,\"#440154\"],[0.1111111111111111,\"#482878\"],[0.2222222222222222,\"#3e4989\"],[0.3333333333333333,\"#31688e\"],[0.4444444444444444,\"#26828e\"],[0.5555555555555556,\"#1f9e89\"],[0.6666666666666666,\"#35b779\"],[0.7777777777777778,\"#6ece58\"],[0.8888888888888888,\"#b5de2b\"],[1.0,\"#fde725\"]],\"type\":\"contour\"}],\"heatmapgl\":[{\"colorbar\":{\"outlinewidth\":1,\"tickcolor\":\"rgb(36,36,36)\",\"ticks\":\"outside\"},\"colorscale\":[[0.0,\"#440154\"],[0.1111111111111111,\"#482878\"],[0.2222222222222222,\"#3e4989\"],[0.3333333333333333,\"#31688e\"],[0.4444444444444444,\"#26828e\"],[0.5555555555555556,\"#1f9e89\"],[0.6666666666666666,\"#35b779\"],[0.7777777777777778,\"#6ece58\"],[0.8888888888888888,\"#b5de2b\"],[1.0,\"#fde725\"]],\"type\":\"heatmapgl\"}],\"heatmap\":[{\"colorbar\":{\"outlinewidth\":1,\"tickcolor\":\"rgb(36,36,36)\",\"ticks\":\"outside\"},\"colorscale\":[[0.0,\"#440154\"],[0.1111111111111111,\"#482878\"],[0.2222222222222222,\"#3e4989\"],[0.3333333333333333,\"#31688e\"],[0.4444444444444444,\"#26828e\"],[0.5555555555555556,\"#1f9e89\"],[0.6666666666666666,\"#35b779\"],[0.7777777777777778,\"#6ece58\"],[0.8888888888888888,\"#b5de2b\"],[1.0,\"#fde725\"]],\"type\":\"heatmap\"}],\"histogram2dcontour\":[{\"colorbar\":{\"outlinewidth\":1,\"tickcolor\":\"rgb(36,36,36)\",\"ticks\":\"outside\"},\"colorscale\":[[0.0,\"#440154\"],[0.1111111111111111,\"#482878\"],[0.2222222222222222,\"#3e4989\"],[0.3333333333333333,\"#31688e\"],[0.4444444444444444,\"#26828e\"],[0.5555555555555556,\"#1f9e89\"],[0.6666666666666666,\"#35b779\"],[0.7777777777777778,\"#6ece58\"],[0.8888888888888888,\"#b5de2b\"],[1.0,\"#fde725\"]],\"type\":\"histogram2dcontour\"}],\"histogram2d\":[{\"colorbar\":{\"outlinewidth\":1,\"tickcolor\":\"rgb(36,36,36)\",\"ticks\":\"outside\"},\"colorscale\":[[0.0,\"#440154\"],[0.1111111111111111,\"#482878\"],[0.2222222222222222,\"#3e4989\"],[0.3333333333333333,\"#31688e\"],[0.4444444444444444,\"#26828e\"],[0.5555555555555556,\"#1f9e89\"],[0.6666666666666666,\"#35b779\"],[0.7777777777777778,\"#6ece58\"],[0.8888888888888888,\"#b5de2b\"],[1.0,\"#fde725\"]],\"type\":\"histogram2d\"}],\"histogram\":[{\"marker\":{\"line\":{\"color\":\"white\",\"width\":0.6}},\"type\":\"histogram\"}],\"mesh3d\":[{\"colorbar\":{\"outlinewidth\":1,\"tickcolor\":\"rgb(36,36,36)\",\"ticks\":\"outside\"},\"type\":\"mesh3d\"}],\"parcoords\":[{\"line\":{\"colorbar\":{\"outlinewidth\":1,\"tickcolor\":\"rgb(36,36,36)\",\"ticks\":\"outside\"}},\"type\":\"parcoords\"}],\"pie\":[{\"automargin\":true,\"type\":\"pie\"}],\"scatter3d\":[{\"line\":{\"colorbar\":{\"outlinewidth\":1,\"tickcolor\":\"rgb(36,36,36)\",\"ticks\":\"outside\"}},\"marker\":{\"colorbar\":{\"outlinewidth\":1,\"tickcolor\":\"rgb(36,36,36)\",\"ticks\":\"outside\"}},\"type\":\"scatter3d\"}],\"scattercarpet\":[{\"marker\":{\"colorbar\":{\"outlinewidth\":1,\"tickcolor\":\"rgb(36,36,36)\",\"ticks\":\"outside\"}},\"type\":\"scattercarpet\"}],\"scattergeo\":[{\"marker\":{\"colorbar\":{\"outlinewidth\":1,\"tickcolor\":\"rgb(36,36,36)\",\"ticks\":\"outside\"}},\"type\":\"scattergeo\"}],\"scattergl\":[{\"marker\":{\"colorbar\":{\"outlinewidth\":1,\"tickcolor\":\"rgb(36,36,36)\",\"ticks\":\"outside\"}},\"type\":\"scattergl\"}],\"scattermapbox\":[{\"marker\":{\"colorbar\":{\"outlinewidth\":1,\"tickcolor\":\"rgb(36,36,36)\",\"ticks\":\"outside\"}},\"type\":\"scattermapbox\"}],\"scatterpolargl\":[{\"marker\":{\"colorbar\":{\"outlinewidth\":1,\"tickcolor\":\"rgb(36,36,36)\",\"ticks\":\"outside\"}},\"type\":\"scatterpolargl\"}],\"scatterpolar\":[{\"marker\":{\"colorbar\":{\"outlinewidth\":1,\"tickcolor\":\"rgb(36,36,36)\",\"ticks\":\"outside\"}},\"type\":\"scatterpolar\"}],\"scatter\":[{\"fillpattern\":{\"fillmode\":\"overlay\",\"size\":10,\"solidity\":0.2},\"type\":\"scatter\"}],\"scatterternary\":[{\"marker\":{\"colorbar\":{\"outlinewidth\":1,\"tickcolor\":\"rgb(36,36,36)\",\"ticks\":\"outside\"}},\"type\":\"scatterternary\"}],\"surface\":[{\"colorbar\":{\"outlinewidth\":1,\"tickcolor\":\"rgb(36,36,36)\",\"ticks\":\"outside\"},\"colorscale\":[[0.0,\"#440154\"],[0.1111111111111111,\"#482878\"],[0.2222222222222222,\"#3e4989\"],[0.3333333333333333,\"#31688e\"],[0.4444444444444444,\"#26828e\"],[0.5555555555555556,\"#1f9e89\"],[0.6666666666666666,\"#35b779\"],[0.7777777777777778,\"#6ece58\"],[0.8888888888888888,\"#b5de2b\"],[1.0,\"#fde725\"]],\"type\":\"surface\"}],\"table\":[{\"cells\":{\"fill\":{\"color\":\"rgb(237,237,237)\"},\"line\":{\"color\":\"white\"}},\"header\":{\"fill\":{\"color\":\"rgb(217,217,217)\"},\"line\":{\"color\":\"white\"}},\"type\":\"table\"}]},\"layout\":{\"annotationdefaults\":{\"arrowhead\":0,\"arrowwidth\":1},\"autotypenumbers\":\"strict\",\"coloraxis\":{\"colorbar\":{\"outlinewidth\":1,\"tickcolor\":\"rgb(36,36,36)\",\"ticks\":\"outside\"}},\"colorscale\":{\"diverging\":[[0.0,\"rgb(103,0,31)\"],[0.1,\"rgb(178,24,43)\"],[0.2,\"rgb(214,96,77)\"],[0.3,\"rgb(244,165,130)\"],[0.4,\"rgb(253,219,199)\"],[0.5,\"rgb(247,247,247)\"],[0.6,\"rgb(209,229,240)\"],[0.7,\"rgb(146,197,222)\"],[0.8,\"rgb(67,147,195)\"],[0.9,\"rgb(33,102,172)\"],[1.0,\"rgb(5,48,97)\"]],\"sequential\":[[0.0,\"#440154\"],[0.1111111111111111,\"#482878\"],[0.2222222222222222,\"#3e4989\"],[0.3333333333333333,\"#31688e\"],[0.4444444444444444,\"#26828e\"],[0.5555555555555556,\"#1f9e89\"],[0.6666666666666666,\"#35b779\"],[0.7777777777777778,\"#6ece58\"],[0.8888888888888888,\"#b5de2b\"],[1.0,\"#fde725\"]],\"sequentialminus\":[[0.0,\"#440154\"],[0.1111111111111111,\"#482878\"],[0.2222222222222222,\"#3e4989\"],[0.3333333333333333,\"#31688e\"],[0.4444444444444444,\"#26828e\"],[0.5555555555555556,\"#1f9e89\"],[0.6666666666666666,\"#35b779\"],[0.7777777777777778,\"#6ece58\"],[0.8888888888888888,\"#b5de2b\"],[1.0,\"#fde725\"]]},\"colorway\":[\"#1F77B4\",\"#FF7F0E\",\"#2CA02C\",\"#D62728\",\"#9467BD\",\"#8C564B\",\"#E377C2\",\"#7F7F7F\",\"#BCBD22\",\"#17BECF\"],\"font\":{\"color\":\"rgb(36,36,36)\"},\"geo\":{\"bgcolor\":\"white\",\"lakecolor\":\"white\",\"landcolor\":\"white\",\"showlakes\":true,\"showland\":true,\"subunitcolor\":\"white\"},\"hoverlabel\":{\"align\":\"left\"},\"hovermode\":\"closest\",\"mapbox\":{\"style\":\"light\"},\"paper_bgcolor\":\"white\",\"plot_bgcolor\":\"white\",\"polar\":{\"angularaxis\":{\"gridcolor\":\"rgb(232,232,232)\",\"linecolor\":\"rgb(36,36,36)\",\"showgrid\":false,\"showline\":true,\"ticks\":\"outside\"},\"bgcolor\":\"white\",\"radialaxis\":{\"gridcolor\":\"rgb(232,232,232)\",\"linecolor\":\"rgb(36,36,36)\",\"showgrid\":false,\"showline\":true,\"ticks\":\"outside\"}},\"scene\":{\"xaxis\":{\"backgroundcolor\":\"white\",\"gridcolor\":\"rgb(232,232,232)\",\"gridwidth\":2,\"linecolor\":\"rgb(36,36,36)\",\"showbackground\":true,\"showgrid\":false,\"showline\":true,\"ticks\":\"outside\",\"zeroline\":false,\"zerolinecolor\":\"rgb(36,36,36)\"},\"yaxis\":{\"backgroundcolor\":\"white\",\"gridcolor\":\"rgb(232,232,232)\",\"gridwidth\":2,\"linecolor\":\"rgb(36,36,36)\",\"showbackground\":true,\"showgrid\":false,\"showline\":true,\"ticks\":\"outside\",\"zeroline\":false,\"zerolinecolor\":\"rgb(36,36,36)\"},\"zaxis\":{\"backgroundcolor\":\"white\",\"gridcolor\":\"rgb(232,232,232)\",\"gridwidth\":2,\"linecolor\":\"rgb(36,36,36)\",\"showbackground\":true,\"showgrid\":false,\"showline\":true,\"ticks\":\"outside\",\"zeroline\":false,\"zerolinecolor\":\"rgb(36,36,36)\"}},\"shapedefaults\":{\"fillcolor\":\"black\",\"line\":{\"width\":0},\"opacity\":0.3},\"ternary\":{\"aaxis\":{\"gridcolor\":\"rgb(232,232,232)\",\"linecolor\":\"rgb(36,36,36)\",\"showgrid\":false,\"showline\":true,\"ticks\":\"outside\"},\"baxis\":{\"gridcolor\":\"rgb(232,232,232)\",\"linecolor\":\"rgb(36,36,36)\",\"showgrid\":false,\"showline\":true,\"ticks\":\"outside\"},\"bgcolor\":\"white\",\"caxis\":{\"gridcolor\":\"rgb(232,232,232)\",\"linecolor\":\"rgb(36,36,36)\",\"showgrid\":false,\"showline\":true,\"ticks\":\"outside\"}},\"title\":{\"x\":0.05},\"xaxis\":{\"automargin\":true,\"gridcolor\":\"rgb(232,232,232)\",\"linecolor\":\"rgb(36,36,36)\",\"showgrid\":false,\"showline\":true,\"ticks\":\"outside\",\"title\":{\"standoff\":15},\"zeroline\":false,\"zerolinecolor\":\"rgb(36,36,36)\"},\"yaxis\":{\"automargin\":true,\"gridcolor\":\"rgb(232,232,232)\",\"linecolor\":\"rgb(36,36,36)\",\"showgrid\":false,\"showline\":true,\"ticks\":\"outside\",\"title\":{\"standoff\":15},\"zeroline\":false,\"zerolinecolor\":\"rgb(36,36,36)\"}}},\"xaxis\":{\"anchor\":\"y\",\"domain\":[0.0,1.0],\"title\":{\"text\":\"\"},\"visible\":false,\"range\":[-11.019726371765136,13.40934419631958]},\"yaxis\":{\"anchor\":\"x\",\"domain\":[0.0,1.0],\"title\":{\"text\":\"\"},\"visible\":false,\"range\":[0.2150074854493141,19.439305305480957]},\"legend\":{\"tracegroupgap\":0,\"itemsizing\":\"constant\"},\"margin\":{\"t\":60},\"title\":{\"font\":{\"size\":22,\"color\":\"Black\"},\"text\":\"\\u003cb\\u003eIntertopic Distance Map\\u003c\\u002fb\\u003e\",\"y\":0.95,\"x\":0.5,\"xanchor\":\"center\",\"yanchor\":\"top\"},\"hoverlabel\":{\"font\":{\"size\":16,\"family\":\"Rockwell\"},\"bgcolor\":\"white\"},\"width\":650,\"height\":650,\"sliders\":[{\"active\":0,\"pad\":{\"t\":50},\"steps\":[{\"args\":[{\"marker.color\":[[\"red\",\"#B0BEC5\",\"#B0BEC5\",\"#B0BEC5\",\"#B0BEC5\",\"#B0BEC5\",\"#B0BEC5\",\"#B0BEC5\",\"#B0BEC5\",\"#B0BEC5\",\"#B0BEC5\",\"#B0BEC5\",\"#B0BEC5\",\"#B0BEC5\",\"#B0BEC5\",\"#B0BEC5\",\"#B0BEC5\",\"#B0BEC5\",\"#B0BEC5\",\"#B0BEC5\",\"#B0BEC5\",\"#B0BEC5\",\"#B0BEC5\",\"#B0BEC5\",\"#B0BEC5\",\"#B0BEC5\",\"#B0BEC5\",\"#B0BEC5\",\"#B0BEC5\",\"#B0BEC5\",\"#B0BEC5\",\"#B0BEC5\",\"#B0BEC5\",\"#B0BEC5\",\"#B0BEC5\",\"#B0BEC5\"]]}],\"label\":\"Topic 0\",\"method\":\"update\"},{\"args\":[{\"marker.color\":[[\"#B0BEC5\",\"red\",\"#B0BEC5\",\"#B0BEC5\",\"#B0BEC5\",\"#B0BEC5\",\"#B0BEC5\",\"#B0BEC5\",\"#B0BEC5\",\"#B0BEC5\",\"#B0BEC5\",\"#B0BEC5\",\"#B0BEC5\",\"#B0BEC5\",\"#B0BEC5\",\"#B0BEC5\",\"#B0BEC5\",\"#B0BEC5\",\"#B0BEC5\",\"#B0BEC5\",\"#B0BEC5\",\"#B0BEC5\",\"#B0BEC5\",\"#B0BEC5\",\"#B0BEC5\",\"#B0BEC5\",\"#B0BEC5\",\"#B0BEC5\",\"#B0BEC5\",\"#B0BEC5\",\"#B0BEC5\",\"#B0BEC5\",\"#B0BEC5\",\"#B0BEC5\",\"#B0BEC5\",\"#B0BEC5\"]]}],\"label\":\"Topic 1\",\"method\":\"update\"},{\"args\":[{\"marker.color\":[[\"#B0BEC5\",\"#B0BEC5\",\"red\",\"#B0BEC5\",\"#B0BEC5\",\"#B0BEC5\",\"#B0BEC5\",\"#B0BEC5\",\"#B0BEC5\",\"#B0BEC5\",\"#B0BEC5\",\"#B0BEC5\",\"#B0BEC5\",\"#B0BEC5\",\"#B0BEC5\",\"#B0BEC5\",\"#B0BEC5\",\"#B0BEC5\",\"#B0BEC5\",\"#B0BEC5\",\"#B0BEC5\",\"#B0BEC5\",\"#B0BEC5\",\"#B0BEC5\",\"#B0BEC5\",\"#B0BEC5\",\"#B0BEC5\",\"#B0BEC5\",\"#B0BEC5\",\"#B0BEC5\",\"#B0BEC5\",\"#B0BEC5\",\"#B0BEC5\",\"#B0BEC5\",\"#B0BEC5\",\"#B0BEC5\"]]}],\"label\":\"Topic 2\",\"method\":\"update\"},{\"args\":[{\"marker.color\":[[\"#B0BEC5\",\"#B0BEC5\",\"#B0BEC5\",\"red\",\"#B0BEC5\",\"#B0BEC5\",\"#B0BEC5\",\"#B0BEC5\",\"#B0BEC5\",\"#B0BEC5\",\"#B0BEC5\",\"#B0BEC5\",\"#B0BEC5\",\"#B0BEC5\",\"#B0BEC5\",\"#B0BEC5\",\"#B0BEC5\",\"#B0BEC5\",\"#B0BEC5\",\"#B0BEC5\",\"#B0BEC5\",\"#B0BEC5\",\"#B0BEC5\",\"#B0BEC5\",\"#B0BEC5\",\"#B0BEC5\",\"#B0BEC5\",\"#B0BEC5\",\"#B0BEC5\",\"#B0BEC5\",\"#B0BEC5\",\"#B0BEC5\",\"#B0BEC5\",\"#B0BEC5\",\"#B0BEC5\",\"#B0BEC5\"]]}],\"label\":\"Topic 3\",\"method\":\"update\"},{\"args\":[{\"marker.color\":[[\"#B0BEC5\",\"#B0BEC5\",\"#B0BEC5\",\"#B0BEC5\",\"red\",\"#B0BEC5\",\"#B0BEC5\",\"#B0BEC5\",\"#B0BEC5\",\"#B0BEC5\",\"#B0BEC5\",\"#B0BEC5\",\"#B0BEC5\",\"#B0BEC5\",\"#B0BEC5\",\"#B0BEC5\",\"#B0BEC5\",\"#B0BEC5\",\"#B0BEC5\",\"#B0BEC5\",\"#B0BEC5\",\"#B0BEC5\",\"#B0BEC5\",\"#B0BEC5\",\"#B0BEC5\",\"#B0BEC5\",\"#B0BEC5\",\"#B0BEC5\",\"#B0BEC5\",\"#B0BEC5\",\"#B0BEC5\",\"#B0BEC5\",\"#B0BEC5\",\"#B0BEC5\",\"#B0BEC5\",\"#B0BEC5\"]]}],\"label\":\"Topic 4\",\"method\":\"update\"},{\"args\":[{\"marker.color\":[[\"#B0BEC5\",\"#B0BEC5\",\"#B0BEC5\",\"#B0BEC5\",\"#B0BEC5\",\"red\",\"#B0BEC5\",\"#B0BEC5\",\"#B0BEC5\",\"#B0BEC5\",\"#B0BEC5\",\"#B0BEC5\",\"#B0BEC5\",\"#B0BEC5\",\"#B0BEC5\",\"#B0BEC5\",\"#B0BEC5\",\"#B0BEC5\",\"#B0BEC5\",\"#B0BEC5\",\"#B0BEC5\",\"#B0BEC5\",\"#B0BEC5\",\"#B0BEC5\",\"#B0BEC5\",\"#B0BEC5\",\"#B0BEC5\",\"#B0BEC5\",\"#B0BEC5\",\"#B0BEC5\",\"#B0BEC5\",\"#B0BEC5\",\"#B0BEC5\",\"#B0BEC5\",\"#B0BEC5\",\"#B0BEC5\"]]}],\"label\":\"Topic 5\",\"method\":\"update\"},{\"args\":[{\"marker.color\":[[\"#B0BEC5\",\"#B0BEC5\",\"#B0BEC5\",\"#B0BEC5\",\"#B0BEC5\",\"#B0BEC5\",\"red\",\"#B0BEC5\",\"#B0BEC5\",\"#B0BEC5\",\"#B0BEC5\",\"#B0BEC5\",\"#B0BEC5\",\"#B0BEC5\",\"#B0BEC5\",\"#B0BEC5\",\"#B0BEC5\",\"#B0BEC5\",\"#B0BEC5\",\"#B0BEC5\",\"#B0BEC5\",\"#B0BEC5\",\"#B0BEC5\",\"#B0BEC5\",\"#B0BEC5\",\"#B0BEC5\",\"#B0BEC5\",\"#B0BEC5\",\"#B0BEC5\",\"#B0BEC5\",\"#B0BEC5\",\"#B0BEC5\",\"#B0BEC5\",\"#B0BEC5\",\"#B0BEC5\",\"#B0BEC5\"]]}],\"label\":\"Topic 6\",\"method\":\"update\"},{\"args\":[{\"marker.color\":[[\"#B0BEC5\",\"#B0BEC5\",\"#B0BEC5\",\"#B0BEC5\",\"#B0BEC5\",\"#B0BEC5\",\"#B0BEC5\",\"red\",\"#B0BEC5\",\"#B0BEC5\",\"#B0BEC5\",\"#B0BEC5\",\"#B0BEC5\",\"#B0BEC5\",\"#B0BEC5\",\"#B0BEC5\",\"#B0BEC5\",\"#B0BEC5\",\"#B0BEC5\",\"#B0BEC5\",\"#B0BEC5\",\"#B0BEC5\",\"#B0BEC5\",\"#B0BEC5\",\"#B0BEC5\",\"#B0BEC5\",\"#B0BEC5\",\"#B0BEC5\",\"#B0BEC5\",\"#B0BEC5\",\"#B0BEC5\",\"#B0BEC5\",\"#B0BEC5\",\"#B0BEC5\",\"#B0BEC5\",\"#B0BEC5\"]]}],\"label\":\"Topic 7\",\"method\":\"update\"},{\"args\":[{\"marker.color\":[[\"#B0BEC5\",\"#B0BEC5\",\"#B0BEC5\",\"#B0BEC5\",\"#B0BEC5\",\"#B0BEC5\",\"#B0BEC5\",\"#B0BEC5\",\"red\",\"#B0BEC5\",\"#B0BEC5\",\"#B0BEC5\",\"#B0BEC5\",\"#B0BEC5\",\"#B0BEC5\",\"#B0BEC5\",\"#B0BEC5\",\"#B0BEC5\",\"#B0BEC5\",\"#B0BEC5\",\"#B0BEC5\",\"#B0BEC5\",\"#B0BEC5\",\"#B0BEC5\",\"#B0BEC5\",\"#B0BEC5\",\"#B0BEC5\",\"#B0BEC5\",\"#B0BEC5\",\"#B0BEC5\",\"#B0BEC5\",\"#B0BEC5\",\"#B0BEC5\",\"#B0BEC5\",\"#B0BEC5\",\"#B0BEC5\"]]}],\"label\":\"Topic 8\",\"method\":\"update\"},{\"args\":[{\"marker.color\":[[\"#B0BEC5\",\"#B0BEC5\",\"#B0BEC5\",\"#B0BEC5\",\"#B0BEC5\",\"#B0BEC5\",\"#B0BEC5\",\"#B0BEC5\",\"#B0BEC5\",\"red\",\"#B0BEC5\",\"#B0BEC5\",\"#B0BEC5\",\"#B0BEC5\",\"#B0BEC5\",\"#B0BEC5\",\"#B0BEC5\",\"#B0BEC5\",\"#B0BEC5\",\"#B0BEC5\",\"#B0BEC5\",\"#B0BEC5\",\"#B0BEC5\",\"#B0BEC5\",\"#B0BEC5\",\"#B0BEC5\",\"#B0BEC5\",\"#B0BEC5\",\"#B0BEC5\",\"#B0BEC5\",\"#B0BEC5\",\"#B0BEC5\",\"#B0BEC5\",\"#B0BEC5\",\"#B0BEC5\",\"#B0BEC5\"]]}],\"label\":\"Topic 9\",\"method\":\"update\"},{\"args\":[{\"marker.color\":[[\"#B0BEC5\",\"#B0BEC5\",\"#B0BEC5\",\"#B0BEC5\",\"#B0BEC5\",\"#B0BEC5\",\"#B0BEC5\",\"#B0BEC5\",\"#B0BEC5\",\"#B0BEC5\",\"red\",\"#B0BEC5\",\"#B0BEC5\",\"#B0BEC5\",\"#B0BEC5\",\"#B0BEC5\",\"#B0BEC5\",\"#B0BEC5\",\"#B0BEC5\",\"#B0BEC5\",\"#B0BEC5\",\"#B0BEC5\",\"#B0BEC5\",\"#B0BEC5\",\"#B0BEC5\",\"#B0BEC5\",\"#B0BEC5\",\"#B0BEC5\",\"#B0BEC5\",\"#B0BEC5\",\"#B0BEC5\",\"#B0BEC5\",\"#B0BEC5\",\"#B0BEC5\",\"#B0BEC5\",\"#B0BEC5\"]]}],\"label\":\"Topic 10\",\"method\":\"update\"},{\"args\":[{\"marker.color\":[[\"#B0BEC5\",\"#B0BEC5\",\"#B0BEC5\",\"#B0BEC5\",\"#B0BEC5\",\"#B0BEC5\",\"#B0BEC5\",\"#B0BEC5\",\"#B0BEC5\",\"#B0BEC5\",\"#B0BEC5\",\"red\",\"#B0BEC5\",\"#B0BEC5\",\"#B0BEC5\",\"#B0BEC5\",\"#B0BEC5\",\"#B0BEC5\",\"#B0BEC5\",\"#B0BEC5\",\"#B0BEC5\",\"#B0BEC5\",\"#B0BEC5\",\"#B0BEC5\",\"#B0BEC5\",\"#B0BEC5\",\"#B0BEC5\",\"#B0BEC5\",\"#B0BEC5\",\"#B0BEC5\",\"#B0BEC5\",\"#B0BEC5\",\"#B0BEC5\",\"#B0BEC5\",\"#B0BEC5\",\"#B0BEC5\"]]}],\"label\":\"Topic 11\",\"method\":\"update\"},{\"args\":[{\"marker.color\":[[\"#B0BEC5\",\"#B0BEC5\",\"#B0BEC5\",\"#B0BEC5\",\"#B0BEC5\",\"#B0BEC5\",\"#B0BEC5\",\"#B0BEC5\",\"#B0BEC5\",\"#B0BEC5\",\"#B0BEC5\",\"#B0BEC5\",\"red\",\"#B0BEC5\",\"#B0BEC5\",\"#B0BEC5\",\"#B0BEC5\",\"#B0BEC5\",\"#B0BEC5\",\"#B0BEC5\",\"#B0BEC5\",\"#B0BEC5\",\"#B0BEC5\",\"#B0BEC5\",\"#B0BEC5\",\"#B0BEC5\",\"#B0BEC5\",\"#B0BEC5\",\"#B0BEC5\",\"#B0BEC5\",\"#B0BEC5\",\"#B0BEC5\",\"#B0BEC5\",\"#B0BEC5\",\"#B0BEC5\",\"#B0BEC5\"]]}],\"label\":\"Topic 12\",\"method\":\"update\"},{\"args\":[{\"marker.color\":[[\"#B0BEC5\",\"#B0BEC5\",\"#B0BEC5\",\"#B0BEC5\",\"#B0BEC5\",\"#B0BEC5\",\"#B0BEC5\",\"#B0BEC5\",\"#B0BEC5\",\"#B0BEC5\",\"#B0BEC5\",\"#B0BEC5\",\"#B0BEC5\",\"red\",\"#B0BEC5\",\"#B0BEC5\",\"#B0BEC5\",\"#B0BEC5\",\"#B0BEC5\",\"#B0BEC5\",\"#B0BEC5\",\"#B0BEC5\",\"#B0BEC5\",\"#B0BEC5\",\"#B0BEC5\",\"#B0BEC5\",\"#B0BEC5\",\"#B0BEC5\",\"#B0BEC5\",\"#B0BEC5\",\"#B0BEC5\",\"#B0BEC5\",\"#B0BEC5\",\"#B0BEC5\",\"#B0BEC5\",\"#B0BEC5\"]]}],\"label\":\"Topic 13\",\"method\":\"update\"},{\"args\":[{\"marker.color\":[[\"#B0BEC5\",\"#B0BEC5\",\"#B0BEC5\",\"#B0BEC5\",\"#B0BEC5\",\"#B0BEC5\",\"#B0BEC5\",\"#B0BEC5\",\"#B0BEC5\",\"#B0BEC5\",\"#B0BEC5\",\"#B0BEC5\",\"#B0BEC5\",\"#B0BEC5\",\"red\",\"#B0BEC5\",\"#B0BEC5\",\"#B0BEC5\",\"#B0BEC5\",\"#B0BEC5\",\"#B0BEC5\",\"#B0BEC5\",\"#B0BEC5\",\"#B0BEC5\",\"#B0BEC5\",\"#B0BEC5\",\"#B0BEC5\",\"#B0BEC5\",\"#B0BEC5\",\"#B0BEC5\",\"#B0BEC5\",\"#B0BEC5\",\"#B0BEC5\",\"#B0BEC5\",\"#B0BEC5\",\"#B0BEC5\"]]}],\"label\":\"Topic 14\",\"method\":\"update\"},{\"args\":[{\"marker.color\":[[\"#B0BEC5\",\"#B0BEC5\",\"#B0BEC5\",\"#B0BEC5\",\"#B0BEC5\",\"#B0BEC5\",\"#B0BEC5\",\"#B0BEC5\",\"#B0BEC5\",\"#B0BEC5\",\"#B0BEC5\",\"#B0BEC5\",\"#B0BEC5\",\"#B0BEC5\",\"#B0BEC5\",\"red\",\"#B0BEC5\",\"#B0BEC5\",\"#B0BEC5\",\"#B0BEC5\",\"#B0BEC5\",\"#B0BEC5\",\"#B0BEC5\",\"#B0BEC5\",\"#B0BEC5\",\"#B0BEC5\",\"#B0BEC5\",\"#B0BEC5\",\"#B0BEC5\",\"#B0BEC5\",\"#B0BEC5\",\"#B0BEC5\",\"#B0BEC5\",\"#B0BEC5\",\"#B0BEC5\",\"#B0BEC5\"]]}],\"label\":\"Topic 15\",\"method\":\"update\"},{\"args\":[{\"marker.color\":[[\"#B0BEC5\",\"#B0BEC5\",\"#B0BEC5\",\"#B0BEC5\",\"#B0BEC5\",\"#B0BEC5\",\"#B0BEC5\",\"#B0BEC5\",\"#B0BEC5\",\"#B0BEC5\",\"#B0BEC5\",\"#B0BEC5\",\"#B0BEC5\",\"#B0BEC5\",\"#B0BEC5\",\"#B0BEC5\",\"red\",\"#B0BEC5\",\"#B0BEC5\",\"#B0BEC5\",\"#B0BEC5\",\"#B0BEC5\",\"#B0BEC5\",\"#B0BEC5\",\"#B0BEC5\",\"#B0BEC5\",\"#B0BEC5\",\"#B0BEC5\",\"#B0BEC5\",\"#B0BEC5\",\"#B0BEC5\",\"#B0BEC5\",\"#B0BEC5\",\"#B0BEC5\",\"#B0BEC5\",\"#B0BEC5\"]]}],\"label\":\"Topic 16\",\"method\":\"update\"},{\"args\":[{\"marker.color\":[[\"#B0BEC5\",\"#B0BEC5\",\"#B0BEC5\",\"#B0BEC5\",\"#B0BEC5\",\"#B0BEC5\",\"#B0BEC5\",\"#B0BEC5\",\"#B0BEC5\",\"#B0BEC5\",\"#B0BEC5\",\"#B0BEC5\",\"#B0BEC5\",\"#B0BEC5\",\"#B0BEC5\",\"#B0BEC5\",\"#B0BEC5\",\"red\",\"#B0BEC5\",\"#B0BEC5\",\"#B0BEC5\",\"#B0BEC5\",\"#B0BEC5\",\"#B0BEC5\",\"#B0BEC5\",\"#B0BEC5\",\"#B0BEC5\",\"#B0BEC5\",\"#B0BEC5\",\"#B0BEC5\",\"#B0BEC5\",\"#B0BEC5\",\"#B0BEC5\",\"#B0BEC5\",\"#B0BEC5\",\"#B0BEC5\"]]}],\"label\":\"Topic 17\",\"method\":\"update\"},{\"args\":[{\"marker.color\":[[\"#B0BEC5\",\"#B0BEC5\",\"#B0BEC5\",\"#B0BEC5\",\"#B0BEC5\",\"#B0BEC5\",\"#B0BEC5\",\"#B0BEC5\",\"#B0BEC5\",\"#B0BEC5\",\"#B0BEC5\",\"#B0BEC5\",\"#B0BEC5\",\"#B0BEC5\",\"#B0BEC5\",\"#B0BEC5\",\"#B0BEC5\",\"#B0BEC5\",\"red\",\"#B0BEC5\",\"#B0BEC5\",\"#B0BEC5\",\"#B0BEC5\",\"#B0BEC5\",\"#B0BEC5\",\"#B0BEC5\",\"#B0BEC5\",\"#B0BEC5\",\"#B0BEC5\",\"#B0BEC5\",\"#B0BEC5\",\"#B0BEC5\",\"#B0BEC5\",\"#B0BEC5\",\"#B0BEC5\",\"#B0BEC5\"]]}],\"label\":\"Topic 18\",\"method\":\"update\"},{\"args\":[{\"marker.color\":[[\"#B0BEC5\",\"#B0BEC5\",\"#B0BEC5\",\"#B0BEC5\",\"#B0BEC5\",\"#B0BEC5\",\"#B0BEC5\",\"#B0BEC5\",\"#B0BEC5\",\"#B0BEC5\",\"#B0BEC5\",\"#B0BEC5\",\"#B0BEC5\",\"#B0BEC5\",\"#B0BEC5\",\"#B0BEC5\",\"#B0BEC5\",\"#B0BEC5\",\"#B0BEC5\",\"red\",\"#B0BEC5\",\"#B0BEC5\",\"#B0BEC5\",\"#B0BEC5\",\"#B0BEC5\",\"#B0BEC5\",\"#B0BEC5\",\"#B0BEC5\",\"#B0BEC5\",\"#B0BEC5\",\"#B0BEC5\",\"#B0BEC5\",\"#B0BEC5\",\"#B0BEC5\",\"#B0BEC5\",\"#B0BEC5\"]]}],\"label\":\"Topic 19\",\"method\":\"update\"},{\"args\":[{\"marker.color\":[[\"#B0BEC5\",\"#B0BEC5\",\"#B0BEC5\",\"#B0BEC5\",\"#B0BEC5\",\"#B0BEC5\",\"#B0BEC5\",\"#B0BEC5\",\"#B0BEC5\",\"#B0BEC5\",\"#B0BEC5\",\"#B0BEC5\",\"#B0BEC5\",\"#B0BEC5\",\"#B0BEC5\",\"#B0BEC5\",\"#B0BEC5\",\"#B0BEC5\",\"#B0BEC5\",\"#B0BEC5\",\"red\",\"#B0BEC5\",\"#B0BEC5\",\"#B0BEC5\",\"#B0BEC5\",\"#B0BEC5\",\"#B0BEC5\",\"#B0BEC5\",\"#B0BEC5\",\"#B0BEC5\",\"#B0BEC5\",\"#B0BEC5\",\"#B0BEC5\",\"#B0BEC5\",\"#B0BEC5\",\"#B0BEC5\"]]}],\"label\":\"Topic 20\",\"method\":\"update\"},{\"args\":[{\"marker.color\":[[\"#B0BEC5\",\"#B0BEC5\",\"#B0BEC5\",\"#B0BEC5\",\"#B0BEC5\",\"#B0BEC5\",\"#B0BEC5\",\"#B0BEC5\",\"#B0BEC5\",\"#B0BEC5\",\"#B0BEC5\",\"#B0BEC5\",\"#B0BEC5\",\"#B0BEC5\",\"#B0BEC5\",\"#B0BEC5\",\"#B0BEC5\",\"#B0BEC5\",\"#B0BEC5\",\"#B0BEC5\",\"#B0BEC5\",\"red\",\"#B0BEC5\",\"#B0BEC5\",\"#B0BEC5\",\"#B0BEC5\",\"#B0BEC5\",\"#B0BEC5\",\"#B0BEC5\",\"#B0BEC5\",\"#B0BEC5\",\"#B0BEC5\",\"#B0BEC5\",\"#B0BEC5\",\"#B0BEC5\",\"#B0BEC5\"]]}],\"label\":\"Topic 21\",\"method\":\"update\"},{\"args\":[{\"marker.color\":[[\"#B0BEC5\",\"#B0BEC5\",\"#B0BEC5\",\"#B0BEC5\",\"#B0BEC5\",\"#B0BEC5\",\"#B0BEC5\",\"#B0BEC5\",\"#B0BEC5\",\"#B0BEC5\",\"#B0BEC5\",\"#B0BEC5\",\"#B0BEC5\",\"#B0BEC5\",\"#B0BEC5\",\"#B0BEC5\",\"#B0BEC5\",\"#B0BEC5\",\"#B0BEC5\",\"#B0BEC5\",\"#B0BEC5\",\"#B0BEC5\",\"red\",\"#B0BEC5\",\"#B0BEC5\",\"#B0BEC5\",\"#B0BEC5\",\"#B0BEC5\",\"#B0BEC5\",\"#B0BEC5\",\"#B0BEC5\",\"#B0BEC5\",\"#B0BEC5\",\"#B0BEC5\",\"#B0BEC5\",\"#B0BEC5\"]]}],\"label\":\"Topic 22\",\"method\":\"update\"},{\"args\":[{\"marker.color\":[[\"#B0BEC5\",\"#B0BEC5\",\"#B0BEC5\",\"#B0BEC5\",\"#B0BEC5\",\"#B0BEC5\",\"#B0BEC5\",\"#B0BEC5\",\"#B0BEC5\",\"#B0BEC5\",\"#B0BEC5\",\"#B0BEC5\",\"#B0BEC5\",\"#B0BEC5\",\"#B0BEC5\",\"#B0BEC5\",\"#B0BEC5\",\"#B0BEC5\",\"#B0BEC5\",\"#B0BEC5\",\"#B0BEC5\",\"#B0BEC5\",\"#B0BEC5\",\"red\",\"#B0BEC5\",\"#B0BEC5\",\"#B0BEC5\",\"#B0BEC5\",\"#B0BEC5\",\"#B0BEC5\",\"#B0BEC5\",\"#B0BEC5\",\"#B0BEC5\",\"#B0BEC5\",\"#B0BEC5\",\"#B0BEC5\"]]}],\"label\":\"Topic 23\",\"method\":\"update\"},{\"args\":[{\"marker.color\":[[\"#B0BEC5\",\"#B0BEC5\",\"#B0BEC5\",\"#B0BEC5\",\"#B0BEC5\",\"#B0BEC5\",\"#B0BEC5\",\"#B0BEC5\",\"#B0BEC5\",\"#B0BEC5\",\"#B0BEC5\",\"#B0BEC5\",\"#B0BEC5\",\"#B0BEC5\",\"#B0BEC5\",\"#B0BEC5\",\"#B0BEC5\",\"#B0BEC5\",\"#B0BEC5\",\"#B0BEC5\",\"#B0BEC5\",\"#B0BEC5\",\"#B0BEC5\",\"#B0BEC5\",\"red\",\"#B0BEC5\",\"#B0BEC5\",\"#B0BEC5\",\"#B0BEC5\",\"#B0BEC5\",\"#B0BEC5\",\"#B0BEC5\",\"#B0BEC5\",\"#B0BEC5\",\"#B0BEC5\",\"#B0BEC5\"]]}],\"label\":\"Topic 24\",\"method\":\"update\"},{\"args\":[{\"marker.color\":[[\"#B0BEC5\",\"#B0BEC5\",\"#B0BEC5\",\"#B0BEC5\",\"#B0BEC5\",\"#B0BEC5\",\"#B0BEC5\",\"#B0BEC5\",\"#B0BEC5\",\"#B0BEC5\",\"#B0BEC5\",\"#B0BEC5\",\"#B0BEC5\",\"#B0BEC5\",\"#B0BEC5\",\"#B0BEC5\",\"#B0BEC5\",\"#B0BEC5\",\"#B0BEC5\",\"#B0BEC5\",\"#B0BEC5\",\"#B0BEC5\",\"#B0BEC5\",\"#B0BEC5\",\"#B0BEC5\",\"red\",\"#B0BEC5\",\"#B0BEC5\",\"#B0BEC5\",\"#B0BEC5\",\"#B0BEC5\",\"#B0BEC5\",\"#B0BEC5\",\"#B0BEC5\",\"#B0BEC5\",\"#B0BEC5\"]]}],\"label\":\"Topic 25\",\"method\":\"update\"},{\"args\":[{\"marker.color\":[[\"#B0BEC5\",\"#B0BEC5\",\"#B0BEC5\",\"#B0BEC5\",\"#B0BEC5\",\"#B0BEC5\",\"#B0BEC5\",\"#B0BEC5\",\"#B0BEC5\",\"#B0BEC5\",\"#B0BEC5\",\"#B0BEC5\",\"#B0BEC5\",\"#B0BEC5\",\"#B0BEC5\",\"#B0BEC5\",\"#B0BEC5\",\"#B0BEC5\",\"#B0BEC5\",\"#B0BEC5\",\"#B0BEC5\",\"#B0BEC5\",\"#B0BEC5\",\"#B0BEC5\",\"#B0BEC5\",\"#B0BEC5\",\"red\",\"#B0BEC5\",\"#B0BEC5\",\"#B0BEC5\",\"#B0BEC5\",\"#B0BEC5\",\"#B0BEC5\",\"#B0BEC5\",\"#B0BEC5\",\"#B0BEC5\"]]}],\"label\":\"Topic 26\",\"method\":\"update\"},{\"args\":[{\"marker.color\":[[\"#B0BEC5\",\"#B0BEC5\",\"#B0BEC5\",\"#B0BEC5\",\"#B0BEC5\",\"#B0BEC5\",\"#B0BEC5\",\"#B0BEC5\",\"#B0BEC5\",\"#B0BEC5\",\"#B0BEC5\",\"#B0BEC5\",\"#B0BEC5\",\"#B0BEC5\",\"#B0BEC5\",\"#B0BEC5\",\"#B0BEC5\",\"#B0BEC5\",\"#B0BEC5\",\"#B0BEC5\",\"#B0BEC5\",\"#B0BEC5\",\"#B0BEC5\",\"#B0BEC5\",\"#B0BEC5\",\"#B0BEC5\",\"#B0BEC5\",\"red\",\"#B0BEC5\",\"#B0BEC5\",\"#B0BEC5\",\"#B0BEC5\",\"#B0BEC5\",\"#B0BEC5\",\"#B0BEC5\",\"#B0BEC5\"]]}],\"label\":\"Topic 27\",\"method\":\"update\"},{\"args\":[{\"marker.color\":[[\"#B0BEC5\",\"#B0BEC5\",\"#B0BEC5\",\"#B0BEC5\",\"#B0BEC5\",\"#B0BEC5\",\"#B0BEC5\",\"#B0BEC5\",\"#B0BEC5\",\"#B0BEC5\",\"#B0BEC5\",\"#B0BEC5\",\"#B0BEC5\",\"#B0BEC5\",\"#B0BEC5\",\"#B0BEC5\",\"#B0BEC5\",\"#B0BEC5\",\"#B0BEC5\",\"#B0BEC5\",\"#B0BEC5\",\"#B0BEC5\",\"#B0BEC5\",\"#B0BEC5\",\"#B0BEC5\",\"#B0BEC5\",\"#B0BEC5\",\"#B0BEC5\",\"red\",\"#B0BEC5\",\"#B0BEC5\",\"#B0BEC5\",\"#B0BEC5\",\"#B0BEC5\",\"#B0BEC5\",\"#B0BEC5\"]]}],\"label\":\"Topic 28\",\"method\":\"update\"},{\"args\":[{\"marker.color\":[[\"#B0BEC5\",\"#B0BEC5\",\"#B0BEC5\",\"#B0BEC5\",\"#B0BEC5\",\"#B0BEC5\",\"#B0BEC5\",\"#B0BEC5\",\"#B0BEC5\",\"#B0BEC5\",\"#B0BEC5\",\"#B0BEC5\",\"#B0BEC5\",\"#B0BEC5\",\"#B0BEC5\",\"#B0BEC5\",\"#B0BEC5\",\"#B0BEC5\",\"#B0BEC5\",\"#B0BEC5\",\"#B0BEC5\",\"#B0BEC5\",\"#B0BEC5\",\"#B0BEC5\",\"#B0BEC5\",\"#B0BEC5\",\"#B0BEC5\",\"#B0BEC5\",\"#B0BEC5\",\"red\",\"#B0BEC5\",\"#B0BEC5\",\"#B0BEC5\",\"#B0BEC5\",\"#B0BEC5\",\"#B0BEC5\"]]}],\"label\":\"Topic 29\",\"method\":\"update\"},{\"args\":[{\"marker.color\":[[\"#B0BEC5\",\"#B0BEC5\",\"#B0BEC5\",\"#B0BEC5\",\"#B0BEC5\",\"#B0BEC5\",\"#B0BEC5\",\"#B0BEC5\",\"#B0BEC5\",\"#B0BEC5\",\"#B0BEC5\",\"#B0BEC5\",\"#B0BEC5\",\"#B0BEC5\",\"#B0BEC5\",\"#B0BEC5\",\"#B0BEC5\",\"#B0BEC5\",\"#B0BEC5\",\"#B0BEC5\",\"#B0BEC5\",\"#B0BEC5\",\"#B0BEC5\",\"#B0BEC5\",\"#B0BEC5\",\"#B0BEC5\",\"#B0BEC5\",\"#B0BEC5\",\"#B0BEC5\",\"#B0BEC5\",\"red\",\"#B0BEC5\",\"#B0BEC5\",\"#B0BEC5\",\"#B0BEC5\",\"#B0BEC5\"]]}],\"label\":\"Topic 30\",\"method\":\"update\"},{\"args\":[{\"marker.color\":[[\"#B0BEC5\",\"#B0BEC5\",\"#B0BEC5\",\"#B0BEC5\",\"#B0BEC5\",\"#B0BEC5\",\"#B0BEC5\",\"#B0BEC5\",\"#B0BEC5\",\"#B0BEC5\",\"#B0BEC5\",\"#B0BEC5\",\"#B0BEC5\",\"#B0BEC5\",\"#B0BEC5\",\"#B0BEC5\",\"#B0BEC5\",\"#B0BEC5\",\"#B0BEC5\",\"#B0BEC5\",\"#B0BEC5\",\"#B0BEC5\",\"#B0BEC5\",\"#B0BEC5\",\"#B0BEC5\",\"#B0BEC5\",\"#B0BEC5\",\"#B0BEC5\",\"#B0BEC5\",\"#B0BEC5\",\"#B0BEC5\",\"red\",\"#B0BEC5\",\"#B0BEC5\",\"#B0BEC5\",\"#B0BEC5\"]]}],\"label\":\"Topic 31\",\"method\":\"update\"},{\"args\":[{\"marker.color\":[[\"#B0BEC5\",\"#B0BEC5\",\"#B0BEC5\",\"#B0BEC5\",\"#B0BEC5\",\"#B0BEC5\",\"#B0BEC5\",\"#B0BEC5\",\"#B0BEC5\",\"#B0BEC5\",\"#B0BEC5\",\"#B0BEC5\",\"#B0BEC5\",\"#B0BEC5\",\"#B0BEC5\",\"#B0BEC5\",\"#B0BEC5\",\"#B0BEC5\",\"#B0BEC5\",\"#B0BEC5\",\"#B0BEC5\",\"#B0BEC5\",\"#B0BEC5\",\"#B0BEC5\",\"#B0BEC5\",\"#B0BEC5\",\"#B0BEC5\",\"#B0BEC5\",\"#B0BEC5\",\"#B0BEC5\",\"#B0BEC5\",\"#B0BEC5\",\"red\",\"#B0BEC5\",\"#B0BEC5\",\"#B0BEC5\"]]}],\"label\":\"Topic 32\",\"method\":\"update\"},{\"args\":[{\"marker.color\":[[\"#B0BEC5\",\"#B0BEC5\",\"#B0BEC5\",\"#B0BEC5\",\"#B0BEC5\",\"#B0BEC5\",\"#B0BEC5\",\"#B0BEC5\",\"#B0BEC5\",\"#B0BEC5\",\"#B0BEC5\",\"#B0BEC5\",\"#B0BEC5\",\"#B0BEC5\",\"#B0BEC5\",\"#B0BEC5\",\"#B0BEC5\",\"#B0BEC5\",\"#B0BEC5\",\"#B0BEC5\",\"#B0BEC5\",\"#B0BEC5\",\"#B0BEC5\",\"#B0BEC5\",\"#B0BEC5\",\"#B0BEC5\",\"#B0BEC5\",\"#B0BEC5\",\"#B0BEC5\",\"#B0BEC5\",\"#B0BEC5\",\"#B0BEC5\",\"#B0BEC5\",\"red\",\"#B0BEC5\",\"#B0BEC5\"]]}],\"label\":\"Topic 33\",\"method\":\"update\"},{\"args\":[{\"marker.color\":[[\"#B0BEC5\",\"#B0BEC5\",\"#B0BEC5\",\"#B0BEC5\",\"#B0BEC5\",\"#B0BEC5\",\"#B0BEC5\",\"#B0BEC5\",\"#B0BEC5\",\"#B0BEC5\",\"#B0BEC5\",\"#B0BEC5\",\"#B0BEC5\",\"#B0BEC5\",\"#B0BEC5\",\"#B0BEC5\",\"#B0BEC5\",\"#B0BEC5\",\"#B0BEC5\",\"#B0BEC5\",\"#B0BEC5\",\"#B0BEC5\",\"#B0BEC5\",\"#B0BEC5\",\"#B0BEC5\",\"#B0BEC5\",\"#B0BEC5\",\"#B0BEC5\",\"#B0BEC5\",\"#B0BEC5\",\"#B0BEC5\",\"#B0BEC5\",\"#B0BEC5\",\"#B0BEC5\",\"red\",\"#B0BEC5\"]]}],\"label\":\"Topic 34\",\"method\":\"update\"},{\"args\":[{\"marker.color\":[[\"#B0BEC5\",\"#B0BEC5\",\"#B0BEC5\",\"#B0BEC5\",\"#B0BEC5\",\"#B0BEC5\",\"#B0BEC5\",\"#B0BEC5\",\"#B0BEC5\",\"#B0BEC5\",\"#B0BEC5\",\"#B0BEC5\",\"#B0BEC5\",\"#B0BEC5\",\"#B0BEC5\",\"#B0BEC5\",\"#B0BEC5\",\"#B0BEC5\",\"#B0BEC5\",\"#B0BEC5\",\"#B0BEC5\",\"#B0BEC5\",\"#B0BEC5\",\"#B0BEC5\",\"#B0BEC5\",\"#B0BEC5\",\"#B0BEC5\",\"#B0BEC5\",\"#B0BEC5\",\"#B0BEC5\",\"#B0BEC5\",\"#B0BEC5\",\"#B0BEC5\",\"#B0BEC5\",\"#B0BEC5\",\"red\"]]}],\"label\":\"Topic 35\",\"method\":\"update\"}]}],\"shapes\":[{\"line\":{\"color\":\"#CFD8DC\",\"width\":2},\"type\":\"line\",\"x0\":1.1948089122772219,\"x1\":1.1948089122772219,\"y0\":0.2150074854493141,\"y1\":19.439305305480957},{\"line\":{\"color\":\"#9E9E9E\",\"width\":2},\"type\":\"line\",\"x0\":-11.019726371765136,\"x1\":13.40934419631958,\"y0\":9.827156395465135,\"y1\":9.827156395465135}],\"annotations\":[{\"showarrow\":false,\"text\":\"D1\",\"x\":-11.019726371765136,\"y\":9.827156395465135,\"yshift\":10},{\"showarrow\":false,\"text\":\"D2\",\"x\":1.1948089122772219,\"xshift\":10,\"y\":19.439305305480957}]},                        {\"responsive\": true}                    ).then(function(){\n",
       "                            \n",
       "var gd = document.getElementById('4fc9315a-3417-4f8b-ac44-665e40a33a19');\n",
       "var x = new MutationObserver(function (mutations, observer) {{\n",
       "        var display = window.getComputedStyle(gd).display;\n",
       "        if (!display || display === 'none') {{\n",
       "            console.log([gd, 'removed!']);\n",
       "            Plotly.purge(gd);\n",
       "            observer.disconnect();\n",
       "        }}\n",
       "}});\n",
       "\n",
       "// Listen for the removal of the full notebook cells\n",
       "var notebookContainer = gd.closest('#notebook-container');\n",
       "if (notebookContainer) {{\n",
       "    x.observe(notebookContainer, {childList: true});\n",
       "}}\n",
       "\n",
       "// Listen for the clearing of the current output cell\n",
       "var outputEl = gd.closest('.output');\n",
       "if (outputEl) {{\n",
       "    x.observe(outputEl, {childList: true});\n",
       "}}\n",
       "\n",
       "                        })                };                });            </script>        </div>"
      ]
     },
     "metadata": {},
     "output_type": "display_data"
    },
    {
     "data": {
      "application/vnd.plotly.v1+json": {
       "config": {
        "plotlyServerURL": "https://plot.ly"
       },
       "data": [
        {
         "coloraxis": "coloraxis",
         "hovertemplate": "x: %{x}<br>y: %{y}<br>Similarity Score: %{z}<extra></extra>",
         "name": "0",
         "type": "heatmap",
         "x": [
          "0_semst_the_you",
          "1_women_men_laws",
          "2_pray_prayer_prayers",
          "3_evil_love_jesus",
          "4_rally4life_repealthe8th_he",
          "5_black_blacklivesmatter_pa...",
          "6_gaymarriage_marriage_scotus",
          "7_abortion_wrong_abort",
          "8_kill_killing_but",
          "9_pro_choice_can",
          "10_feminism_against_dehuman...",
          "11_equal_equality_unborn",
          "12_abortion_illegal_it",
          "13_abortion_glennbeck_plans",
          "14_texas_scotus_clinics",
          "15_prolife_life_pro",
          "16_adoption_parents_childcare",
          "17_justintrudeau_peipoli_cd...",
          "18_body_use_rapeculture",
          "19_ronald_limb_em",
          "20_nation_pope_children",
          "21_life_human_womb",
          "22_yr_000_est",
          "23_christian_catholic_conse...",
          "24_medical_this_notyours",
          "25_pregnant_whoa_consenting",
          "26_conception_heart_starts",
          "27_autonomy_bodily_fetus",
          "28_best_know_what",
          "29_utilized_wonderful_uberf...",
          "30_feminist_feminists_less",
          "31_wakeupamerica_2a_proisrael",
          "32_bristol_second_palin",
          "33_pregnancy_enough_whether",
          "34_human_worth_life",
          "35_voice_unborn_for"
         ],
         "xaxis": "x",
         "y": [
          "0_semst_the_you",
          "1_women_men_laws",
          "2_pray_prayer_prayers",
          "3_evil_love_jesus",
          "4_rally4life_repealthe8th_he",
          "5_black_blacklivesmatter_pa...",
          "6_gaymarriage_marriage_scotus",
          "7_abortion_wrong_abort",
          "8_kill_killing_but",
          "9_pro_choice_can",
          "10_feminism_against_dehuman...",
          "11_equal_equality_unborn",
          "12_abortion_illegal_it",
          "13_abortion_glennbeck_plans",
          "14_texas_scotus_clinics",
          "15_prolife_life_pro",
          "16_adoption_parents_childcare",
          "17_justintrudeau_peipoli_cd...",
          "18_body_use_rapeculture",
          "19_ronald_limb_em",
          "20_nation_pope_children",
          "21_life_human_womb",
          "22_yr_000_est",
          "23_christian_catholic_conse...",
          "24_medical_this_notyours",
          "25_pregnant_whoa_consenting",
          "26_conception_heart_starts",
          "27_autonomy_bodily_fetus",
          "28_best_know_what",
          "29_utilized_wonderful_uberf...",
          "30_feminist_feminists_less",
          "31_wakeupamerica_2a_proisrael",
          "32_bristol_second_palin",
          "33_pregnancy_enough_whether",
          "34_human_worth_life",
          "35_voice_unborn_for"
         ],
         "yaxis": "y",
         "z": [
          [
           1.0000001,
           0.666381,
           0.67525107,
           0.5991465,
           0.73956734,
           0.6681442,
           0.613014,
           0.51573056,
           0.5894214,
           0.4453331,
           0.61504465,
           0.56544024,
           0.54657674,
           0.6180545,
           0.60414255,
           0.6797465,
           0.65176463,
           0.67108345,
           0.5931637,
           0.579203,
           0.5043566,
           0.59532464,
           0.54989415,
           0.524033,
           0.6849547,
           0.55041456,
           0.4807898,
           0.3724305,
           0.6100949,
           0.788059,
           0.6050691,
           0.60958827,
           0.5838493,
           0.3900587,
           0.50322163,
           0.6300999
          ],
          [
           0.666381,
           1,
           0.49911007,
           0.45995793,
           0.6453019,
           0.7020505,
           0.65699506,
           0.66946137,
           0.6557056,
           0.65159905,
           0.8367879,
           0.7180196,
           0.70683885,
           0.7632412,
           0.67555857,
           0.6151352,
           0.5537178,
           0.6353351,
           0.6784443,
           0.6629501,
           0.5665916,
           0.5438782,
           0.6538137,
           0.6879349,
           0.61211324,
           0.57952094,
           0.4871045,
           0.620472,
           0.54908013,
           0.59894204,
           0.79708934,
           0.3986321,
           0.60696936,
           0.6092386,
           0.5574231,
           0.53708094
          ],
          [
           0.67525107,
           0.49911007,
           1.0000002,
           0.69173837,
           0.60599244,
           0.6214112,
           0.5484089,
           0.5668978,
           0.609375,
           0.47929928,
           0.57067555,
           0.5519254,
           0.5210134,
           0.5992709,
           0.5715741,
           0.6188451,
           0.63649535,
           0.61524296,
           0.4035918,
           0.59277487,
           0.6457918,
           0.50955117,
           0.50061923,
           0.6308671,
           0.56233096,
           0.47298694,
           0.53432345,
           0.39548752,
           0.45895314,
           0.57300234,
           0.52860576,
           0.5862287,
           0.5289342,
           0.43655026,
           0.43893012,
           0.68341976
          ],
          [
           0.5991465,
           0.45995793,
           0.69173837,
           1,
           0.5153111,
           0.515578,
           0.5956307,
           0.5033718,
           0.52692217,
           0.41106677,
           0.4935181,
           0.533386,
           0.39262143,
           0.42160392,
           0.39811575,
           0.5136351,
           0.47125617,
           0.42266035,
           0.43472305,
           0.4512872,
           0.7001554,
           0.57020766,
           0.35886383,
           0.60430557,
           0.39050186,
           0.32421148,
           0.45241362,
           0.35843053,
           0.4824935,
           0.5271771,
           0.4214985,
           0.4226913,
           0.35072595,
           0.31685916,
           0.56651706,
           0.6166856
          ],
          [
           0.73956734,
           0.6453019,
           0.60599244,
           0.5153111,
           0.9999999,
           0.74360317,
           0.6954747,
           0.52655375,
           0.6086943,
           0.5200895,
           0.64397335,
           0.6583897,
           0.6014265,
           0.6365311,
           0.6564367,
           0.6619495,
           0.56406397,
           0.67396796,
           0.56755245,
           0.64197475,
           0.49908364,
           0.5610445,
           0.5852035,
           0.61072195,
           0.60256946,
           0.42370594,
           0.44630277,
           0.34680766,
           0.4577917,
           0.5998549,
           0.6389072,
           0.6677675,
           0.5754025,
           0.37395403,
           0.49272352,
           0.60209984
          ],
          [
           0.6681442,
           0.7020505,
           0.6214112,
           0.515578,
           0.74360317,
           0.99999964,
           0.7026216,
           0.731233,
           0.7653221,
           0.6402235,
           0.787728,
           0.7516856,
           0.7407069,
           0.75211155,
           0.69800246,
           0.6536958,
           0.63364136,
           0.6840731,
           0.56830764,
           0.7956042,
           0.5942141,
           0.55687284,
           0.723297,
           0.7405096,
           0.60606235,
           0.5856013,
           0.52495754,
           0.53882277,
           0.42091686,
           0.5584905,
           0.67006594,
           0.5592637,
           0.6092591,
           0.5752993,
           0.5472611,
           0.6308011
          ],
          [
           0.613014,
           0.65699506,
           0.5484089,
           0.5956307,
           0.6954747,
           0.7026216,
           1.0000001,
           0.51779735,
           0.6018048,
           0.47007844,
           0.6987001,
           0.757091,
           0.61734766,
           0.5737181,
           0.7052456,
           0.50474775,
           0.43429196,
           0.5942987,
           0.559654,
           0.6677761,
           0.5589304,
           0.5060309,
           0.57346904,
           0.7560563,
           0.50695395,
           0.37695175,
           0.3800112,
           0.35511616,
           0.37259054,
           0.47115356,
           0.6145382,
           0.6040467,
           0.49205625,
           0.3427123,
           0.47341928,
           0.50025123
          ],
          [
           0.51573056,
           0.66946137,
           0.5668978,
           0.5033718,
           0.52655375,
           0.731233,
           0.51779735,
           1.0000002,
           0.8137136,
           0.85026264,
           0.8105928,
           0.6523596,
           0.85489964,
           0.8628088,
           0.58685017,
           0.76106715,
           0.6125622,
           0.5832803,
           0.53817534,
           0.76463735,
           0.6484009,
           0.6427678,
           0.8057002,
           0.7668023,
           0.56095797,
           0.69353163,
           0.70234996,
           0.7584807,
           0.43011612,
           0.48290786,
           0.68574107,
           0.30976984,
           0.57825476,
           0.7169587,
           0.58509564,
           0.6618748
          ],
          [
           0.5894214,
           0.6557056,
           0.609375,
           0.52692217,
           0.6086943,
           0.7653221,
           0.6018048,
           0.8137136,
           1.0000004,
           0.7025196,
           0.7781792,
           0.6940036,
           0.73987514,
           0.70352423,
           0.6276902,
           0.63444144,
           0.6791899,
           0.59161675,
           0.5861279,
           0.79196465,
           0.6802801,
           0.6307259,
           0.7317121,
           0.7103312,
           0.58134866,
           0.64894754,
           0.6304616,
           0.67572737,
           0.4844967,
           0.464118,
           0.60097873,
           0.47192168,
           0.5432271,
           0.7007185,
           0.6222646,
           0.66055834
          ],
          [
           0.4453331,
           0.65159905,
           0.47929928,
           0.41106677,
           0.5200895,
           0.6402235,
           0.47007844,
           0.85026264,
           0.7025196,
           0.9999998,
           0.7540761,
           0.6182369,
           0.79210186,
           0.7937124,
           0.56356895,
           0.8099943,
           0.58279514,
           0.5202142,
           0.52225655,
           0.70681757,
           0.59326446,
           0.6518832,
           0.7124233,
           0.69441986,
           0.48587415,
           0.651348,
           0.63131297,
           0.76657325,
           0.39690012,
           0.4958433,
           0.6956271,
           0.31375,
           0.51324725,
           0.70313525,
           0.5495138,
           0.6155988
          ],
          [
           0.61504465,
           0.8367879,
           0.57067555,
           0.4935181,
           0.64397335,
           0.787728,
           0.6987001,
           0.8105928,
           0.7781792,
           0.7540761,
           0.99999994,
           0.80874014,
           0.8624187,
           0.8385057,
           0.7203464,
           0.67475426,
           0.64688504,
           0.6839345,
           0.7420559,
           0.8182001,
           0.616938,
           0.588513,
           0.7761554,
           0.79795414,
           0.6092185,
           0.70929265,
           0.5706023,
           0.72604,
           0.4356376,
           0.5467103,
           0.80331933,
           0.43820113,
           0.65944,
           0.7151995,
           0.57740605,
           0.6026355
          ],
          [
           0.56544024,
           0.7180196,
           0.5519254,
           0.533386,
           0.6583897,
           0.7516856,
           0.757091,
           0.6523596,
           0.6940036,
           0.6182369,
           0.80874014,
           0.9999999,
           0.6752167,
           0.6605598,
           0.651698,
           0.5630232,
           0.5886545,
           0.60795355,
           0.55771554,
           0.72107196,
           0.63087827,
           0.5549452,
           0.6470081,
           0.70278245,
           0.51206595,
           0.5193615,
           0.54365647,
           0.5985025,
           0.41665357,
           0.46774453,
           0.67315286,
           0.4824421,
           0.5495898,
           0.5340023,
           0.6425577,
           0.6293164
          ],
          [
           0.54657674,
           0.70683885,
           0.5210134,
           0.39262143,
           0.6014265,
           0.7407069,
           0.61734766,
           0.85489964,
           0.73987514,
           0.79210186,
           0.8624187,
           0.6752167,
           1.0000001,
           0.87998176,
           0.7150145,
           0.704069,
           0.54153097,
           0.6598141,
           0.62012666,
           0.80080533,
           0.5291368,
           0.5679207,
           0.8314005,
           0.7814877,
           0.56521285,
           0.6434944,
           0.56885725,
           0.6402633,
           0.3525379,
           0.45189673,
           0.71146387,
           0.40035373,
           0.60433966,
           0.62112117,
           0.4502527,
           0.5552398
          ],
          [
           0.6180545,
           0.7632412,
           0.5992709,
           0.42160392,
           0.6365311,
           0.75211155,
           0.5737181,
           0.8628088,
           0.70352423,
           0.7937124,
           0.8385057,
           0.6605598,
           0.87998176,
           1,
           0.7176132,
           0.750806,
           0.63752526,
           0.669628,
           0.5564003,
           0.7860237,
           0.5467715,
           0.5345112,
           0.8410387,
           0.7719426,
           0.6456126,
           0.70242214,
           0.5817934,
           0.66217124,
           0.44480544,
           0.55479276,
           0.7304144,
           0.39856675,
           0.66141015,
           0.70190763,
           0.46696052,
           0.6588026
          ],
          [
           0.60414255,
           0.67555857,
           0.5715741,
           0.39811575,
           0.6564367,
           0.69800246,
           0.7052456,
           0.58685017,
           0.6276902,
           0.56356895,
           0.7203464,
           0.651698,
           0.7150145,
           0.7176132,
           0.9999999,
           0.5693805,
           0.56279683,
           0.61948055,
           0.56298923,
           0.7344926,
           0.43287367,
           0.48069945,
           0.6697781,
           0.6643232,
           0.6031176,
           0.51475084,
           0.45395374,
           0.45083314,
           0.41943252,
           0.5130299,
           0.5863924,
           0.5403429,
           0.57539976,
           0.50577354,
           0.3697704,
           0.5463009
          ],
          [
           0.6797465,
           0.6151352,
           0.6188451,
           0.5136351,
           0.6619495,
           0.6536958,
           0.50474775,
           0.76106715,
           0.63444144,
           0.8099943,
           0.67475426,
           0.5630232,
           0.704069,
           0.750806,
           0.5693805,
           1.0000001,
           0.6369965,
           0.611701,
           0.5489216,
           0.6632732,
           0.6055506,
           0.73905945,
           0.6677077,
           0.6249465,
           0.6261631,
           0.5829803,
           0.6342675,
           0.5762454,
           0.4726761,
           0.6717875,
           0.7296606,
           0.4773987,
           0.55265576,
           0.5485344,
           0.5612025,
           0.6658741
          ],
          [
           0.65176463,
           0.5537178,
           0.63649535,
           0.47125617,
           0.56406397,
           0.63364136,
           0.43429196,
           0.6125622,
           0.6791899,
           0.58279514,
           0.64688504,
           0.5886545,
           0.54153097,
           0.63752526,
           0.56279683,
           0.6369965,
           1,
           0.56356597,
           0.45377538,
           0.64006066,
           0.5608688,
           0.56781834,
           0.5989187,
           0.5183229,
           0.6158048,
           0.6715191,
           0.5798183,
           0.6087812,
           0.5068885,
           0.63235074,
           0.5022158,
           0.38391602,
           0.55161154,
           0.71426994,
           0.54658294,
           0.6567609
          ],
          [
           0.67108345,
           0.6353351,
           0.61524296,
           0.42266035,
           0.67396796,
           0.6840731,
           0.5942987,
           0.5832803,
           0.59161675,
           0.5202142,
           0.6839345,
           0.60795355,
           0.6598141,
           0.669628,
           0.61948055,
           0.611701,
           0.56356597,
           1.0000002,
           0.54834425,
           0.7033377,
           0.5162025,
           0.5120515,
           0.61195755,
           0.61065143,
           0.6043262,
           0.53681594,
           0.45295477,
           0.43252698,
           0.3564897,
           0.56803286,
           0.6230724,
           0.5586506,
           0.6401128,
           0.4494985,
           0.44932437,
           0.5393277
          ],
          [
           0.5931637,
           0.6784443,
           0.4035918,
           0.43472305,
           0.56755245,
           0.56830764,
           0.559654,
           0.53817534,
           0.5861279,
           0.52225655,
           0.7420559,
           0.55771554,
           0.62012666,
           0.5564003,
           0.56298923,
           0.5489216,
           0.45377538,
           0.54834425,
           0.9999999,
           0.5945473,
           0.41747302,
           0.55184966,
           0.48342896,
           0.5515022,
           0.58548516,
           0.54746854,
           0.40447265,
           0.5085628,
           0.44651383,
           0.48525763,
           0.5838897,
           0.43688354,
           0.4485987,
           0.44944477,
           0.50414383,
           0.41678727
          ],
          [
           0.579203,
           0.6629501,
           0.59277487,
           0.4512872,
           0.64197475,
           0.7956042,
           0.6677761,
           0.76463735,
           0.79196465,
           0.70681757,
           0.8182001,
           0.72107196,
           0.80080533,
           0.7860237,
           0.7344926,
           0.6632732,
           0.64006066,
           0.7033377,
           0.5945473,
           0.99999994,
           0.5945418,
           0.58039856,
           0.7543291,
           0.7752397,
           0.60506773,
           0.6232765,
           0.5872515,
           0.65536296,
           0.37098342,
           0.51540536,
           0.6436595,
           0.5443226,
           0.60858357,
           0.64802635,
           0.54522604,
           0.6147901
          ],
          [
           0.5043566,
           0.5665916,
           0.6457918,
           0.7001554,
           0.49908364,
           0.5942141,
           0.5589304,
           0.6484009,
           0.6802801,
           0.59326446,
           0.616938,
           0.63087827,
           0.5291368,
           0.5467715,
           0.43287367,
           0.6055506,
           0.5608688,
           0.5162025,
           0.41747302,
           0.5945418,
           1,
           0.556897,
           0.5190029,
           0.63688827,
           0.37880737,
           0.44381022,
           0.51781946,
           0.5399537,
           0.41704196,
           0.48554295,
           0.5485294,
           0.36967096,
           0.4430661,
           0.513621,
           0.6526889,
           0.58241904
          ],
          [
           0.59532464,
           0.5438782,
           0.50955117,
           0.57020766,
           0.5610445,
           0.55687284,
           0.5060309,
           0.6427678,
           0.6307259,
           0.6518832,
           0.588513,
           0.5549452,
           0.5679207,
           0.5345112,
           0.48069945,
           0.73905945,
           0.56781834,
           0.5120515,
           0.55184966,
           0.58039856,
           0.556897,
           0.99999994,
           0.52398515,
           0.5500984,
           0.51150566,
           0.51039034,
           0.66603506,
           0.60318387,
           0.535382,
           0.54628944,
           0.59256136,
           0.44657174,
           0.4327054,
           0.46686837,
           0.6970711,
           0.6529995
          ],
          [
           0.54989415,
           0.6538137,
           0.50061923,
           0.35886383,
           0.5852035,
           0.723297,
           0.57346904,
           0.8057002,
           0.7317121,
           0.7124233,
           0.7761554,
           0.6470081,
           0.8314005,
           0.8410387,
           0.6697781,
           0.6677077,
           0.5989187,
           0.61195755,
           0.48342896,
           0.7543291,
           0.5190029,
           0.52398515,
           1,
           0.71504927,
           0.56834555,
           0.6679907,
           0.61461747,
           0.630889,
           0.34465307,
           0.4826225,
           0.63923234,
           0.37770438,
           0.60059106,
           0.66766083,
           0.4476409,
           0.56881905
          ],
          [
           0.524033,
           0.6879349,
           0.6308671,
           0.60430557,
           0.61072195,
           0.7405096,
           0.7560563,
           0.7668023,
           0.7103312,
           0.69441986,
           0.79795414,
           0.70278245,
           0.7814877,
           0.7719426,
           0.6643232,
           0.6249465,
           0.5183229,
           0.61065143,
           0.5515022,
           0.7752397,
           0.63688827,
           0.5500984,
           0.71504927,
           1,
           0.52020174,
           0.5315695,
           0.5286207,
           0.5802983,
           0.38891557,
           0.4633225,
           0.671737,
           0.42581183,
           0.5620637,
           0.5537356,
           0.50388396,
           0.55927587
          ],
          [
           0.6849547,
           0.61211324,
           0.56233096,
           0.39050186,
           0.60256946,
           0.60606235,
           0.50695395,
           0.56095797,
           0.58134866,
           0.48587415,
           0.6092185,
           0.51206595,
           0.56521285,
           0.6456126,
           0.6031176,
           0.6261631,
           0.6158048,
           0.6043262,
           0.58548516,
           0.60506773,
           0.37880737,
           0.51150566,
           0.56834555,
           0.52020174,
           1,
           0.49806046,
           0.43909863,
           0.39668387,
           0.50540555,
           0.630973,
           0.4834816,
           0.48977393,
           0.51312196,
           0.4563514,
           0.41212523,
           0.5153141
          ],
          [
           0.55041456,
           0.57952094,
           0.47298694,
           0.32421148,
           0.42370594,
           0.5856013,
           0.37695175,
           0.69353163,
           0.64894754,
           0.651348,
           0.70929265,
           0.5193615,
           0.6434944,
           0.70242214,
           0.51475084,
           0.5829803,
           0.6715191,
           0.53681594,
           0.54746854,
           0.6232765,
           0.44381022,
           0.51039034,
           0.6679907,
           0.5315695,
           0.49806046,
           1,
           0.63469195,
           0.73679316,
           0.39957678,
           0.49003884,
           0.5204337,
           0.26074368,
           0.64149976,
           0.8172714,
           0.43390423,
           0.54879993
          ],
          [
           0.4807898,
           0.4871045,
           0.53432345,
           0.45241362,
           0.44630277,
           0.52495754,
           0.3800112,
           0.70234996,
           0.6304616,
           0.63131297,
           0.5706023,
           0.54365647,
           0.56885725,
           0.5817934,
           0.45395374,
           0.6342675,
           0.5798183,
           0.45295477,
           0.40447265,
           0.5872515,
           0.51781946,
           0.66603506,
           0.61461747,
           0.5286207,
           0.43909863,
           0.63469195,
           1.0000002,
           0.7142668,
           0.41543573,
           0.42919418,
           0.5032098,
           0.30514628,
           0.4796555,
           0.5955883,
           0.49858317,
           0.6302166
          ],
          [
           0.3724305,
           0.620472,
           0.39548752,
           0.35843053,
           0.34680766,
           0.53882277,
           0.35511616,
           0.7584807,
           0.67572737,
           0.76657325,
           0.72604,
           0.5985025,
           0.6402633,
           0.66217124,
           0.45083314,
           0.5762454,
           0.6087812,
           0.43252698,
           0.5085628,
           0.65536296,
           0.5399537,
           0.60318387,
           0.630889,
           0.5802983,
           0.39668387,
           0.73679316,
           0.7142668,
           1,
           0.4274534,
           0.3893085,
           0.57078934,
           0.16852795,
           0.5074638,
           0.8013431,
           0.5984572,
           0.56781554
          ],
          [
           0.6100949,
           0.54908013,
           0.45895314,
           0.4824935,
           0.4577917,
           0.42091686,
           0.37259054,
           0.43011612,
           0.4844967,
           0.39690012,
           0.4356376,
           0.41665357,
           0.3525379,
           0.44480544,
           0.41943252,
           0.4726761,
           0.5068885,
           0.3564897,
           0.44651383,
           0.37098342,
           0.41704196,
           0.535382,
           0.34465307,
           0.38891557,
           0.50540555,
           0.39957678,
           0.41543573,
           0.4274534,
           1,
           0.57261366,
           0.37467992,
           0.3295686,
           0.34828162,
           0.39984566,
           0.48709172,
           0.47359282
          ],
          [
           0.788059,
           0.59894204,
           0.57300234,
           0.5271771,
           0.5998549,
           0.5584905,
           0.47115356,
           0.48290786,
           0.464118,
           0.4958433,
           0.5467103,
           0.46774453,
           0.45189673,
           0.55479276,
           0.5130299,
           0.6717875,
           0.63235074,
           0.56803286,
           0.48525763,
           0.51540536,
           0.48554295,
           0.54628944,
           0.4826225,
           0.4633225,
           0.630973,
           0.49003884,
           0.42919418,
           0.3893085,
           0.57261366,
           1.0000002,
           0.5512513,
           0.48271632,
           0.526704,
           0.4082443,
           0.5071669,
           0.53753537
          ],
          [
           0.6050691,
           0.79708934,
           0.52860576,
           0.4214985,
           0.6389072,
           0.67006594,
           0.6145382,
           0.68574107,
           0.60097873,
           0.6956271,
           0.80331933,
           0.67315286,
           0.71146387,
           0.7304144,
           0.5863924,
           0.7296606,
           0.5022158,
           0.6230724,
           0.5838897,
           0.6436595,
           0.5485294,
           0.59256136,
           0.63923234,
           0.671737,
           0.4834816,
           0.5204337,
           0.5032098,
           0.57078934,
           0.37467992,
           0.5512513,
           1.0000001,
           0.4702026,
           0.5658762,
           0.50938416,
           0.5026905,
           0.5787823
          ],
          [
           0.60958827,
           0.3986321,
           0.5862287,
           0.4226913,
           0.6677675,
           0.5592637,
           0.6040467,
           0.30976984,
           0.47192168,
           0.31375,
           0.43820113,
           0.4824421,
           0.40035373,
           0.39856675,
           0.5403429,
           0.4773987,
           0.38391602,
           0.5586506,
           0.43688354,
           0.5443226,
           0.36967096,
           0.44657174,
           0.37770438,
           0.42581183,
           0.48977393,
           0.26074368,
           0.30514628,
           0.16852795,
           0.3295686,
           0.48271632,
           0.4702026,
           1,
           0.4041234,
           0.18862367,
           0.34272826,
           0.4471979
          ],
          [
           0.5838493,
           0.60696936,
           0.5289342,
           0.35072595,
           0.5754025,
           0.6092591,
           0.49205625,
           0.57825476,
           0.5432271,
           0.51324725,
           0.65944,
           0.5495898,
           0.60433966,
           0.66141015,
           0.57539976,
           0.55265576,
           0.55161154,
           0.6401128,
           0.4485987,
           0.60858357,
           0.4430661,
           0.4327054,
           0.60059106,
           0.5620637,
           0.51312196,
           0.64149976,
           0.4796555,
           0.5074638,
           0.34828162,
           0.526704,
           0.5658762,
           0.4041234,
           0.99999994,
           0.5629314,
           0.40943757,
           0.5252252
          ],
          [
           0.3900587,
           0.6092386,
           0.43655026,
           0.31685916,
           0.37395403,
           0.5752993,
           0.3427123,
           0.7169587,
           0.7007185,
           0.70313525,
           0.7151995,
           0.5340023,
           0.62112117,
           0.70190763,
           0.50577354,
           0.5485344,
           0.71426994,
           0.4494985,
           0.44944477,
           0.64802635,
           0.513621,
           0.46686837,
           0.66766083,
           0.5537356,
           0.4563514,
           0.8172714,
           0.5955883,
           0.8013431,
           0.39984566,
           0.4082443,
           0.50938416,
           0.18862367,
           0.5629314,
           1,
           0.47860658,
           0.5324767
          ],
          [
           0.50322163,
           0.5574231,
           0.43893012,
           0.56651706,
           0.49272352,
           0.5472611,
           0.47341928,
           0.58509564,
           0.6222646,
           0.5495138,
           0.57740605,
           0.6425577,
           0.4502527,
           0.46696052,
           0.3697704,
           0.5612025,
           0.54658294,
           0.44932437,
           0.50414383,
           0.54522604,
           0.6526889,
           0.6970711,
           0.4476409,
           0.50388396,
           0.41212523,
           0.43390423,
           0.49858317,
           0.5984572,
           0.48709172,
           0.5071669,
           0.5026905,
           0.34272826,
           0.40943757,
           0.47860658,
           1,
           0.54858637
          ],
          [
           0.6300999,
           0.53708094,
           0.68341976,
           0.6166856,
           0.60209984,
           0.6308011,
           0.50025123,
           0.6618748,
           0.66055834,
           0.6155988,
           0.6026355,
           0.6293164,
           0.5552398,
           0.6588026,
           0.5463009,
           0.6658741,
           0.6567609,
           0.5393277,
           0.41678727,
           0.6147901,
           0.58241904,
           0.6529995,
           0.56881905,
           0.55927587,
           0.5153141,
           0.54879993,
           0.6302166,
           0.56781554,
           0.47359282,
           0.53753537,
           0.5787823,
           0.4471979,
           0.5252252,
           0.5324767,
           0.54858637,
           1
          ]
         ]
        }
       ],
       "layout": {
        "coloraxis": {
         "colorbar": {
          "title": {
           "text": "Similarity Score"
          }
         },
         "colorscale": [
          [
           0,
           "rgb(247,252,240)"
          ],
          [
           0.125,
           "rgb(224,243,219)"
          ],
          [
           0.25,
           "rgb(204,235,197)"
          ],
          [
           0.375,
           "rgb(168,221,181)"
          ],
          [
           0.5,
           "rgb(123,204,196)"
          ],
          [
           0.625,
           "rgb(78,179,211)"
          ],
          [
           0.75,
           "rgb(43,140,190)"
          ],
          [
           0.875,
           "rgb(8,104,172)"
          ],
          [
           1,
           "rgb(8,64,129)"
          ]
         ]
        },
        "height": 800,
        "hoverlabel": {
         "bgcolor": "white",
         "font": {
          "family": "Rockwell",
          "size": 16
         }
        },
        "legend": {
         "title": {
          "text": "Trend"
         }
        },
        "margin": {
         "t": 60
        },
        "showlegend": true,
        "template": {
         "data": {
          "bar": [
           {
            "error_x": {
             "color": "#2a3f5f"
            },
            "error_y": {
             "color": "#2a3f5f"
            },
            "marker": {
             "line": {
              "color": "#E5ECF6",
              "width": 0.5
             },
             "pattern": {
              "fillmode": "overlay",
              "size": 10,
              "solidity": 0.2
             }
            },
            "type": "bar"
           }
          ],
          "barpolar": [
           {
            "marker": {
             "line": {
              "color": "#E5ECF6",
              "width": 0.5
             },
             "pattern": {
              "fillmode": "overlay",
              "size": 10,
              "solidity": 0.2
             }
            },
            "type": "barpolar"
           }
          ],
          "carpet": [
           {
            "aaxis": {
             "endlinecolor": "#2a3f5f",
             "gridcolor": "white",
             "linecolor": "white",
             "minorgridcolor": "white",
             "startlinecolor": "#2a3f5f"
            },
            "baxis": {
             "endlinecolor": "#2a3f5f",
             "gridcolor": "white",
             "linecolor": "white",
             "minorgridcolor": "white",
             "startlinecolor": "#2a3f5f"
            },
            "type": "carpet"
           }
          ],
          "choropleth": [
           {
            "colorbar": {
             "outlinewidth": 0,
             "ticks": ""
            },
            "type": "choropleth"
           }
          ],
          "contour": [
           {
            "colorbar": {
             "outlinewidth": 0,
             "ticks": ""
            },
            "colorscale": [
             [
              0,
              "#0d0887"
             ],
             [
              0.1111111111111111,
              "#46039f"
             ],
             [
              0.2222222222222222,
              "#7201a8"
             ],
             [
              0.3333333333333333,
              "#9c179e"
             ],
             [
              0.4444444444444444,
              "#bd3786"
             ],
             [
              0.5555555555555556,
              "#d8576b"
             ],
             [
              0.6666666666666666,
              "#ed7953"
             ],
             [
              0.7777777777777778,
              "#fb9f3a"
             ],
             [
              0.8888888888888888,
              "#fdca26"
             ],
             [
              1,
              "#f0f921"
             ]
            ],
            "type": "contour"
           }
          ],
          "contourcarpet": [
           {
            "colorbar": {
             "outlinewidth": 0,
             "ticks": ""
            },
            "type": "contourcarpet"
           }
          ],
          "heatmap": [
           {
            "colorbar": {
             "outlinewidth": 0,
             "ticks": ""
            },
            "colorscale": [
             [
              0,
              "#0d0887"
             ],
             [
              0.1111111111111111,
              "#46039f"
             ],
             [
              0.2222222222222222,
              "#7201a8"
             ],
             [
              0.3333333333333333,
              "#9c179e"
             ],
             [
              0.4444444444444444,
              "#bd3786"
             ],
             [
              0.5555555555555556,
              "#d8576b"
             ],
             [
              0.6666666666666666,
              "#ed7953"
             ],
             [
              0.7777777777777778,
              "#fb9f3a"
             ],
             [
              0.8888888888888888,
              "#fdca26"
             ],
             [
              1,
              "#f0f921"
             ]
            ],
            "type": "heatmap"
           }
          ],
          "heatmapgl": [
           {
            "colorbar": {
             "outlinewidth": 0,
             "ticks": ""
            },
            "colorscale": [
             [
              0,
              "#0d0887"
             ],
             [
              0.1111111111111111,
              "#46039f"
             ],
             [
              0.2222222222222222,
              "#7201a8"
             ],
             [
              0.3333333333333333,
              "#9c179e"
             ],
             [
              0.4444444444444444,
              "#bd3786"
             ],
             [
              0.5555555555555556,
              "#d8576b"
             ],
             [
              0.6666666666666666,
              "#ed7953"
             ],
             [
              0.7777777777777778,
              "#fb9f3a"
             ],
             [
              0.8888888888888888,
              "#fdca26"
             ],
             [
              1,
              "#f0f921"
             ]
            ],
            "type": "heatmapgl"
           }
          ],
          "histogram": [
           {
            "marker": {
             "pattern": {
              "fillmode": "overlay",
              "size": 10,
              "solidity": 0.2
             }
            },
            "type": "histogram"
           }
          ],
          "histogram2d": [
           {
            "colorbar": {
             "outlinewidth": 0,
             "ticks": ""
            },
            "colorscale": [
             [
              0,
              "#0d0887"
             ],
             [
              0.1111111111111111,
              "#46039f"
             ],
             [
              0.2222222222222222,
              "#7201a8"
             ],
             [
              0.3333333333333333,
              "#9c179e"
             ],
             [
              0.4444444444444444,
              "#bd3786"
             ],
             [
              0.5555555555555556,
              "#d8576b"
             ],
             [
              0.6666666666666666,
              "#ed7953"
             ],
             [
              0.7777777777777778,
              "#fb9f3a"
             ],
             [
              0.8888888888888888,
              "#fdca26"
             ],
             [
              1,
              "#f0f921"
             ]
            ],
            "type": "histogram2d"
           }
          ],
          "histogram2dcontour": [
           {
            "colorbar": {
             "outlinewidth": 0,
             "ticks": ""
            },
            "colorscale": [
             [
              0,
              "#0d0887"
             ],
             [
              0.1111111111111111,
              "#46039f"
             ],
             [
              0.2222222222222222,
              "#7201a8"
             ],
             [
              0.3333333333333333,
              "#9c179e"
             ],
             [
              0.4444444444444444,
              "#bd3786"
             ],
             [
              0.5555555555555556,
              "#d8576b"
             ],
             [
              0.6666666666666666,
              "#ed7953"
             ],
             [
              0.7777777777777778,
              "#fb9f3a"
             ],
             [
              0.8888888888888888,
              "#fdca26"
             ],
             [
              1,
              "#f0f921"
             ]
            ],
            "type": "histogram2dcontour"
           }
          ],
          "mesh3d": [
           {
            "colorbar": {
             "outlinewidth": 0,
             "ticks": ""
            },
            "type": "mesh3d"
           }
          ],
          "parcoords": [
           {
            "line": {
             "colorbar": {
              "outlinewidth": 0,
              "ticks": ""
             }
            },
            "type": "parcoords"
           }
          ],
          "pie": [
           {
            "automargin": true,
            "type": "pie"
           }
          ],
          "scatter": [
           {
            "fillpattern": {
             "fillmode": "overlay",
             "size": 10,
             "solidity": 0.2
            },
            "type": "scatter"
           }
          ],
          "scatter3d": [
           {
            "line": {
             "colorbar": {
              "outlinewidth": 0,
              "ticks": ""
             }
            },
            "marker": {
             "colorbar": {
              "outlinewidth": 0,
              "ticks": ""
             }
            },
            "type": "scatter3d"
           }
          ],
          "scattercarpet": [
           {
            "marker": {
             "colorbar": {
              "outlinewidth": 0,
              "ticks": ""
             }
            },
            "type": "scattercarpet"
           }
          ],
          "scattergeo": [
           {
            "marker": {
             "colorbar": {
              "outlinewidth": 0,
              "ticks": ""
             }
            },
            "type": "scattergeo"
           }
          ],
          "scattergl": [
           {
            "marker": {
             "colorbar": {
              "outlinewidth": 0,
              "ticks": ""
             }
            },
            "type": "scattergl"
           }
          ],
          "scattermapbox": [
           {
            "marker": {
             "colorbar": {
              "outlinewidth": 0,
              "ticks": ""
             }
            },
            "type": "scattermapbox"
           }
          ],
          "scatterpolar": [
           {
            "marker": {
             "colorbar": {
              "outlinewidth": 0,
              "ticks": ""
             }
            },
            "type": "scatterpolar"
           }
          ],
          "scatterpolargl": [
           {
            "marker": {
             "colorbar": {
              "outlinewidth": 0,
              "ticks": ""
             }
            },
            "type": "scatterpolargl"
           }
          ],
          "scatterternary": [
           {
            "marker": {
             "colorbar": {
              "outlinewidth": 0,
              "ticks": ""
             }
            },
            "type": "scatterternary"
           }
          ],
          "surface": [
           {
            "colorbar": {
             "outlinewidth": 0,
             "ticks": ""
            },
            "colorscale": [
             [
              0,
              "#0d0887"
             ],
             [
              0.1111111111111111,
              "#46039f"
             ],
             [
              0.2222222222222222,
              "#7201a8"
             ],
             [
              0.3333333333333333,
              "#9c179e"
             ],
             [
              0.4444444444444444,
              "#bd3786"
             ],
             [
              0.5555555555555556,
              "#d8576b"
             ],
             [
              0.6666666666666666,
              "#ed7953"
             ],
             [
              0.7777777777777778,
              "#fb9f3a"
             ],
             [
              0.8888888888888888,
              "#fdca26"
             ],
             [
              1,
              "#f0f921"
             ]
            ],
            "type": "surface"
           }
          ],
          "table": [
           {
            "cells": {
             "fill": {
              "color": "#EBF0F8"
             },
             "line": {
              "color": "white"
             }
            },
            "header": {
             "fill": {
              "color": "#C8D4E3"
             },
             "line": {
              "color": "white"
             }
            },
            "type": "table"
           }
          ]
         },
         "layout": {
          "annotationdefaults": {
           "arrowcolor": "#2a3f5f",
           "arrowhead": 0,
           "arrowwidth": 1
          },
          "autotypenumbers": "strict",
          "coloraxis": {
           "colorbar": {
            "outlinewidth": 0,
            "ticks": ""
           }
          },
          "colorscale": {
           "diverging": [
            [
             0,
             "#8e0152"
            ],
            [
             0.1,
             "#c51b7d"
            ],
            [
             0.2,
             "#de77ae"
            ],
            [
             0.3,
             "#f1b6da"
            ],
            [
             0.4,
             "#fde0ef"
            ],
            [
             0.5,
             "#f7f7f7"
            ],
            [
             0.6,
             "#e6f5d0"
            ],
            [
             0.7,
             "#b8e186"
            ],
            [
             0.8,
             "#7fbc41"
            ],
            [
             0.9,
             "#4d9221"
            ],
            [
             1,
             "#276419"
            ]
           ],
           "sequential": [
            [
             0,
             "#0d0887"
            ],
            [
             0.1111111111111111,
             "#46039f"
            ],
            [
             0.2222222222222222,
             "#7201a8"
            ],
            [
             0.3333333333333333,
             "#9c179e"
            ],
            [
             0.4444444444444444,
             "#bd3786"
            ],
            [
             0.5555555555555556,
             "#d8576b"
            ],
            [
             0.6666666666666666,
             "#ed7953"
            ],
            [
             0.7777777777777778,
             "#fb9f3a"
            ],
            [
             0.8888888888888888,
             "#fdca26"
            ],
            [
             1,
             "#f0f921"
            ]
           ],
           "sequentialminus": [
            [
             0,
             "#0d0887"
            ],
            [
             0.1111111111111111,
             "#46039f"
            ],
            [
             0.2222222222222222,
             "#7201a8"
            ],
            [
             0.3333333333333333,
             "#9c179e"
            ],
            [
             0.4444444444444444,
             "#bd3786"
            ],
            [
             0.5555555555555556,
             "#d8576b"
            ],
            [
             0.6666666666666666,
             "#ed7953"
            ],
            [
             0.7777777777777778,
             "#fb9f3a"
            ],
            [
             0.8888888888888888,
             "#fdca26"
            ],
            [
             1,
             "#f0f921"
            ]
           ]
          },
          "colorway": [
           "#636efa",
           "#EF553B",
           "#00cc96",
           "#ab63fa",
           "#FFA15A",
           "#19d3f3",
           "#FF6692",
           "#B6E880",
           "#FF97FF",
           "#FECB52"
          ],
          "font": {
           "color": "#2a3f5f"
          },
          "geo": {
           "bgcolor": "white",
           "lakecolor": "white",
           "landcolor": "#E5ECF6",
           "showlakes": true,
           "showland": true,
           "subunitcolor": "white"
          },
          "hoverlabel": {
           "align": "left"
          },
          "hovermode": "closest",
          "mapbox": {
           "style": "light"
          },
          "paper_bgcolor": "white",
          "plot_bgcolor": "#E5ECF6",
          "polar": {
           "angularaxis": {
            "gridcolor": "white",
            "linecolor": "white",
            "ticks": ""
           },
           "bgcolor": "#E5ECF6",
           "radialaxis": {
            "gridcolor": "white",
            "linecolor": "white",
            "ticks": ""
           }
          },
          "scene": {
           "xaxis": {
            "backgroundcolor": "#E5ECF6",
            "gridcolor": "white",
            "gridwidth": 2,
            "linecolor": "white",
            "showbackground": true,
            "ticks": "",
            "zerolinecolor": "white"
           },
           "yaxis": {
            "backgroundcolor": "#E5ECF6",
            "gridcolor": "white",
            "gridwidth": 2,
            "linecolor": "white",
            "showbackground": true,
            "ticks": "",
            "zerolinecolor": "white"
           },
           "zaxis": {
            "backgroundcolor": "#E5ECF6",
            "gridcolor": "white",
            "gridwidth": 2,
            "linecolor": "white",
            "showbackground": true,
            "ticks": "",
            "zerolinecolor": "white"
           }
          },
          "shapedefaults": {
           "line": {
            "color": "#2a3f5f"
           }
          },
          "ternary": {
           "aaxis": {
            "gridcolor": "white",
            "linecolor": "white",
            "ticks": ""
           },
           "baxis": {
            "gridcolor": "white",
            "linecolor": "white",
            "ticks": ""
           },
           "bgcolor": "#E5ECF6",
           "caxis": {
            "gridcolor": "white",
            "linecolor": "white",
            "ticks": ""
           }
          },
          "title": {
           "x": 0.05
          },
          "xaxis": {
           "automargin": true,
           "gridcolor": "white",
           "linecolor": "white",
           "ticks": "",
           "title": {
            "standoff": 15
           },
           "zerolinecolor": "white",
           "zerolinewidth": 2
          },
          "yaxis": {
           "automargin": true,
           "gridcolor": "white",
           "linecolor": "white",
           "ticks": "",
           "title": {
            "standoff": 15
           },
           "zerolinecolor": "white",
           "zerolinewidth": 2
          }
         }
        },
        "title": {
         "font": {
          "color": "Black",
          "size": 22
         },
         "text": "<b>Similarity Matrix</b>",
         "x": 0.55,
         "xanchor": "center",
         "y": 0.95,
         "yanchor": "top"
        },
        "width": 800,
        "xaxis": {
         "anchor": "y",
         "constrain": "domain",
         "domain": [
          0,
          1
         ],
         "scaleanchor": "y"
        },
        "yaxis": {
         "anchor": "x",
         "autorange": "reversed",
         "constrain": "domain",
         "domain": [
          0,
          1
         ]
        }
       }
      },
      "image/png": "[encoded data removed]",
      "text/html": [
       "<div>                            <div id=\"77611dcb-3cbe-4925-bda3-48178741d3be\" class=\"plotly-graph-div\" style=\"height:800px; width:800px;\"></div>            <script type=\"text/javascript\">                require([\"plotly\"], function(Plotly) {                    window.PLOTLYENV=window.PLOTLYENV || {};                                    if (document.getElementById(\"77611dcb-3cbe-4925-bda3-48178741d3be\")) {                    Plotly.newPlot(                        \"77611dcb-3cbe-4925-bda3-48178741d3be\",                        [{\"coloraxis\":\"coloraxis\",\"name\":\"0\",\"x\":[\"0_semst_the_you\",\"1_women_men_laws\",\"2_pray_prayer_prayers\",\"3_evil_love_jesus\",\"4_rally4life_repealthe8th_he\",\"5_black_blacklivesmatter_pa...\",\"6_gaymarriage_marriage_scotus\",\"7_abortion_wrong_abort\",\"8_kill_killing_but\",\"9_pro_choice_can\",\"10_feminism_against_dehuman...\",\"11_equal_equality_unborn\",\"12_abortion_illegal_it\",\"13_abortion_glennbeck_plans\",\"14_texas_scotus_clinics\",\"15_prolife_life_pro\",\"16_adoption_parents_childcare\",\"17_justintrudeau_peipoli_cd...\",\"18_body_use_rapeculture\",\"19_ronald_limb_em\",\"20_nation_pope_children\",\"21_life_human_womb\",\"22_yr_000_est\",\"23_christian_catholic_conse...\",\"24_medical_this_notyours\",\"25_pregnant_whoa_consenting\",\"26_conception_heart_starts\",\"27_autonomy_bodily_fetus\",\"28_best_know_what\",\"29_utilized_wonderful_uberf...\",\"30_feminist_feminists_less\",\"31_wakeupamerica_2a_proisrael\",\"32_bristol_second_palin\",\"33_pregnancy_enough_whether\",\"34_human_worth_life\",\"35_voice_unborn_for\"],\"y\":[\"0_semst_the_you\",\"1_women_men_laws\",\"2_pray_prayer_prayers\",\"3_evil_love_jesus\",\"4_rally4life_repealthe8th_he\",\"5_black_blacklivesmatter_pa...\",\"6_gaymarriage_marriage_scotus\",\"7_abortion_wrong_abort\",\"8_kill_killing_but\",\"9_pro_choice_can\",\"10_feminism_against_dehuman...\",\"11_equal_equality_unborn\",\"12_abortion_illegal_it\",\"13_abortion_glennbeck_plans\",\"14_texas_scotus_clinics\",\"15_prolife_life_pro\",\"16_adoption_parents_childcare\",\"17_justintrudeau_peipoli_cd...\",\"18_body_use_rapeculture\",\"19_ronald_limb_em\",\"20_nation_pope_children\",\"21_life_human_womb\",\"22_yr_000_est\",\"23_christian_catholic_conse...\",\"24_medical_this_notyours\",\"25_pregnant_whoa_consenting\",\"26_conception_heart_starts\",\"27_autonomy_bodily_fetus\",\"28_best_know_what\",\"29_utilized_wonderful_uberf...\",\"30_feminist_feminists_less\",\"31_wakeupamerica_2a_proisrael\",\"32_bristol_second_palin\",\"33_pregnancy_enough_whether\",\"34_human_worth_life\",\"35_voice_unborn_for\"],\"z\":[[1.0000001,0.666381,0.67525107,0.5991465,0.73956734,0.6681442,0.613014,0.51573056,0.5894214,0.4453331,0.61504465,0.56544024,0.54657674,0.6180545,0.60414255,0.6797465,0.65176463,0.67108345,0.5931637,0.579203,0.5043566,0.59532464,0.54989415,0.524033,0.6849547,0.55041456,0.4807898,0.3724305,0.6100949,0.788059,0.6050691,0.60958827,0.5838493,0.3900587,0.50322163,0.6300999],[0.666381,1.0,0.49911007,0.45995793,0.6453019,0.7020505,0.65699506,0.66946137,0.6557056,0.65159905,0.8367879,0.7180196,0.70683885,0.7632412,0.67555857,0.6151352,0.5537178,0.6353351,0.6784443,0.6629501,0.5665916,0.5438782,0.6538137,0.6879349,0.61211324,0.57952094,0.4871045,0.620472,0.54908013,0.59894204,0.79708934,0.3986321,0.60696936,0.6092386,0.5574231,0.53708094],[0.67525107,0.49911007,1.0000002,0.69173837,0.60599244,0.6214112,0.5484089,0.5668978,0.609375,0.47929928,0.57067555,0.5519254,0.5210134,0.5992709,0.5715741,0.6188451,0.63649535,0.61524296,0.4035918,0.59277487,0.6457918,0.50955117,0.50061923,0.6308671,0.56233096,0.47298694,0.53432345,0.39548752,0.45895314,0.57300234,0.52860576,0.5862287,0.5289342,0.43655026,0.43893012,0.68341976],[0.5991465,0.45995793,0.69173837,1.0,0.5153111,0.515578,0.5956307,0.5033718,0.52692217,0.41106677,0.4935181,0.533386,0.39262143,0.42160392,0.39811575,0.5136351,0.47125617,0.42266035,0.43472305,0.4512872,0.7001554,0.57020766,0.35886383,0.60430557,0.39050186,0.32421148,0.45241362,0.35843053,0.4824935,0.5271771,0.4214985,0.4226913,0.35072595,0.31685916,0.56651706,0.6166856],[0.73956734,0.6453019,0.60599244,0.5153111,0.9999999,0.74360317,0.6954747,0.52655375,0.6086943,0.5200895,0.64397335,0.6583897,0.6014265,0.6365311,0.6564367,0.6619495,0.56406397,0.67396796,0.56755245,0.64197475,0.49908364,0.5610445,0.5852035,0.61072195,0.60256946,0.42370594,0.44630277,0.34680766,0.4577917,0.5998549,0.6389072,0.6677675,0.5754025,0.37395403,0.49272352,0.60209984],[0.6681442,0.7020505,0.6214112,0.515578,0.74360317,0.99999964,0.7026216,0.731233,0.7653221,0.6402235,0.787728,0.7516856,0.7407069,0.75211155,0.69800246,0.6536958,0.63364136,0.6840731,0.56830764,0.7956042,0.5942141,0.55687284,0.723297,0.7405096,0.60606235,0.5856013,0.52495754,0.53882277,0.42091686,0.5584905,0.67006594,0.5592637,0.6092591,0.5752993,0.5472611,0.6308011],[0.613014,0.65699506,0.5484089,0.5956307,0.6954747,0.7026216,1.0000001,0.51779735,0.6018048,0.47007844,0.6987001,0.757091,0.61734766,0.5737181,0.7052456,0.50474775,0.43429196,0.5942987,0.559654,0.6677761,0.5589304,0.5060309,0.57346904,0.7560563,0.50695395,0.37695175,0.3800112,0.35511616,0.37259054,0.47115356,0.6145382,0.6040467,0.49205625,0.3427123,0.47341928,0.50025123],[0.51573056,0.66946137,0.5668978,0.5033718,0.52655375,0.731233,0.51779735,1.0000002,0.8137136,0.85026264,0.8105928,0.6523596,0.85489964,0.8628088,0.58685017,0.76106715,0.6125622,0.5832803,0.53817534,0.76463735,0.6484009,0.6427678,0.8057002,0.7668023,0.56095797,0.69353163,0.70234996,0.7584807,0.43011612,0.48290786,0.68574107,0.30976984,0.57825476,0.7169587,0.58509564,0.6618748],[0.5894214,0.6557056,0.609375,0.52692217,0.6086943,0.7653221,0.6018048,0.8137136,1.0000004,0.7025196,0.7781792,0.6940036,0.73987514,0.70352423,0.6276902,0.63444144,0.6791899,0.59161675,0.5861279,0.79196465,0.6802801,0.6307259,0.7317121,0.7103312,0.58134866,0.64894754,0.6304616,0.67572737,0.4844967,0.464118,0.60097873,0.47192168,0.5432271,0.7007185,0.6222646,0.66055834],[0.4453331,0.65159905,0.47929928,0.41106677,0.5200895,0.6402235,0.47007844,0.85026264,0.7025196,0.9999998,0.7540761,0.6182369,0.79210186,0.7937124,0.56356895,0.8099943,0.58279514,0.5202142,0.52225655,0.70681757,0.59326446,0.6518832,0.7124233,0.69441986,0.48587415,0.651348,0.63131297,0.76657325,0.39690012,0.4958433,0.6956271,0.31375,0.51324725,0.70313525,0.5495138,0.6155988],[0.61504465,0.8367879,0.57067555,0.4935181,0.64397335,0.787728,0.6987001,0.8105928,0.7781792,0.7540761,0.99999994,0.80874014,0.8624187,0.8385057,0.7203464,0.67475426,0.64688504,0.6839345,0.7420559,0.8182001,0.616938,0.588513,0.7761554,0.79795414,0.6092185,0.70929265,0.5706023,0.72604,0.4356376,0.5467103,0.80331933,0.43820113,0.65944,0.7151995,0.57740605,0.6026355],[0.56544024,0.7180196,0.5519254,0.533386,0.6583897,0.7516856,0.757091,0.6523596,0.6940036,0.6182369,0.80874014,0.9999999,0.6752167,0.6605598,0.651698,0.5630232,0.5886545,0.60795355,0.55771554,0.72107196,0.63087827,0.5549452,0.6470081,0.70278245,0.51206595,0.5193615,0.54365647,0.5985025,0.41665357,0.46774453,0.67315286,0.4824421,0.5495898,0.5340023,0.6425577,0.6293164],[0.54657674,0.70683885,0.5210134,0.39262143,0.6014265,0.7407069,0.61734766,0.85489964,0.73987514,0.79210186,0.8624187,0.6752167,1.0000001,0.87998176,0.7150145,0.704069,0.54153097,0.6598141,0.62012666,0.80080533,0.5291368,0.5679207,0.8314005,0.7814877,0.56521285,0.6434944,0.56885725,0.6402633,0.3525379,0.45189673,0.71146387,0.40035373,0.60433966,0.62112117,0.4502527,0.5552398],[0.6180545,0.7632412,0.5992709,0.42160392,0.6365311,0.75211155,0.5737181,0.8628088,0.70352423,0.7937124,0.8385057,0.6605598,0.87998176,1.0,0.7176132,0.750806,0.63752526,0.669628,0.5564003,0.7860237,0.5467715,0.5345112,0.8410387,0.7719426,0.6456126,0.70242214,0.5817934,0.66217124,0.44480544,0.55479276,0.7304144,0.39856675,0.66141015,0.70190763,0.46696052,0.6588026],[0.60414255,0.67555857,0.5715741,0.39811575,0.6564367,0.69800246,0.7052456,0.58685017,0.6276902,0.56356895,0.7203464,0.651698,0.7150145,0.7176132,0.9999999,0.5693805,0.56279683,0.61948055,0.56298923,0.7344926,0.43287367,0.48069945,0.6697781,0.6643232,0.6031176,0.51475084,0.45395374,0.45083314,0.41943252,0.5130299,0.5863924,0.5403429,0.57539976,0.50577354,0.3697704,0.5463009],[0.6797465,0.6151352,0.6188451,0.5136351,0.6619495,0.6536958,0.50474775,0.76106715,0.63444144,0.8099943,0.67475426,0.5630232,0.704069,0.750806,0.5693805,1.0000001,0.6369965,0.611701,0.5489216,0.6632732,0.6055506,0.73905945,0.6677077,0.6249465,0.6261631,0.5829803,0.6342675,0.5762454,0.4726761,0.6717875,0.7296606,0.4773987,0.55265576,0.5485344,0.5612025,0.6658741],[0.65176463,0.5537178,0.63649535,0.47125617,0.56406397,0.63364136,0.43429196,0.6125622,0.6791899,0.58279514,0.64688504,0.5886545,0.54153097,0.63752526,0.56279683,0.6369965,1.0,0.56356597,0.45377538,0.64006066,0.5608688,0.56781834,0.5989187,0.5183229,0.6158048,0.6715191,0.5798183,0.6087812,0.5068885,0.63235074,0.5022158,0.38391602,0.55161154,0.71426994,0.54658294,0.6567609],[0.67108345,0.6353351,0.61524296,0.42266035,0.67396796,0.6840731,0.5942987,0.5832803,0.59161675,0.5202142,0.6839345,0.60795355,0.6598141,0.669628,0.61948055,0.611701,0.56356597,1.0000002,0.54834425,0.7033377,0.5162025,0.5120515,0.61195755,0.61065143,0.6043262,0.53681594,0.45295477,0.43252698,0.3564897,0.56803286,0.6230724,0.5586506,0.6401128,0.4494985,0.44932437,0.5393277],[0.5931637,0.6784443,0.4035918,0.43472305,0.56755245,0.56830764,0.559654,0.53817534,0.5861279,0.52225655,0.7420559,0.55771554,0.62012666,0.5564003,0.56298923,0.5489216,0.45377538,0.54834425,0.9999999,0.5945473,0.41747302,0.55184966,0.48342896,0.5515022,0.58548516,0.54746854,0.40447265,0.5085628,0.44651383,0.48525763,0.5838897,0.43688354,0.4485987,0.44944477,0.50414383,0.41678727],[0.579203,0.6629501,0.59277487,0.4512872,0.64197475,0.7956042,0.6677761,0.76463735,0.79196465,0.70681757,0.8182001,0.72107196,0.80080533,0.7860237,0.7344926,0.6632732,0.64006066,0.7033377,0.5945473,0.99999994,0.5945418,0.58039856,0.7543291,0.7752397,0.60506773,0.6232765,0.5872515,0.65536296,0.37098342,0.51540536,0.6436595,0.5443226,0.60858357,0.64802635,0.54522604,0.6147901],[0.5043566,0.5665916,0.6457918,0.7001554,0.49908364,0.5942141,0.5589304,0.6484009,0.6802801,0.59326446,0.616938,0.63087827,0.5291368,0.5467715,0.43287367,0.6055506,0.5608688,0.5162025,0.41747302,0.5945418,1.0,0.556897,0.5190029,0.63688827,0.37880737,0.44381022,0.51781946,0.5399537,0.41704196,0.48554295,0.5485294,0.36967096,0.4430661,0.513621,0.6526889,0.58241904],[0.59532464,0.5438782,0.50955117,0.57020766,0.5610445,0.55687284,0.5060309,0.6427678,0.6307259,0.6518832,0.588513,0.5549452,0.5679207,0.5345112,0.48069945,0.73905945,0.56781834,0.5120515,0.55184966,0.58039856,0.556897,0.99999994,0.52398515,0.5500984,0.51150566,0.51039034,0.66603506,0.60318387,0.535382,0.54628944,0.59256136,0.44657174,0.4327054,0.46686837,0.6970711,0.6529995],[0.54989415,0.6538137,0.50061923,0.35886383,0.5852035,0.723297,0.57346904,0.8057002,0.7317121,0.7124233,0.7761554,0.6470081,0.8314005,0.8410387,0.6697781,0.6677077,0.5989187,0.61195755,0.48342896,0.7543291,0.5190029,0.52398515,1.0,0.71504927,0.56834555,0.6679907,0.61461747,0.630889,0.34465307,0.4826225,0.63923234,0.37770438,0.60059106,0.66766083,0.4476409,0.56881905],[0.524033,0.6879349,0.6308671,0.60430557,0.61072195,0.7405096,0.7560563,0.7668023,0.7103312,0.69441986,0.79795414,0.70278245,0.7814877,0.7719426,0.6643232,0.6249465,0.5183229,0.61065143,0.5515022,0.7752397,0.63688827,0.5500984,0.71504927,1.0,0.52020174,0.5315695,0.5286207,0.5802983,0.38891557,0.4633225,0.671737,0.42581183,0.5620637,0.5537356,0.50388396,0.55927587],[0.6849547,0.61211324,0.56233096,0.39050186,0.60256946,0.60606235,0.50695395,0.56095797,0.58134866,0.48587415,0.6092185,0.51206595,0.56521285,0.6456126,0.6031176,0.6261631,0.6158048,0.6043262,0.58548516,0.60506773,0.37880737,0.51150566,0.56834555,0.52020174,1.0,0.49806046,0.43909863,0.39668387,0.50540555,0.630973,0.4834816,0.48977393,0.51312196,0.4563514,0.41212523,0.5153141],[0.55041456,0.57952094,0.47298694,0.32421148,0.42370594,0.5856013,0.37695175,0.69353163,0.64894754,0.651348,0.70929265,0.5193615,0.6434944,0.70242214,0.51475084,0.5829803,0.6715191,0.53681594,0.54746854,0.6232765,0.44381022,0.51039034,0.6679907,0.5315695,0.49806046,1.0,0.63469195,0.73679316,0.39957678,0.49003884,0.5204337,0.26074368,0.64149976,0.8172714,0.43390423,0.54879993],[0.4807898,0.4871045,0.53432345,0.45241362,0.44630277,0.52495754,0.3800112,0.70234996,0.6304616,0.63131297,0.5706023,0.54365647,0.56885725,0.5817934,0.45395374,0.6342675,0.5798183,0.45295477,0.40447265,0.5872515,0.51781946,0.66603506,0.61461747,0.5286207,0.43909863,0.63469195,1.0000002,0.7142668,0.41543573,0.42919418,0.5032098,0.30514628,0.4796555,0.5955883,0.49858317,0.6302166],[0.3724305,0.620472,0.39548752,0.35843053,0.34680766,0.53882277,0.35511616,0.7584807,0.67572737,0.76657325,0.72604,0.5985025,0.6402633,0.66217124,0.45083314,0.5762454,0.6087812,0.43252698,0.5085628,0.65536296,0.5399537,0.60318387,0.630889,0.5802983,0.39668387,0.73679316,0.7142668,1.0,0.4274534,0.3893085,0.57078934,0.16852795,0.5074638,0.8013431,0.5984572,0.56781554],[0.6100949,0.54908013,0.45895314,0.4824935,0.4577917,0.42091686,0.37259054,0.43011612,0.4844967,0.39690012,0.4356376,0.41665357,0.3525379,0.44480544,0.41943252,0.4726761,0.5068885,0.3564897,0.44651383,0.37098342,0.41704196,0.535382,0.34465307,0.38891557,0.50540555,0.39957678,0.41543573,0.4274534,1.0,0.57261366,0.37467992,0.3295686,0.34828162,0.39984566,0.48709172,0.47359282],[0.788059,0.59894204,0.57300234,0.5271771,0.5998549,0.5584905,0.47115356,0.48290786,0.464118,0.4958433,0.5467103,0.46774453,0.45189673,0.55479276,0.5130299,0.6717875,0.63235074,0.56803286,0.48525763,0.51540536,0.48554295,0.54628944,0.4826225,0.4633225,0.630973,0.49003884,0.42919418,0.3893085,0.57261366,1.0000002,0.5512513,0.48271632,0.526704,0.4082443,0.5071669,0.53753537],[0.6050691,0.79708934,0.52860576,0.4214985,0.6389072,0.67006594,0.6145382,0.68574107,0.60097873,0.6956271,0.80331933,0.67315286,0.71146387,0.7304144,0.5863924,0.7296606,0.5022158,0.6230724,0.5838897,0.6436595,0.5485294,0.59256136,0.63923234,0.671737,0.4834816,0.5204337,0.5032098,0.57078934,0.37467992,0.5512513,1.0000001,0.4702026,0.5658762,0.50938416,0.5026905,0.5787823],[0.60958827,0.3986321,0.5862287,0.4226913,0.6677675,0.5592637,0.6040467,0.30976984,0.47192168,0.31375,0.43820113,0.4824421,0.40035373,0.39856675,0.5403429,0.4773987,0.38391602,0.5586506,0.43688354,0.5443226,0.36967096,0.44657174,0.37770438,0.42581183,0.48977393,0.26074368,0.30514628,0.16852795,0.3295686,0.48271632,0.4702026,1.0,0.4041234,0.18862367,0.34272826,0.4471979],[0.5838493,0.60696936,0.5289342,0.35072595,0.5754025,0.6092591,0.49205625,0.57825476,0.5432271,0.51324725,0.65944,0.5495898,0.60433966,0.66141015,0.57539976,0.55265576,0.55161154,0.6401128,0.4485987,0.60858357,0.4430661,0.4327054,0.60059106,0.5620637,0.51312196,0.64149976,0.4796555,0.5074638,0.34828162,0.526704,0.5658762,0.4041234,0.99999994,0.5629314,0.40943757,0.5252252],[0.3900587,0.6092386,0.43655026,0.31685916,0.37395403,0.5752993,0.3427123,0.7169587,0.7007185,0.70313525,0.7151995,0.5340023,0.62112117,0.70190763,0.50577354,0.5485344,0.71426994,0.4494985,0.44944477,0.64802635,0.513621,0.46686837,0.66766083,0.5537356,0.4563514,0.8172714,0.5955883,0.8013431,0.39984566,0.4082443,0.50938416,0.18862367,0.5629314,1.0,0.47860658,0.5324767],[0.50322163,0.5574231,0.43893012,0.56651706,0.49272352,0.5472611,0.47341928,0.58509564,0.6222646,0.5495138,0.57740605,0.6425577,0.4502527,0.46696052,0.3697704,0.5612025,0.54658294,0.44932437,0.50414383,0.54522604,0.6526889,0.6970711,0.4476409,0.50388396,0.41212523,0.43390423,0.49858317,0.5984572,0.48709172,0.5071669,0.5026905,0.34272826,0.40943757,0.47860658,1.0,0.54858637],[0.6300999,0.53708094,0.68341976,0.6166856,0.60209984,0.6308011,0.50025123,0.6618748,0.66055834,0.6155988,0.6026355,0.6293164,0.5552398,0.6588026,0.5463009,0.6658741,0.6567609,0.5393277,0.41678727,0.6147901,0.58241904,0.6529995,0.56881905,0.55927587,0.5153141,0.54879993,0.6302166,0.56781554,0.47359282,0.53753537,0.5787823,0.4471979,0.5252252,0.5324767,0.54858637,1.0]],\"type\":\"heatmap\",\"xaxis\":\"x\",\"yaxis\":\"y\",\"hovertemplate\":\"x: %{x}\\u003cbr\\u003ey: %{y}\\u003cbr\\u003eSimilarity Score: %{z}\\u003cextra\\u003e\\u003c\\u002fextra\\u003e\"}],                        {\"template\":{\"data\":{\"histogram2dcontour\":[{\"type\":\"histogram2dcontour\",\"colorbar\":{\"outlinewidth\":0,\"ticks\":\"\"},\"colorscale\":[[0.0,\"#0d0887\"],[0.1111111111111111,\"#46039f\"],[0.2222222222222222,\"#7201a8\"],[0.3333333333333333,\"#9c179e\"],[0.4444444444444444,\"#bd3786\"],[0.5555555555555556,\"#d8576b\"],[0.6666666666666666,\"#ed7953\"],[0.7777777777777778,\"#fb9f3a\"],[0.8888888888888888,\"#fdca26\"],[1.0,\"#f0f921\"]]}],\"choropleth\":[{\"type\":\"choropleth\",\"colorbar\":{\"outlinewidth\":0,\"ticks\":\"\"}}],\"histogram2d\":[{\"type\":\"histogram2d\",\"colorbar\":{\"outlinewidth\":0,\"ticks\":\"\"},\"colorscale\":[[0.0,\"#0d0887\"],[0.1111111111111111,\"#46039f\"],[0.2222222222222222,\"#7201a8\"],[0.3333333333333333,\"#9c179e\"],[0.4444444444444444,\"#bd3786\"],[0.5555555555555556,\"#d8576b\"],[0.6666666666666666,\"#ed7953\"],[0.7777777777777778,\"#fb9f3a\"],[0.8888888888888888,\"#fdca26\"],[1.0,\"#f0f921\"]]}],\"heatmap\":[{\"type\":\"heatmap\",\"colorbar\":{\"outlinewidth\":0,\"ticks\":\"\"},\"colorscale\":[[0.0,\"#0d0887\"],[0.1111111111111111,\"#46039f\"],[0.2222222222222222,\"#7201a8\"],[0.3333333333333333,\"#9c179e\"],[0.4444444444444444,\"#bd3786\"],[0.5555555555555556,\"#d8576b\"],[0.6666666666666666,\"#ed7953\"],[0.7777777777777778,\"#fb9f3a\"],[0.8888888888888888,\"#fdca26\"],[1.0,\"#f0f921\"]]}],\"heatmapgl\":[{\"type\":\"heatmapgl\",\"colorbar\":{\"outlinewidth\":0,\"ticks\":\"\"},\"colorscale\":[[0.0,\"#0d0887\"],[0.1111111111111111,\"#46039f\"],[0.2222222222222222,\"#7201a8\"],[0.3333333333333333,\"#9c179e\"],[0.4444444444444444,\"#bd3786\"],[0.5555555555555556,\"#d8576b\"],[0.6666666666666666,\"#ed7953\"],[0.7777777777777778,\"#fb9f3a\"],[0.8888888888888888,\"#fdca26\"],[1.0,\"#f0f921\"]]}],\"contourcarpet\":[{\"type\":\"contourcarpet\",\"colorbar\":{\"outlinewidth\":0,\"ticks\":\"\"}}],\"contour\":[{\"type\":\"contour\",\"colorbar\":{\"outlinewidth\":0,\"ticks\":\"\"},\"colorscale\":[[0.0,\"#0d0887\"],[0.1111111111111111,\"#46039f\"],[0.2222222222222222,\"#7201a8\"],[0.3333333333333333,\"#9c179e\"],[0.4444444444444444,\"#bd3786\"],[0.5555555555555556,\"#d8576b\"],[0.6666666666666666,\"#ed7953\"],[0.7777777777777778,\"#fb9f3a\"],[0.8888888888888888,\"#fdca26\"],[1.0,\"#f0f921\"]]}],\"surface\":[{\"type\":\"surface\",\"colorbar\":{\"outlinewidth\":0,\"ticks\":\"\"},\"colorscale\":[[0.0,\"#0d0887\"],[0.1111111111111111,\"#46039f\"],[0.2222222222222222,\"#7201a8\"],[0.3333333333333333,\"#9c179e\"],[0.4444444444444444,\"#bd3786\"],[0.5555555555555556,\"#d8576b\"],[0.6666666666666666,\"#ed7953\"],[0.7777777777777778,\"#fb9f3a\"],[0.8888888888888888,\"#fdca26\"],[1.0,\"#f0f921\"]]}],\"mesh3d\":[{\"type\":\"mesh3d\",\"colorbar\":{\"outlinewidth\":0,\"ticks\":\"\"}}],\"scatter\":[{\"fillpattern\":{\"fillmode\":\"overlay\",\"size\":10,\"solidity\":0.2},\"type\":\"scatter\"}],\"parcoords\":[{\"type\":\"parcoords\",\"line\":{\"colorbar\":{\"outlinewidth\":0,\"ticks\":\"\"}}}],\"scatterpolargl\":[{\"type\":\"scatterpolargl\",\"marker\":{\"colorbar\":{\"outlinewidth\":0,\"ticks\":\"\"}}}],\"bar\":[{\"error_x\":{\"color\":\"#2a3f5f\"},\"error_y\":{\"color\":\"#2a3f5f\"},\"marker\":{\"line\":{\"color\":\"#E5ECF6\",\"width\":0.5},\"pattern\":{\"fillmode\":\"overlay\",\"size\":10,\"solidity\":0.2}},\"type\":\"bar\"}],\"scattergeo\":[{\"type\":\"scattergeo\",\"marker\":{\"colorbar\":{\"outlinewidth\":0,\"ticks\":\"\"}}}],\"scatterpolar\":[{\"type\":\"scatterpolar\",\"marker\":{\"colorbar\":{\"outlinewidth\":0,\"ticks\":\"\"}}}],\"histogram\":[{\"marker\":{\"pattern\":{\"fillmode\":\"overlay\",\"size\":10,\"solidity\":0.2}},\"type\":\"histogram\"}],\"scattergl\":[{\"type\":\"scattergl\",\"marker\":{\"colorbar\":{\"outlinewidth\":0,\"ticks\":\"\"}}}],\"scatter3d\":[{\"type\":\"scatter3d\",\"line\":{\"colorbar\":{\"outlinewidth\":0,\"ticks\":\"\"}},\"marker\":{\"colorbar\":{\"outlinewidth\":0,\"ticks\":\"\"}}}],\"scattermapbox\":[{\"type\":\"scattermapbox\",\"marker\":{\"colorbar\":{\"outlinewidth\":0,\"ticks\":\"\"}}}],\"scatterternary\":[{\"type\":\"scatterternary\",\"marker\":{\"colorbar\":{\"outlinewidth\":0,\"ticks\":\"\"}}}],\"scattercarpet\":[{\"type\":\"scattercarpet\",\"marker\":{\"colorbar\":{\"outlinewidth\":0,\"ticks\":\"\"}}}],\"carpet\":[{\"aaxis\":{\"endlinecolor\":\"#2a3f5f\",\"gridcolor\":\"white\",\"linecolor\":\"white\",\"minorgridcolor\":\"white\",\"startlinecolor\":\"#2a3f5f\"},\"baxis\":{\"endlinecolor\":\"#2a3f5f\",\"gridcolor\":\"white\",\"linecolor\":\"white\",\"minorgridcolor\":\"white\",\"startlinecolor\":\"#2a3f5f\"},\"type\":\"carpet\"}],\"table\":[{\"cells\":{\"fill\":{\"color\":\"#EBF0F8\"},\"line\":{\"color\":\"white\"}},\"header\":{\"fill\":{\"color\":\"#C8D4E3\"},\"line\":{\"color\":\"white\"}},\"type\":\"table\"}],\"barpolar\":[{\"marker\":{\"line\":{\"color\":\"#E5ECF6\",\"width\":0.5},\"pattern\":{\"fillmode\":\"overlay\",\"size\":10,\"solidity\":0.2}},\"type\":\"barpolar\"}],\"pie\":[{\"automargin\":true,\"type\":\"pie\"}]},\"layout\":{\"autotypenumbers\":\"strict\",\"colorway\":[\"#636efa\",\"#EF553B\",\"#00cc96\",\"#ab63fa\",\"#FFA15A\",\"#19d3f3\",\"#FF6692\",\"#B6E880\",\"#FF97FF\",\"#FECB52\"],\"font\":{\"color\":\"#2a3f5f\"},\"hovermode\":\"closest\",\"hoverlabel\":{\"align\":\"left\"},\"paper_bgcolor\":\"white\",\"plot_bgcolor\":\"#E5ECF6\",\"polar\":{\"bgcolor\":\"#E5ECF6\",\"angularaxis\":{\"gridcolor\":\"white\",\"linecolor\":\"white\",\"ticks\":\"\"},\"radialaxis\":{\"gridcolor\":\"white\",\"linecolor\":\"white\",\"ticks\":\"\"}},\"ternary\":{\"bgcolor\":\"#E5ECF6\",\"aaxis\":{\"gridcolor\":\"white\",\"linecolor\":\"white\",\"ticks\":\"\"},\"baxis\":{\"gridcolor\":\"white\",\"linecolor\":\"white\",\"ticks\":\"\"},\"caxis\":{\"gridcolor\":\"white\",\"linecolor\":\"white\",\"ticks\":\"\"}},\"coloraxis\":{\"colorbar\":{\"outlinewidth\":0,\"ticks\":\"\"}},\"colorscale\":{\"sequential\":[[0.0,\"#0d0887\"],[0.1111111111111111,\"#46039f\"],[0.2222222222222222,\"#7201a8\"],[0.3333333333333333,\"#9c179e\"],[0.4444444444444444,\"#bd3786\"],[0.5555555555555556,\"#d8576b\"],[0.6666666666666666,\"#ed7953\"],[0.7777777777777778,\"#fb9f3a\"],[0.8888888888888888,\"#fdca26\"],[1.0,\"#f0f921\"]],\"sequentialminus\":[[0.0,\"#0d0887\"],[0.1111111111111111,\"#46039f\"],[0.2222222222222222,\"#7201a8\"],[0.3333333333333333,\"#9c179e\"],[0.4444444444444444,\"#bd3786\"],[0.5555555555555556,\"#d8576b\"],[0.6666666666666666,\"#ed7953\"],[0.7777777777777778,\"#fb9f3a\"],[0.8888888888888888,\"#fdca26\"],[1.0,\"#f0f921\"]],\"diverging\":[[0,\"#8e0152\"],[0.1,\"#c51b7d\"],[0.2,\"#de77ae\"],[0.3,\"#f1b6da\"],[0.4,\"#fde0ef\"],[0.5,\"#f7f7f7\"],[0.6,\"#e6f5d0\"],[0.7,\"#b8e186\"],[0.8,\"#7fbc41\"],[0.9,\"#4d9221\"],[1,\"#276419\"]]},\"xaxis\":{\"gridcolor\":\"white\",\"linecolor\":\"white\",\"ticks\":\"\",\"title\":{\"standoff\":15},\"zerolinecolor\":\"white\",\"automargin\":true,\"zerolinewidth\":2},\"yaxis\":{\"gridcolor\":\"white\",\"linecolor\":\"white\",\"ticks\":\"\",\"title\":{\"standoff\":15},\"zerolinecolor\":\"white\",\"automargin\":true,\"zerolinewidth\":2},\"scene\":{\"xaxis\":{\"backgroundcolor\":\"#E5ECF6\",\"gridcolor\":\"white\",\"linecolor\":\"white\",\"showbackground\":true,\"ticks\":\"\",\"zerolinecolor\":\"white\",\"gridwidth\":2},\"yaxis\":{\"backgroundcolor\":\"#E5ECF6\",\"gridcolor\":\"white\",\"linecolor\":\"white\",\"showbackground\":true,\"ticks\":\"\",\"zerolinecolor\":\"white\",\"gridwidth\":2},\"zaxis\":{\"backgroundcolor\":\"#E5ECF6\",\"gridcolor\":\"white\",\"linecolor\":\"white\",\"showbackground\":true,\"ticks\":\"\",\"zerolinecolor\":\"white\",\"gridwidth\":2}},\"shapedefaults\":{\"line\":{\"color\":\"#2a3f5f\"}},\"annotationdefaults\":{\"arrowcolor\":\"#2a3f5f\",\"arrowhead\":0,\"arrowwidth\":1},\"geo\":{\"bgcolor\":\"white\",\"landcolor\":\"#E5ECF6\",\"subunitcolor\":\"white\",\"showland\":true,\"showlakes\":true,\"lakecolor\":\"white\"},\"title\":{\"x\":0.05},\"mapbox\":{\"style\":\"light\"}}},\"xaxis\":{\"anchor\":\"y\",\"domain\":[0.0,1.0],\"scaleanchor\":\"y\",\"constrain\":\"domain\"},\"yaxis\":{\"anchor\":\"x\",\"domain\":[0.0,1.0],\"autorange\":\"reversed\",\"constrain\":\"domain\"},\"coloraxis\":{\"colorbar\":{\"title\":{\"text\":\"Similarity Score\"}},\"colorscale\":[[0.0,\"rgb(247,252,240)\"],[0.125,\"rgb(224,243,219)\"],[0.25,\"rgb(204,235,197)\"],[0.375,\"rgb(168,221,181)\"],[0.5,\"rgb(123,204,196)\"],[0.625,\"rgb(78,179,211)\"],[0.75,\"rgb(43,140,190)\"],[0.875,\"rgb(8,104,172)\"],[1.0,\"rgb(8,64,129)\"]]},\"margin\":{\"t\":60},\"title\":{\"font\":{\"size\":22,\"color\":\"Black\"},\"text\":\"\\u003cb\\u003eSimilarity Matrix\\u003c\\u002fb\\u003e\",\"y\":0.95,\"x\":0.55,\"xanchor\":\"center\",\"yanchor\":\"top\"},\"hoverlabel\":{\"font\":{\"size\":16,\"family\":\"Rockwell\"},\"bgcolor\":\"white\"},\"width\":800,\"height\":800,\"showlegend\":true,\"legend\":{\"title\":{\"text\":\"Trend\"}}},                        {\"responsive\": true}                    ).then(function(){\n",
       "                            \n",
       "var gd = document.getElementById('77611dcb-3cbe-4925-bda3-48178741d3be');\n",
       "var x = new MutationObserver(function (mutations, observer) {{\n",
       "        var display = window.getComputedStyle(gd).display;\n",
       "        if (!display || display === 'none') {{\n",
       "            console.log([gd, 'removed!']);\n",
       "            Plotly.purge(gd);\n",
       "            observer.disconnect();\n",
       "        }}\n",
       "}});\n",
       "\n",
       "// Listen for the removal of the full notebook cells\n",
       "var notebookContainer = gd.closest('#notebook-container');\n",
       "if (notebookContainer) {{\n",
       "    x.observe(notebookContainer, {childList: true});\n",
       "}}\n",
       "\n",
       "// Listen for the clearing of the current output cell\n",
       "var outputEl = gd.closest('.output');\n",
       "if (outputEl) {{\n",
       "    x.observe(outputEl, {childList: true});\n",
       "}}\n",
       "\n",
       "                        })                };                });            </script>        </div>"
      ]
     },
     "metadata": {},
     "output_type": "display_data"
    }
   ],
   "source": [
    "# Check if there are any topics different from -1\n",
    "if topic_info.shape[0] <= 1 or (topic_info[\"Topic\"].nunique() == 1 and topic_info[\"Topic\"].iloc[0] == -1):\n",
    "    print(\"Not enough topics to visualize intertopic distances.\")\n",
    "else:\n",
    "    intertopic_distance_map = topic_model.visualize_topics()\n",
    "    intertopic_distance_map.show()\n",
    "\n",
    "    similarity_heatmap = topic_model.visualize_heatmap()\n",
    "    similarity_heatmap.show()"
   ]
  },
  {
   "cell_type": "code",
   "execution_count": 43,
   "id": "bdb976bf-b0ce-4800-9149-fbaff933d7fb",
   "metadata": {},
   "outputs": [],
   "source": [
    "results_df = pd.DataFrame({\n",
    "    \"text\": all_texts_cleaned,\n",
    "    \"topic\": topics\n",
    "})\n",
    "results_df.to_excel(\"la_topics_combined.xlsx\", index=False)"
   ]
  },
  {
   "cell_type": "code",
   "execution_count": null,
   "id": "3de6ee8a-cebb-4d20-8581-db42e100fe06",
   "metadata": {},
   "outputs": [],
   "source": []
  }
 ],
 "metadata": {
  "kernelspec": {
   "display_name": "Python [conda env:base] *",
   "language": "python",
   "name": "conda-base-py"
  },
  "language_info": {
   "codemirror_mode": {
    "name": "ipython",
    "version": 3
   },
   "file_extension": ".py",
   "mimetype": "text/x-python",
   "name": "python",
   "nbconvert_exporter": "python",
   "pygments_lexer": "ipython3",
   "version": "3.12.7"
  }
 },
 "nbformat": 4,
 "nbformat_minor": 5
}

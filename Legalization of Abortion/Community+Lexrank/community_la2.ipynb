{
 "cells": [
  {
   "cell_type": "code",
   "execution_count": 1,
   "id": "5f7ee05e-84dc-4a9f-8abe-2f5141d70f99",
   "metadata": {},
   "outputs": [
    {
     "name": "stdout",
     "output_type": "stream",
     "text": [
      "C:\\Users\\jainr\\AppData\\Local\\Programs\\Python\\Python311\\Lib\\site-packages\\community\\__init__.py\n"
     ]
    }
   ],
   "source": [
    "import community\n",
    "print(community.__file__)\n"
   ]
  },
  {
   "cell_type": "code",
   "execution_count": 35,
   "id": "1940a63f-aea9-444f-af0d-b9821d327c96",
   "metadata": {},
   "outputs": [
    {
     "name": "stderr",
     "output_type": "stream",
     "text": [
      "[nltk_data] Downloading package punkt to\n",
      "[nltk_data]     C:\\Users\\jainr\\AppData\\Roaming\\nltk_data...\n",
      "[nltk_data]   Package punkt is already up-to-date!\n"
     ]
    },
    {
     "name": "stdout",
     "output_type": "stream",
     "text": [
      "✅ All community and final summaries saved to 'community_summaries.xlsx' using Weighted LexRank and pairwise similarity\n"
     ]
    }
   ],
   "source": [
    "import pandas as pd\n",
    "import networkx as nx\n",
    "import community.community_louvain as community_louvain\n",
    "import nltk\n",
    "from collections import defaultdict\n",
    "\n",
    "nltk.download('punkt')\n",
    "\n",
    "df = pd.read_excel(\"la_pairwise_similarity.xlsx\")\n",
    "\n",
    "global_similarity = defaultdict(dict)\n",
    "threshold = 0.39\n",
    "\n",
    "for _, row in df.iterrows():\n",
    "    t1, t2, score = row[\"Tweet 1\"], row[\"Tweet 2\"], row[\"Similarity Score\"]\n",
    "    if score >= threshold:\n",
    "        global_similarity[t1][t2] = score\n",
    "        global_similarity[t2][t1] = score\n",
    "\n",
    "# Step 3: Build the graph for Louvain detection\n",
    "G = nx.Graph()\n",
    "for t1 in global_similarity:\n",
    "    for t2, score in global_similarity[t1].items():\n",
    "        G.add_edge(t1, t2, weight=score)\n",
    "\n",
    "# Step 4: Louvain community detection\n",
    "partition = community_louvain.best_partition(G)\n",
    "\n",
    "# Step 5: Group tweets by community\n",
    "communities = defaultdict(list)\n",
    "for tweet, comm_id in partition.items():\n",
    "    communities[comm_id].append(tweet)\n",
    "\n",
    "# Step 6: Weighted LexRank using pairwise similarity (not cosine)\n",
    "def weighted_lexrank(sentences, threshold=0.39, top_k=65):\n",
    "    if len(sentences) <= top_k:\n",
    "        return sentences\n",
    "\n",
    "    graph = nx.Graph()\n",
    "    for i in range(len(sentences)):\n",
    "        for j in range(i + 1, len(sentences)):\n",
    "            t1, t2 = sentences[i], sentences[j]\n",
    "            score = global_similarity.get(t1, {}).get(t2, 0)\n",
    "            if score >= threshold:\n",
    "                graph.add_edge(i, j, weight=score)\n",
    "\n",
    "    if len(graph.nodes) == 0:\n",
    "        return sentences[:top_k]\n",
    "\n",
    "    scores = nx.pagerank(graph, weight='weight')\n",
    "    ranked = sorted(((scores[i], sentences[i]) for i in scores), reverse=True)\n",
    "    return [s for _, s in ranked[:top_k]]\n",
    "\n",
    "# Step 7: Summarize each community using updated LexRank\n",
    "community_summaries = {}\n",
    "all_community_sentences = []\n",
    "\n",
    "for comm_id, tweets in communities.items():\n",
    "    unique_tweets = list(set(tweets))\n",
    "    summary = weighted_lexrank(unique_tweets, threshold=0.39, top_k=65)\n",
    "    community_summaries[f\"Community_{comm_id}\"] = summary\n",
    "    all_community_sentences.extend(summary)\n",
    "\n",
    "final_summary = weighted_lexrank(all_community_sentences, threshold=0.39, top_k=65)\n",
    "\n",
    "# Step 9: Save summaries to Excel\n",
    "with pd.ExcelWriter(\"community_summaries.xlsx\") as writer:\n",
    "    for name, summary in community_summaries.items():\n",
    "        pd.DataFrame(summary, columns=[\"Summary\"]).to_excel(writer, sheet_name=name[:31], index=False)\n",
    "    pd.DataFrame(final_summary, columns=[\"Final Summary\"]).to_excel(writer, sheet_name=\"Final_Summary\", index=False)\n",
    "\n",
    "print(\"✅ All community and final summaries saved to 'community_summaries.xlsx' using Weighted LexRank and pairwise similarity\")\n"
   ]
  },
  {
   "cell_type": "code",
   "execution_count": 36,
   "id": "d8c045c4-c10f-4f11-a0f7-1cc00c7513f0",
   "metadata": {},
   "outputs": [
    {
     "name": "stdout",
     "output_type": "stream",
     "text": [
      "Community 0: 319 tweets\n",
      "Community 1: 308 tweets\n",
      "Community 2: 275 tweets\n",
      "Community 3: 29 tweets\n"
     ]
    }
   ],
   "source": [
    "\n",
    "# Print number of tweets in each community\n",
    "for cid, tweets in communities.items():\n",
    "    print(f\"Community {cid}: {len(tweets)} tweets\")"
   ]
  },
  {
   "cell_type": "code",
   "execution_count": 2,
   "id": "b22685ab-175b-4772-add8-293af5e018e6",
   "metadata": {},
   "outputs": [
    {
     "name": "stderr",
     "output_type": "stream",
     "text": [
      "[nltk_data] Downloading package punkt to\n",
      "[nltk_data]     C:\\Users\\jainr\\AppData\\Roaming\\nltk_data...\n",
      "[nltk_data]   Package punkt is already up-to-date!\n"
     ]
    },
    {
     "name": "stdout",
     "output_type": "stream",
     "text": [
      "👨 Matched Male Words & Frequencies:\n",
      "god: 2\n",
      "husband: 1\n",
      "author: 1\n",
      "fathers: 1\n",
      "he: 1\n",
      "\n",
      "👩 Matched Female Words & Frequencies:\n",
      "women: 9\n",
      "woman: 5\n",
      "feminism: 3\n",
      "mothers: 1\n",
      "girl: 1\n",
      "wife: 1\n",
      "girls: 1\n",
      "feminist: 1\n",
      "\n",
      "🧮 Total Gendered Mentions: 28\n",
      "📘 Weighted Male Score: 0.214286\n",
      "📕 Weighted Female Score: 0.785714\n",
      "📈 Weighted Inclusion Bias Score (female - male): 0.571429\n"
     ]
    },
    {
     "data": {
      "image/png": "[encoded data removed]",
      "text/plain": [
       "<Figure size 400x400 with 1 Axes>"
      ]
     },
     "metadata": {},
     "output_type": "display_data"
    }
   ],
   "source": [
    "import pandas as pd\n",
    "import re\n",
    "import matplotlib.pyplot as plt\n",
    "from nltk.tokenize import word_tokenize\n",
    "from collections import Counter\n",
    "import nltk\n",
    "\n",
    "nltk.download('punkt')\n",
    "\n",
    "# 📥 Load male and female word lists\n",
    "male_words = pd.read_csv(\"male_list.csv\", header=None)[0].str.lower().tolist()\n",
    "female_words = pd.read_csv(\"female_list.csv\", header=None)[0].str.lower().tolist()\n",
    "male_set = set(male_words)\n",
    "female_set = set(female_words)\n",
    "\n",
    "# 📄 Load Final Summary from Excel\n",
    "summary_df = pd.read_excel(\"community_summaries.xlsx\", sheet_name=\"Final_Summary\")\n",
    "sentences = summary_df[\"Final Summary\"].dropna().tolist()\n",
    "combined_summary = \" \".join(sentences)\n",
    "\n",
    "# 🔧 Preprocess summary\n",
    "def preprocess(text):\n",
    "    text = text.lower()\n",
    "    text = re.sub(r'[^\\w\\s]', '', text)\n",
    "    return word_tokenize(text)\n",
    "\n",
    "tokens = preprocess(combined_summary)\n",
    "word_freq = Counter(tokens)\n",
    "\n",
    "# 🧮 Matched gendered terms and their counts\n",
    "matched_male = {w: word_freq[w] for w in male_set if w in word_freq}\n",
    "matched_female = {w: word_freq[w] for w in female_set if w in word_freq}\n",
    "\n",
    "total_mentions = sum(matched_male.values()) + sum(matched_female.values())\n",
    "\n",
    "if total_mentions == 0:\n",
    "    male_score = female_score = bias_score = 0.0\n",
    "else:\n",
    "    male_score = sum(matched_male.values()) / total_mentions\n",
    "    female_score = sum(matched_female.values()) / total_mentions\n",
    "    bias_score = female_score - male_score\n",
    "\n",
    "# 📢 Print frequencies\n",
    "print(\"👨 Matched Male Words & Frequencies:\")\n",
    "for word, freq in sorted(matched_male.items(), key=lambda x: -x[1]):\n",
    "    print(f\"{word}: {freq}\")\n",
    "\n",
    "print(\"\\n👩 Matched Female Words & Frequencies:\")\n",
    "for word, freq in sorted(matched_female.items(), key=lambda x: -x[1]):\n",
    "    print(f\"{word}: {freq}\")\n",
    "\n",
    "print(f\"\\n🧮 Total Gendered Mentions: {total_mentions}\")\n",
    "print(f\"📘 Weighted Male Score: {male_score:.6f}\")\n",
    "print(f\"📕 Weighted Female Score: {female_score:.6f}\")\n",
    "print(f\"📈 Weighted Inclusion Bias Score (female - male): {bias_score:.6f}\")\n",
    "\n",
    "# 🖼️ Consistent Style Plot (Matching Previous Format)\n",
    "plt.figure(figsize=(4, 4))  # Compact size like original\n",
    "plt.bar([\"Gender_1\", \"Gender_2\"], [male_score, female_score], color=[\"#609db0\", \"#fdac84\"])\n",
    "plt.title(\"Inclusion Bias Scores (Community + Lexrank)\")\n",
    "plt.ylabel(\"Weighted Inclusion Bias\")\n",
    "plt.xlabel(\"Gender\")\n",
    "plt.grid(axis='y', linestyle='--', alpha=0.6)\n",
    "plt.tight_layout()\n",
    "plt.show()\n",
    "\n"
   ]
  },
  {
   "cell_type": "code",
   "execution_count": 2,
   "id": "3ec588a6-2ada-40f4-bd80-e57aa4c0e009",
   "metadata": {},
   "outputs": [
    {
     "name": "stdout",
     "output_type": "stream",
     "text": [
      "Collecting scikit-learn\n",
      "  Downloading scikit_learn-1.6.1-cp311-cp311-win_amd64.whl.metadata (15 kB)\n",
      "Requirement already satisfied: numpy>=1.19.5 in c:\\users\\jainr\\appdata\\local\\programs\\python\\python311\\lib\\site-packages (from scikit-learn) (2.2.4)\n",
      "Collecting scipy>=1.6.0 (from scikit-learn)\n",
      "  Downloading scipy-1.15.2-cp311-cp311-win_amd64.whl.metadata (60 kB)\n",
      "Requirement already satisfied: joblib>=1.2.0 in c:\\users\\jainr\\appdata\\local\\programs\\python\\python311\\lib\\site-packages (from scikit-learn) (1.4.2)\n",
      "Collecting threadpoolctl>=3.1.0 (from scikit-learn)\n",
      "  Downloading threadpoolctl-3.6.0-py3-none-any.whl.metadata (13 kB)\n",
      "Downloading scikit_learn-1.6.1-cp311-cp311-win_amd64.whl (11.1 MB)\n",
      "   ---------------------------------------- 0.0/11.1 MB ? eta -:--:--\n",
      "   - -------------------------------------- 0.5/11.1 MB 4.2 MB/s eta 0:00:03\n",
      "   --- ------------------------------------ 1.0/11.1 MB 3.4 MB/s eta 0:00:04\n",
      "   ------- -------------------------------- 2.1/11.1 MB 3.7 MB/s eta 0:00:03\n",
      "   ---------- ----------------------------- 2.9/11.1 MB 3.9 MB/s eta 0:00:03\n",
      "   -------------- ------------------------- 3.9/11.1 MB 4.1 MB/s eta 0:00:02\n",
      "   ---------------- ----------------------- 4.7/11.1 MB 4.1 MB/s eta 0:00:02\n",
      "   ------------------ --------------------- 5.2/11.1 MB 4.0 MB/s eta 0:00:02\n",
      "   ---------------------- ----------------- 6.3/11.1 MB 4.1 MB/s eta 0:00:02\n",
      "   -------------------------- ------------- 7.3/11.1 MB 4.2 MB/s eta 0:00:01\n",
      "   ------------------------------- -------- 8.7/11.1 MB 4.4 MB/s eta 0:00:01\n",
      "   ---------------------------------- ----- 9.7/11.1 MB 4.4 MB/s eta 0:00:01\n",
      "   ------------------------------------- -- 10.5/11.1 MB 4.4 MB/s eta 0:00:01\n",
      "   ---------------------------------------- 11.1/11.1 MB 4.3 MB/s eta 0:00:00\n",
      "Downloading scipy-1.15.2-cp311-cp311-win_amd64.whl (41.2 MB)\n",
      "   ---------------------------------------- 0.0/41.2 MB ? eta -:--:--\n",
      "    --------------------------------------- 0.8/41.2 MB 4.2 MB/s eta 0:00:10\n",
      "   - -------------------------------------- 1.8/41.2 MB 4.8 MB/s eta 0:00:09\n",
      "   -- ------------------------------------- 2.9/41.2 MB 4.9 MB/s eta 0:00:08\n",
      "   ---- ----------------------------------- 4.2/41.2 MB 5.2 MB/s eta 0:00:08\n",
      "   ----- ---------------------------------- 5.2/41.2 MB 5.2 MB/s eta 0:00:07\n",
      "   ------ --------------------------------- 6.3/41.2 MB 5.2 MB/s eta 0:00:07\n",
      "   ------ --------------------------------- 7.1/41.2 MB 5.1 MB/s eta 0:00:07\n",
      "   -------- ------------------------------- 8.4/41.2 MB 5.2 MB/s eta 0:00:07\n",
      "   --------- ------------------------------ 9.7/41.2 MB 5.3 MB/s eta 0:00:07\n",
      "   ---------- ----------------------------- 10.7/41.2 MB 5.3 MB/s eta 0:00:06\n",
      "   ----------- ---------------------------- 11.8/41.2 MB 5.2 MB/s eta 0:00:06\n",
      "   ------------ --------------------------- 12.8/41.2 MB 5.3 MB/s eta 0:00:06\n",
      "   ------------ --------------------------- 13.4/41.2 MB 5.1 MB/s eta 0:00:06\n",
      "   -------------- ------------------------- 14.7/41.2 MB 5.1 MB/s eta 0:00:06\n",
      "   --------------- ------------------------ 16.3/41.2 MB 5.2 MB/s eta 0:00:05\n",
      "   ----------------- ---------------------- 17.6/41.2 MB 5.3 MB/s eta 0:00:05\n",
      "   ------------------ --------------------- 18.9/41.2 MB 5.3 MB/s eta 0:00:05\n",
      "   ------------------- -------------------- 19.9/41.2 MB 5.3 MB/s eta 0:00:04\n",
      "   -------------------- ------------------- 21.0/41.2 MB 5.3 MB/s eta 0:00:04\n",
      "   --------------------- ------------------ 22.3/41.2 MB 5.3 MB/s eta 0:00:04\n",
      "   ----------------------- ---------------- 23.9/41.2 MB 5.5 MB/s eta 0:00:04\n",
      "   ------------------------ --------------- 25.4/41.2 MB 5.5 MB/s eta 0:00:03\n",
      "   ------------------------- -------------- 26.7/41.2 MB 5.6 MB/s eta 0:00:03\n",
      "   -------------------------- ------------- 27.8/41.2 MB 5.6 MB/s eta 0:00:03\n",
      "   --------------------------- ------------ 28.8/41.2 MB 5.5 MB/s eta 0:00:03\n",
      "   ---------------------------- ----------- 29.6/41.2 MB 5.5 MB/s eta 0:00:03\n",
      "   ------------------------------ --------- 30.9/41.2 MB 5.4 MB/s eta 0:00:02\n",
      "   ------------------------------- -------- 32.2/41.2 MB 5.5 MB/s eta 0:00:02\n",
      "   -------------------------------- ------- 33.8/41.2 MB 5.5 MB/s eta 0:00:02\n",
      "   ---------------------------------- ----- 35.1/41.2 MB 5.6 MB/s eta 0:00:02\n",
      "   ----------------------------------- ---- 36.7/41.2 MB 5.6 MB/s eta 0:00:01\n",
      "   ------------------------------------ --- 37.7/41.2 MB 5.6 MB/s eta 0:00:01\n",
      "   ------------------------------------- -- 38.8/41.2 MB 5.6 MB/s eta 0:00:01\n",
      "   -------------------------------------- - 39.8/41.2 MB 5.5 MB/s eta 0:00:01\n",
      "   ---------------------------------------  40.9/41.2 MB 5.5 MB/s eta 0:00:01\n",
      "   ---------------------------------------  40.9/41.2 MB 5.5 MB/s eta 0:00:01\n",
      "   ---------------------------------------  41.2/41.2 MB 5.4 MB/s eta 0:00:01\n",
      "   ---------------------------------------- 41.2/41.2 MB 5.1 MB/s eta 0:00:00\n",
      "Downloading threadpoolctl-3.6.0-py3-none-any.whl (18 kB)\n",
      "Installing collected packages: threadpoolctl, scipy, scikit-learn\n",
      "Successfully installed scikit-learn-1.6.1 scipy-1.15.2 threadpoolctl-3.6.0\n"
     ]
    }
   ],
   "source": [
    "!pip install scikit-learn\n"
   ]
  }
 ],
 "metadata": {
  "kernelspec": {
   "display_name": "Python 3 (ipykernel)",
   "language": "python",
   "name": "python3"
  },
  "language_info": {
   "codemirror_mode": {
    "name": "ipython",
    "version": 3
   },
   "file_extension": ".py",
   "mimetype": "text/x-python",
   "name": "python",
   "nbconvert_exporter": "python",
   "pygments_lexer": "ipython3",
   "version": "3.11.9"
  }
 },
 "nbformat": 4,
 "nbformat_minor": 5
}

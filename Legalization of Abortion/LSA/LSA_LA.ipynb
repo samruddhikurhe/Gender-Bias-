{
 "cells": [
  {
   "cell_type": "code",
   "execution_count": 13,
   "id": "0adf87d8-729d-46e8-a4be-8b8840845dec",
   "metadata": {},
   "outputs": [
    {
     "name": "stdout",
     "output_type": "stream",
     "text": [
      "✅ Traditional LSA summary saved to lsa_summary_la.xlsx\n"
     ]
    }
   ],
   "source": [
    "import pandas as pd\n",
    "import numpy as np\n",
    "from sklearn.feature_extraction.text import TfidfVectorizer\n",
    "from sklearn.decomposition import TruncatedSVD\n",
    "\n",
    "# === Step 1: Load pairwise file just to extract unique tweets ===\n",
    "df = pd.read_excel(\"/Users/jessicakamal/la_pairwise_similarity.xlsx\")\n",
    "\n",
    "# === Step 2: Extract all unique tweets ===\n",
    "tweets = pd.unique(df[['Tweet 1', 'Tweet 2']].values.ravel())\n",
    "\n",
    "# === Step 3: Convert tweets to TF-IDF vectors ===\n",
    "vectorizer = TfidfVectorizer(stop_words='english')\n",
    "X = vectorizer.fit_transform(tweets)\n",
    "\n",
    "# === Step 4: Apply LSA using Truncated SVD ===\n",
    "n_components = min(100, X.shape[1])  # You can adjust this as needed\n",
    "svd = TruncatedSVD(n_components=n_components)\n",
    "lsa_matrix = svd.fit_transform(X)\n",
    "\n",
    "# === Step 5: Rank tweets using vector norms in the LSA space ===\n",
    "scores = np.linalg.norm(lsa_matrix, axis=1)\n",
    "top_indices = np.argsort(scores)[::-1][:65]\n",
    "\n",
    "# === Step 6: Generate summary ===\n",
    "lsa_summary = [tweets[i] for i in top_indices]\n",
    "\n",
    "# === Step 7: Save to Excel without headers ===\n",
    "lsa_summary_df = pd.DataFrame(lsa_summary)\n",
    "lsa_summary_df.to_excel(\"/Users/jessicakamal/lsa_summary_la.xlsx\", index=False, header=False)\n",
    "\n",
    "print(\"✅ Traditional LSA summary saved to lsa_summary_la.xlsx\")\n"
   ]
  },
  {
   "cell_type": "code",
   "execution_count": 2,
   "id": "dc579fb5-eb43-413a-be8d-f1383a10f0fd",
   "metadata": {},
   "outputs": [
    {
     "name": "stdout",
     "output_type": "stream",
     "text": [
      "👨 Matched Male Words & Frequencies:\n",
      "god: 2\n",
      "men: 2\n",
      "man: 1\n",
      "\n",
      "👩 Matched Female Words & Frequencies:\n",
      "women: 9\n",
      "mother: 4\n",
      "woman: 3\n",
      "she: 2\n",
      "females: 2\n",
      "her: 1\n",
      "\n",
      "🧮 Total Gendered Mentions: 26\n",
      "📘 Weighted Male Score: 0.192308\n",
      "📕 Weighted Female Score: 0.807692\n",
      "📊 Weighted Inclusion Bias Score (female - male): 0.615385\n",
      "🟣 Summary is biased toward females.\n"
     ]
    },
    {
     "data": {
      "image/png": "[encoded data removed]",
      "text/plain": [
       "<Figure size 400x400 with 1 Axes>"
      ]
     },
     "metadata": {},
     "output_type": "display_data"
    }
   ],
   "source": [
    "import pandas as pd\n",
    "import re\n",
    "import matplotlib.pyplot as plt\n",
    "from nltk.tokenize import TreebankWordTokenizer\n",
    "from collections import Counter\n",
    "\n",
    "# ✅ Use Treebank tokenizer to avoid punkt issues\n",
    "tokenizer = TreebankWordTokenizer()\n",
    "\n",
    "# 🔧 Preprocessing function\n",
    "def preprocess(text):\n",
    "    text = text.lower()\n",
    "    text = re.sub(r'[^\\w\\s]', '', text)  # remove punctuation\n",
    "    return tokenizer.tokenize(text)\n",
    "\n",
    "# 📥 Load gender word lists\n",
    "male_words = pd.read_csv(\"/Users/jessicakamal/male_list.csv\", header=None)[0].str.lower().tolist()\n",
    "female_words = pd.read_csv(\"/Users/jessicakamal/female_list.csv\", header=None)[0].str.lower().tolist()\n",
    "male_set = set(male_words)\n",
    "female_set = set(female_words)\n",
    "\n",
    "# 📄 Load LSA summary content\n",
    "summary_df = pd.read_excel(\"/Users/jessicakamal/lsa_summary_la.xlsx\", header=None)\n",
    "sentences = summary_df[0].dropna().astype(str).tolist()\n",
    "combined_summary = \" \".join(sentences)\n",
    "\n",
    "# 🧹 Tokenize and count frequencies\n",
    "tokens = preprocess(combined_summary)\n",
    "word_freq = Counter(tokens)\n",
    "\n",
    "# 🧮 Match gendered terms and their frequencies\n",
    "matched_male = {word: word_freq[word] for word in male_set if word in word_freq}\n",
    "matched_female = {word: word_freq[word] for word in female_set if word in word_freq}\n",
    "\n",
    "# 📊 Calculate weighted inclusion bias\n",
    "total_mentions = sum(matched_male.values()) + sum(matched_female.values())\n",
    "\n",
    "if total_mentions == 0:\n",
    "    male_score = female_score = bias_score = 0.0\n",
    "else:\n",
    "    male_score = sum(matched_male.values()) / total_mentions\n",
    "    female_score = sum(matched_female.values()) / total_mentions\n",
    "    bias_score = female_score - male_score\n",
    "\n",
    "# 📢 Print frequencies\n",
    "print(\"👨 Matched Male Words & Frequencies:\")\n",
    "for word, freq in sorted(matched_male.items(), key=lambda x: -x[1]):\n",
    "    print(f\"{word}: {freq}\")\n",
    "\n",
    "print(\"\\n👩 Matched Female Words & Frequencies:\")\n",
    "for word, freq in sorted(matched_female.items(), key=lambda x: -x[1]):\n",
    "    print(f\"{word}: {freq}\")\n",
    "\n",
    "# 📈 Summary results\n",
    "print(f\"\\n🧮 Total Gendered Mentions: {total_mentions}\")\n",
    "print(f\"📘 Weighted Male Score: {male_score:.6f}\")\n",
    "print(f\"📕 Weighted Female Score: {female_score:.6f}\")\n",
    "print(f\"📊 Weighted Inclusion Bias Score (female - male): {bias_score:.6f}\")\n",
    "\n",
    "if bias_score > 0:\n",
    "    print(\"🟣 Summary is biased toward females.\")\n",
    "elif bias_score < 0:\n",
    "    print(\"🔵 Summary is biased toward males.\")\n",
    "else:\n",
    "    print(\"⚪ Summary appears neutral.\")\n",
    "\n",
    "# 📉 Plot results with custom style\n",
    "plt.figure(figsize=(4, 4))  # Smaller width\n",
    "plt.bar([\"Gender_1\", \"Gender_2\"], [male_score, female_score], color=[\"#609db0\", \"#fdac84\"])\n",
    "plt.title(\"Inclusion Bias Scores (LSA Summary of LA)\")\n",
    "plt.ylabel(\"Weighted Inclusion Bias\")\n",
    "plt.xlabel(\"Gender\")\n",
    "plt.grid(axis='y', linestyle='--', alpha=0.6)\n",
    "plt.tight_layout()\n",
    "plt.show()\n"
   ]
  },
  {
   "cell_type": "code",
   "execution_count": null,
   "id": "09af31f9-4391-41ee-8b1c-0f412f9c8957",
   "metadata": {},
   "outputs": [],
   "source": []
  }
 ],
 "metadata": {
  "kernelspec": {
   "display_name": "Python [conda env:base] *",
   "language": "python",
   "name": "conda-base-py"
  },
  "language_info": {
   "codemirror_mode": {
    "name": "ipython",
    "version": 3
   },
   "file_extension": ".py",
   "mimetype": "text/x-python",
   "name": "python",
   "nbconvert_exporter": "python",
   "pygments_lexer": "ipython3",
   "version": "3.12.7"
  }
 },
 "nbformat": 4,
 "nbformat_minor": 5
}
